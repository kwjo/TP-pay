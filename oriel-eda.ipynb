{
 "cells": [
  {
   "cell_type": "markdown",
   "metadata": {},
   "source": [
    "TODO\n",
    "- [ ] Write methodology  \n",
    "- [x] Remove irrelevant data columns in the preprocessing  \n",
    "- [x] Salary above grant and living wage  \n",
    "- [ ] Number of places available per area + average and median salary by geography  \n",
    "- [x] Number of visa available places over 3 years  \n",
    "- [ ] Hours worked per week (expectation to work on the weekends and lates in hospitals)  \n",
    "\n",
    "\n",
    "\n",
    "- https://survey.stackoverflow.co/2024/\n",
    "- https://www.gov.uk/national-minimum-wage-rates\n",
    "\n",
    "- Make online database using openai API to summarise the programme description into quick bullet points with filter function e.g. geographical"
   ]
  },
  {
   "cell_type": "code",
   "execution_count": 1,
   "metadata": {
    "vscode": {
     "languageId": "r"
    }
   },
   "outputs": [
    {
     "name": "stderr",
     "output_type": "stream",
     "text": [
      "\n",
      "Attaching package: ‘dplyr’\n",
      "\n",
      "\n",
      "The following objects are masked from ‘package:stats’:\n",
      "\n",
      "    filter, lag\n",
      "\n",
      "\n",
      "The following objects are masked from ‘package:base’:\n",
      "\n",
      "    intersect, setdiff, setequal, union\n",
      "\n",
      "\n",
      "\n",
      "Attaching package: ‘maps’\n",
      "\n",
      "\n",
      "The following object is masked from ‘package:purrr’:\n",
      "\n",
      "    map\n",
      "\n",
      "\n",
      "Warning message in readRenviron(\"/.renviron\"):\n",
      "“file '/.renviron' cannot be opened for reading”\n"
     ]
    }
   ],
   "source": [
    "library(dplyr)\n",
    "library(ggplot2)\n",
    "library(tidyr)\n",
    "library(openai)\n",
    "library(purrr)\n",
    "library(maps)\n",
    "\n",
    "readRenviron(\"/.renviron\")\n",
    "OPENAI_API_KEY <- Sys.getenv(\"open_ai_api_key\")\n",
    "\n",
    "Sys.setenv(\n",
    "    OPENAI_API_KEY = OPENAI_API_KEY\n",
    ")\n",
    "\n",
    "# Load the data\n",
    "OD2526 <- read.csv(\"oriel-training-year-2526.csv\")\n",
    "\n",
    "OD2425 <- read.csv(\"oriel-training-year-2425.csv\")\n",
    "\n",
    "OD2324 <- read.csv(\"oriel-training-year-2324.csv\")\n",
    "\n",
    "OD2223 <- read.csv(\"oriel-training-year-2223.csv\")"
   ]
  },
  {
   "cell_type": "code",
   "execution_count": 2,
   "metadata": {
    "vscode": {
     "languageId": "r"
    }
   },
   "outputs": [
    {
     "data": {
      "text/html": [
       "<style>\n",
       ".list-inline {list-style: none; margin:0; padding: 0}\n",
       ".list-inline>li {display: inline-block}\n",
       ".list-inline>li:not(:last-child)::after {content: \"\\00b7\"; padding: 0 .5ex}\n",
       "</style>\n",
       "<ol class=list-inline><li>'Programme.SystemID'</li><li>'Recruitment.Office'</li><li>'Region'</li><li>'Sub.Region'</li><li>'Sector'</li><li>'Post.Type'</li><li>'Programme.Preference'</li><li>'Abbreviation'</li><li>'Programme.Title'</li><li>'Programme.Description'</li><li>'Places.Available'</li><li>'Start.Date'</li><li>'Employer.Type'</li><li>'Employer.Name'</li><li>'Size.of.organisation..Primary.care.only.'</li><li>'Specialties..Hospital.only.'</li><li>'Skilled.worker.visa'</li><li>'Number.of.Licences'</li><li>'Salary....'</li><li>'Training.Provider'</li><li>'Employer.website'</li><li>'Hours.per.Week'</li><li>'ProgrammeNumber'</li><li>'ProgrammeName'</li><li>'ICB.Name'</li><li>'Pharmacy.Programme.Number'</li><li>'Number.of.Placements.Rotations'</li><li>'Practice.Placement.Rotation.Setting.1'</li><li>'Length.of.Placement.Rotation.1..weeks.'</li><li>'Practice.Placement.Rotation.Setting.2'</li><li>'Length.of.Placement.Rotation.2..weeks.'</li><li>'Practice.Placement.Rotation.Setting.3'</li><li>'Length.of.Placement.Rotation.3..weeks.'</li><li>'Practice.Placement.Rotation.Setting.4'</li><li>'Length.of.Placement.Rotation.4..weeks.'</li><li>'Placement.Rotation.1..SystemID'</li><li>'Placement.Rotation.2..SystemID'</li><li>'Placement.Rotation.3..SystemID'</li><li>'Placement.Rotation.4..SystemID'</li></ol>\n"
      ],
      "text/latex": [
       "\\begin{enumerate*}\n",
       "\\item 'Programme.SystemID'\n",
       "\\item 'Recruitment.Office'\n",
       "\\item 'Region'\n",
       "\\item 'Sub.Region'\n",
       "\\item 'Sector'\n",
       "\\item 'Post.Type'\n",
       "\\item 'Programme.Preference'\n",
       "\\item 'Abbreviation'\n",
       "\\item 'Programme.Title'\n",
       "\\item 'Programme.Description'\n",
       "\\item 'Places.Available'\n",
       "\\item 'Start.Date'\n",
       "\\item 'Employer.Type'\n",
       "\\item 'Employer.Name'\n",
       "\\item 'Size.of.organisation..Primary.care.only.'\n",
       "\\item 'Specialties..Hospital.only.'\n",
       "\\item 'Skilled.worker.visa'\n",
       "\\item 'Number.of.Licences'\n",
       "\\item 'Salary....'\n",
       "\\item 'Training.Provider'\n",
       "\\item 'Employer.website'\n",
       "\\item 'Hours.per.Week'\n",
       "\\item 'ProgrammeNumber'\n",
       "\\item 'ProgrammeName'\n",
       "\\item 'ICB.Name'\n",
       "\\item 'Pharmacy.Programme.Number'\n",
       "\\item 'Number.of.Placements.Rotations'\n",
       "\\item 'Practice.Placement.Rotation.Setting.1'\n",
       "\\item 'Length.of.Placement.Rotation.1..weeks.'\n",
       "\\item 'Practice.Placement.Rotation.Setting.2'\n",
       "\\item 'Length.of.Placement.Rotation.2..weeks.'\n",
       "\\item 'Practice.Placement.Rotation.Setting.3'\n",
       "\\item 'Length.of.Placement.Rotation.3..weeks.'\n",
       "\\item 'Practice.Placement.Rotation.Setting.4'\n",
       "\\item 'Length.of.Placement.Rotation.4..weeks.'\n",
       "\\item 'Placement.Rotation.1..SystemID'\n",
       "\\item 'Placement.Rotation.2..SystemID'\n",
       "\\item 'Placement.Rotation.3..SystemID'\n",
       "\\item 'Placement.Rotation.4..SystemID'\n",
       "\\end{enumerate*}\n"
      ],
      "text/markdown": [
       "1. 'Programme.SystemID'\n",
       "2. 'Recruitment.Office'\n",
       "3. 'Region'\n",
       "4. 'Sub.Region'\n",
       "5. 'Sector'\n",
       "6. 'Post.Type'\n",
       "7. 'Programme.Preference'\n",
       "8. 'Abbreviation'\n",
       "9. 'Programme.Title'\n",
       "10. 'Programme.Description'\n",
       "11. 'Places.Available'\n",
       "12. 'Start.Date'\n",
       "13. 'Employer.Type'\n",
       "14. 'Employer.Name'\n",
       "15. 'Size.of.organisation..Primary.care.only.'\n",
       "16. 'Specialties..Hospital.only.'\n",
       "17. 'Skilled.worker.visa'\n",
       "18. 'Number.of.Licences'\n",
       "19. 'Salary....'\n",
       "20. 'Training.Provider'\n",
       "21. 'Employer.website'\n",
       "22. 'Hours.per.Week'\n",
       "23. 'ProgrammeNumber'\n",
       "24. 'ProgrammeName'\n",
       "25. 'ICB.Name'\n",
       "26. 'Pharmacy.Programme.Number'\n",
       "27. 'Number.of.Placements.Rotations'\n",
       "28. 'Practice.Placement.Rotation.Setting.1'\n",
       "29. 'Length.of.Placement.Rotation.1..weeks.'\n",
       "30. 'Practice.Placement.Rotation.Setting.2'\n",
       "31. 'Length.of.Placement.Rotation.2..weeks.'\n",
       "32. 'Practice.Placement.Rotation.Setting.3'\n",
       "33. 'Length.of.Placement.Rotation.3..weeks.'\n",
       "34. 'Practice.Placement.Rotation.Setting.4'\n",
       "35. 'Length.of.Placement.Rotation.4..weeks.'\n",
       "36. 'Placement.Rotation.1..SystemID'\n",
       "37. 'Placement.Rotation.2..SystemID'\n",
       "38. 'Placement.Rotation.3..SystemID'\n",
       "39. 'Placement.Rotation.4..SystemID'\n",
       "\n",
       "\n"
      ],
      "text/plain": [
       " [1] \"Programme.SystemID\"                      \n",
       " [2] \"Recruitment.Office\"                      \n",
       " [3] \"Region\"                                  \n",
       " [4] \"Sub.Region\"                              \n",
       " [5] \"Sector\"                                  \n",
       " [6] \"Post.Type\"                               \n",
       " [7] \"Programme.Preference\"                    \n",
       " [8] \"Abbreviation\"                            \n",
       " [9] \"Programme.Title\"                         \n",
       "[10] \"Programme.Description\"                   \n",
       "[11] \"Places.Available\"                        \n",
       "[12] \"Start.Date\"                              \n",
       "[13] \"Employer.Type\"                           \n",
       "[14] \"Employer.Name\"                           \n",
       "[15] \"Size.of.organisation..Primary.care.only.\"\n",
       "[16] \"Specialties..Hospital.only.\"             \n",
       "[17] \"Skilled.worker.visa\"                     \n",
       "[18] \"Number.of.Licences\"                      \n",
       "[19] \"Salary....\"                              \n",
       "[20] \"Training.Provider\"                       \n",
       "[21] \"Employer.website\"                        \n",
       "[22] \"Hours.per.Week\"                          \n",
       "[23] \"ProgrammeNumber\"                         \n",
       "[24] \"ProgrammeName\"                           \n",
       "[25] \"ICB.Name\"                                \n",
       "[26] \"Pharmacy.Programme.Number\"               \n",
       "[27] \"Number.of.Placements.Rotations\"          \n",
       "[28] \"Practice.Placement.Rotation.Setting.1\"   \n",
       "[29] \"Length.of.Placement.Rotation.1..weeks.\"  \n",
       "[30] \"Practice.Placement.Rotation.Setting.2\"   \n",
       "[31] \"Length.of.Placement.Rotation.2..weeks.\"  \n",
       "[32] \"Practice.Placement.Rotation.Setting.3\"   \n",
       "[33] \"Length.of.Placement.Rotation.3..weeks.\"  \n",
       "[34] \"Practice.Placement.Rotation.Setting.4\"   \n",
       "[35] \"Length.of.Placement.Rotation.4..weeks.\"  \n",
       "[36] \"Placement.Rotation.1..SystemID\"          \n",
       "[37] \"Placement.Rotation.2..SystemID\"          \n",
       "[38] \"Placement.Rotation.3..SystemID\"          \n",
       "[39] \"Placement.Rotation.4..SystemID\"          "
      ]
     },
     "metadata": {},
     "output_type": "display_data"
    },
    {
     "data": {
      "text/html": [
       "<style>\n",
       ".list-inline {list-style: none; margin:0; padding: 0}\n",
       ".list-inline>li {display: inline-block}\n",
       ".list-inline>li:not(:last-child)::after {content: \"\\00b7\"; padding: 0 .5ex}\n",
       "</style>\n",
       "<ol class=list-inline><li>'Programme.SystemID'</li><li>'Recruitment.Office'</li><li>'Region'</li><li>'Sub.Region'</li><li>'Sector'</li><li>'Post.Type'</li><li>'Programme.Preference'</li><li>'Abbreviation'</li><li>'Programme.Title'</li><li>'Programme.Description'</li><li>'Places.Available'</li><li>'Start.Date'</li><li>'Employer.Type'</li><li>'Employer.Name'</li><li>'Size.of.organisation..Primary.care.only.'</li><li>'Specialties..Hospital.only.'</li><li>'Skilled.worker.visa'</li><li>'Number.of.Licences'</li><li>'Salary....'</li><li>'Training.Provider'</li><li>'Employer.website'</li><li>'Hours.per.Week'</li><li>'ProgrammeNumber'</li><li>'ProgrammeName'</li><li>'ICS.Name'</li><li>'Pharmacy.Programme.Number'</li><li>'Number.of.Placements..3.months.or.more.'</li><li>'Practice.Placement.Setting.1'</li><li>'Length.of.Placement.1..3.months.or.more.'</li><li>'Practice.Placement.Setting.2'</li><li>'Length.of.Placement.2..3.months.or.more.'</li><li>'Practice.Placement.Setting.3'</li><li>'Length.of.Placement.3..3.months.or.more.'</li><li>'Practice.Placement.Setting.4'</li><li>'Length.of.Placement.4..3.months.or.more.'</li><li>'Placement.1..SystemID'</li><li>'Placement.2..SystemID'</li><li>'Placement.3..SystemID'</li><li>'Placement.4..SystemID'</li></ol>\n"
      ],
      "text/latex": [
       "\\begin{enumerate*}\n",
       "\\item 'Programme.SystemID'\n",
       "\\item 'Recruitment.Office'\n",
       "\\item 'Region'\n",
       "\\item 'Sub.Region'\n",
       "\\item 'Sector'\n",
       "\\item 'Post.Type'\n",
       "\\item 'Programme.Preference'\n",
       "\\item 'Abbreviation'\n",
       "\\item 'Programme.Title'\n",
       "\\item 'Programme.Description'\n",
       "\\item 'Places.Available'\n",
       "\\item 'Start.Date'\n",
       "\\item 'Employer.Type'\n",
       "\\item 'Employer.Name'\n",
       "\\item 'Size.of.organisation..Primary.care.only.'\n",
       "\\item 'Specialties..Hospital.only.'\n",
       "\\item 'Skilled.worker.visa'\n",
       "\\item 'Number.of.Licences'\n",
       "\\item 'Salary....'\n",
       "\\item 'Training.Provider'\n",
       "\\item 'Employer.website'\n",
       "\\item 'Hours.per.Week'\n",
       "\\item 'ProgrammeNumber'\n",
       "\\item 'ProgrammeName'\n",
       "\\item 'ICS.Name'\n",
       "\\item 'Pharmacy.Programme.Number'\n",
       "\\item 'Number.of.Placements..3.months.or.more.'\n",
       "\\item 'Practice.Placement.Setting.1'\n",
       "\\item 'Length.of.Placement.1..3.months.or.more.'\n",
       "\\item 'Practice.Placement.Setting.2'\n",
       "\\item 'Length.of.Placement.2..3.months.or.more.'\n",
       "\\item 'Practice.Placement.Setting.3'\n",
       "\\item 'Length.of.Placement.3..3.months.or.more.'\n",
       "\\item 'Practice.Placement.Setting.4'\n",
       "\\item 'Length.of.Placement.4..3.months.or.more.'\n",
       "\\item 'Placement.1..SystemID'\n",
       "\\item 'Placement.2..SystemID'\n",
       "\\item 'Placement.3..SystemID'\n",
       "\\item 'Placement.4..SystemID'\n",
       "\\end{enumerate*}\n"
      ],
      "text/markdown": [
       "1. 'Programme.SystemID'\n",
       "2. 'Recruitment.Office'\n",
       "3. 'Region'\n",
       "4. 'Sub.Region'\n",
       "5. 'Sector'\n",
       "6. 'Post.Type'\n",
       "7. 'Programme.Preference'\n",
       "8. 'Abbreviation'\n",
       "9. 'Programme.Title'\n",
       "10. 'Programme.Description'\n",
       "11. 'Places.Available'\n",
       "12. 'Start.Date'\n",
       "13. 'Employer.Type'\n",
       "14. 'Employer.Name'\n",
       "15. 'Size.of.organisation..Primary.care.only.'\n",
       "16. 'Specialties..Hospital.only.'\n",
       "17. 'Skilled.worker.visa'\n",
       "18. 'Number.of.Licences'\n",
       "19. 'Salary....'\n",
       "20. 'Training.Provider'\n",
       "21. 'Employer.website'\n",
       "22. 'Hours.per.Week'\n",
       "23. 'ProgrammeNumber'\n",
       "24. 'ProgrammeName'\n",
       "25. 'ICS.Name'\n",
       "26. 'Pharmacy.Programme.Number'\n",
       "27. 'Number.of.Placements..3.months.or.more.'\n",
       "28. 'Practice.Placement.Setting.1'\n",
       "29. 'Length.of.Placement.1..3.months.or.more.'\n",
       "30. 'Practice.Placement.Setting.2'\n",
       "31. 'Length.of.Placement.2..3.months.or.more.'\n",
       "32. 'Practice.Placement.Setting.3'\n",
       "33. 'Length.of.Placement.3..3.months.or.more.'\n",
       "34. 'Practice.Placement.Setting.4'\n",
       "35. 'Length.of.Placement.4..3.months.or.more.'\n",
       "36. 'Placement.1..SystemID'\n",
       "37. 'Placement.2..SystemID'\n",
       "38. 'Placement.3..SystemID'\n",
       "39. 'Placement.4..SystemID'\n",
       "\n",
       "\n"
      ],
      "text/plain": [
       " [1] \"Programme.SystemID\"                      \n",
       " [2] \"Recruitment.Office\"                      \n",
       " [3] \"Region\"                                  \n",
       " [4] \"Sub.Region\"                              \n",
       " [5] \"Sector\"                                  \n",
       " [6] \"Post.Type\"                               \n",
       " [7] \"Programme.Preference\"                    \n",
       " [8] \"Abbreviation\"                            \n",
       " [9] \"Programme.Title\"                         \n",
       "[10] \"Programme.Description\"                   \n",
       "[11] \"Places.Available\"                        \n",
       "[12] \"Start.Date\"                              \n",
       "[13] \"Employer.Type\"                           \n",
       "[14] \"Employer.Name\"                           \n",
       "[15] \"Size.of.organisation..Primary.care.only.\"\n",
       "[16] \"Specialties..Hospital.only.\"             \n",
       "[17] \"Skilled.worker.visa\"                     \n",
       "[18] \"Number.of.Licences\"                      \n",
       "[19] \"Salary....\"                              \n",
       "[20] \"Training.Provider\"                       \n",
       "[21] \"Employer.website\"                        \n",
       "[22] \"Hours.per.Week\"                          \n",
       "[23] \"ProgrammeNumber\"                         \n",
       "[24] \"ProgrammeName\"                           \n",
       "[25] \"ICS.Name\"                                \n",
       "[26] \"Pharmacy.Programme.Number\"               \n",
       "[27] \"Number.of.Placements..3.months.or.more.\" \n",
       "[28] \"Practice.Placement.Setting.1\"            \n",
       "[29] \"Length.of.Placement.1..3.months.or.more.\"\n",
       "[30] \"Practice.Placement.Setting.2\"            \n",
       "[31] \"Length.of.Placement.2..3.months.or.more.\"\n",
       "[32] \"Practice.Placement.Setting.3\"            \n",
       "[33] \"Length.of.Placement.3..3.months.or.more.\"\n",
       "[34] \"Practice.Placement.Setting.4\"            \n",
       "[35] \"Length.of.Placement.4..3.months.or.more.\"\n",
       "[36] \"Placement.1..SystemID\"                   \n",
       "[37] \"Placement.2..SystemID\"                   \n",
       "[38] \"Placement.3..SystemID\"                   \n",
       "[39] \"Placement.4..SystemID\"                   "
      ]
     },
     "metadata": {},
     "output_type": "display_data"
    },
    {
     "data": {
      "text/html": [
       "<style>\n",
       ".list-inline {list-style: none; margin:0; padding: 0}\n",
       ".list-inline>li {display: inline-block}\n",
       ".list-inline>li:not(:last-child)::after {content: \"\\00b7\"; padding: 0 .5ex}\n",
       "</style>\n",
       "<ol class=list-inline><li>'Current.Assigned.Rank'</li><li>'Preference'</li><li>'Employer.Name'</li><li>'Programme.Title'</li><li>'Programme.Description'</li><li>'Region'</li><li>'Area.Sector.'</li><li>'Employer.Type'</li><li>'Size.of.Organisation'</li><li>'Specialties'</li><li>'Skilled.worker.visa'</li><li>'No.of.Licences'</li><li>'Number.of.Placements'</li><li>'Places.Available'</li><li>'Salary'</li><li>'Training.Provider'</li><li>'Employer.Website'</li><li>'Hours.Per.Week'</li><li>'Setting.1'</li><li>'Length.1'</li><li>'Setting.2'</li><li>'Length.2'</li><li>'Setting.3'</li><li>'Length.3'</li><li>'Setting.4'</li><li>'Length.4'</li><li>'Programme.Name'</li><li>'Programme.Number'</li><li>'Tags'</li></ol>\n"
      ],
      "text/latex": [
       "\\begin{enumerate*}\n",
       "\\item 'Current.Assigned.Rank'\n",
       "\\item 'Preference'\n",
       "\\item 'Employer.Name'\n",
       "\\item 'Programme.Title'\n",
       "\\item 'Programme.Description'\n",
       "\\item 'Region'\n",
       "\\item 'Area.Sector.'\n",
       "\\item 'Employer.Type'\n",
       "\\item 'Size.of.Organisation'\n",
       "\\item 'Specialties'\n",
       "\\item 'Skilled.worker.visa'\n",
       "\\item 'No.of.Licences'\n",
       "\\item 'Number.of.Placements'\n",
       "\\item 'Places.Available'\n",
       "\\item 'Salary'\n",
       "\\item 'Training.Provider'\n",
       "\\item 'Employer.Website'\n",
       "\\item 'Hours.Per.Week'\n",
       "\\item 'Setting.1'\n",
       "\\item 'Length.1'\n",
       "\\item 'Setting.2'\n",
       "\\item 'Length.2'\n",
       "\\item 'Setting.3'\n",
       "\\item 'Length.3'\n",
       "\\item 'Setting.4'\n",
       "\\item 'Length.4'\n",
       "\\item 'Programme.Name'\n",
       "\\item 'Programme.Number'\n",
       "\\item 'Tags'\n",
       "\\end{enumerate*}\n"
      ],
      "text/markdown": [
       "1. 'Current.Assigned.Rank'\n",
       "2. 'Preference'\n",
       "3. 'Employer.Name'\n",
       "4. 'Programme.Title'\n",
       "5. 'Programme.Description'\n",
       "6. 'Region'\n",
       "7. 'Area.Sector.'\n",
       "8. 'Employer.Type'\n",
       "9. 'Size.of.Organisation'\n",
       "10. 'Specialties'\n",
       "11. 'Skilled.worker.visa'\n",
       "12. 'No.of.Licences'\n",
       "13. 'Number.of.Placements'\n",
       "14. 'Places.Available'\n",
       "15. 'Salary'\n",
       "16. 'Training.Provider'\n",
       "17. 'Employer.Website'\n",
       "18. 'Hours.Per.Week'\n",
       "19. 'Setting.1'\n",
       "20. 'Length.1'\n",
       "21. 'Setting.2'\n",
       "22. 'Length.2'\n",
       "23. 'Setting.3'\n",
       "24. 'Length.3'\n",
       "25. 'Setting.4'\n",
       "26. 'Length.4'\n",
       "27. 'Programme.Name'\n",
       "28. 'Programme.Number'\n",
       "29. 'Tags'\n",
       "\n",
       "\n"
      ],
      "text/plain": [
       " [1] \"Current.Assigned.Rank\" \"Preference\"            \"Employer.Name\"        \n",
       " [4] \"Programme.Title\"       \"Programme.Description\" \"Region\"               \n",
       " [7] \"Area.Sector.\"          \"Employer.Type\"         \"Size.of.Organisation\" \n",
       "[10] \"Specialties\"           \"Skilled.worker.visa\"   \"No.of.Licences\"       \n",
       "[13] \"Number.of.Placements\"  \"Places.Available\"      \"Salary\"               \n",
       "[16] \"Training.Provider\"     \"Employer.Website\"      \"Hours.Per.Week\"       \n",
       "[19] \"Setting.1\"             \"Length.1\"              \"Setting.2\"            \n",
       "[22] \"Length.2\"              \"Setting.3\"             \"Length.3\"             \n",
       "[25] \"Setting.4\"             \"Length.4\"              \"Programme.Name\"       \n",
       "[28] \"Programme.Number\"      \"Tags\"                 "
      ]
     },
     "metadata": {},
     "output_type": "display_data"
    },
    {
     "data": {
      "text/html": [
       "<style>\n",
       ".list-inline {list-style: none; margin:0; padding: 0}\n",
       ".list-inline>li {display: inline-block}\n",
       ".list-inline>li:not(:last-child)::after {content: \"\\00b7\"; padding: 0 .5ex}\n",
       "</style>\n",
       "<ol class=list-inline><li>'Preference'</li><li>'Employer.Name'</li><li>'Programme.Title'</li><li>'Programme.Description'</li><li>'Region'</li><li>'Area.Sector.'</li><li>'Employer.Type'</li><li>'Size.of.Organisation'</li><li>'Specialties'</li><li>'Skilled.worker.visa'</li><li>'No.of.Licences'</li><li>'Number.of.Placements'</li><li>'Places.Available'</li><li>'Salary'</li><li>'Training.Provider'</li><li>'Employer.Website'</li><li>'Hours.Per.Week'</li><li>'Setting.1'</li><li>'Length.1'</li><li>'Setting.2'</li><li>'Length.2'</li><li>'Setting.3'</li><li>'Length.3'</li><li>'Setting.4'</li><li>'Length.4'</li><li>'Programme.Name'</li><li>'Programme.Number'</li><li>'Tags'</li></ol>\n"
      ],
      "text/latex": [
       "\\begin{enumerate*}\n",
       "\\item 'Preference'\n",
       "\\item 'Employer.Name'\n",
       "\\item 'Programme.Title'\n",
       "\\item 'Programme.Description'\n",
       "\\item 'Region'\n",
       "\\item 'Area.Sector.'\n",
       "\\item 'Employer.Type'\n",
       "\\item 'Size.of.Organisation'\n",
       "\\item 'Specialties'\n",
       "\\item 'Skilled.worker.visa'\n",
       "\\item 'No.of.Licences'\n",
       "\\item 'Number.of.Placements'\n",
       "\\item 'Places.Available'\n",
       "\\item 'Salary'\n",
       "\\item 'Training.Provider'\n",
       "\\item 'Employer.Website'\n",
       "\\item 'Hours.Per.Week'\n",
       "\\item 'Setting.1'\n",
       "\\item 'Length.1'\n",
       "\\item 'Setting.2'\n",
       "\\item 'Length.2'\n",
       "\\item 'Setting.3'\n",
       "\\item 'Length.3'\n",
       "\\item 'Setting.4'\n",
       "\\item 'Length.4'\n",
       "\\item 'Programme.Name'\n",
       "\\item 'Programme.Number'\n",
       "\\item 'Tags'\n",
       "\\end{enumerate*}\n"
      ],
      "text/markdown": [
       "1. 'Preference'\n",
       "2. 'Employer.Name'\n",
       "3. 'Programme.Title'\n",
       "4. 'Programme.Description'\n",
       "5. 'Region'\n",
       "6. 'Area.Sector.'\n",
       "7. 'Employer.Type'\n",
       "8. 'Size.of.Organisation'\n",
       "9. 'Specialties'\n",
       "10. 'Skilled.worker.visa'\n",
       "11. 'No.of.Licences'\n",
       "12. 'Number.of.Placements'\n",
       "13. 'Places.Available'\n",
       "14. 'Salary'\n",
       "15. 'Training.Provider'\n",
       "16. 'Employer.Website'\n",
       "17. 'Hours.Per.Week'\n",
       "18. 'Setting.1'\n",
       "19. 'Length.1'\n",
       "20. 'Setting.2'\n",
       "21. 'Length.2'\n",
       "22. 'Setting.3'\n",
       "23. 'Length.3'\n",
       "24. 'Setting.4'\n",
       "25. 'Length.4'\n",
       "26. 'Programme.Name'\n",
       "27. 'Programme.Number'\n",
       "28. 'Tags'\n",
       "\n",
       "\n"
      ],
      "text/plain": [
       " [1] \"Preference\"            \"Employer.Name\"         \"Programme.Title\"      \n",
       " [4] \"Programme.Description\" \"Region\"                \"Area.Sector.\"         \n",
       " [7] \"Employer.Type\"         \"Size.of.Organisation\"  \"Specialties\"          \n",
       "[10] \"Skilled.worker.visa\"   \"No.of.Licences\"        \"Number.of.Placements\" \n",
       "[13] \"Places.Available\"      \"Salary\"                \"Training.Provider\"    \n",
       "[16] \"Employer.Website\"      \"Hours.Per.Week\"        \"Setting.1\"            \n",
       "[19] \"Length.1\"              \"Setting.2\"             \"Length.2\"             \n",
       "[22] \"Setting.3\"             \"Length.3\"              \"Setting.4\"            \n",
       "[25] \"Length.4\"              \"Programme.Name\"        \"Programme.Number\"     \n",
       "[28] \"Tags\"                 "
      ]
     },
     "metadata": {},
     "output_type": "display_data"
    }
   ],
   "source": [
    "colnames(OD2526)\n",
    "colnames(OD2425)\n",
    "colnames(OD2324)\n",
    "colnames(OD2223)"
   ]
  },
  {
   "cell_type": "markdown",
   "metadata": {},
   "source": [
    "- Do not need the following columns from 2526 data: \n",
    "\n",
    "'Programme.SystemID', 'Recruitment.Office', 'Post.Type', 'Abbreviation', 'Start.Date','Employer.website', 'ProgrammeNumber', 'ProgrammeName', 'Pharmacy.Programme.Number', 'Length.of.Placement.Rotation.1..weeks.', 'Length.of.Placement.Rotation.2..weeks', 'Length.of.Placement.Rotation.3..weeks.','Length.of.Placement.Rotation.4..weeks.','Placement.Rotation.1..SystemID','Placement.Rotation.2..SystemID','Placement.Rotation.3..SystemID','Placement.Rotation.4..SystemID'\n",
    "\n",
    "- Do not need the following columns from 2425 data:\n",
    "\n",
    "'Programme.SystemID','Recruitment.Office','Post.Type','Abbreviation','Start.Date','Employer.website','ProgrammeNumber','ProgrammeName','Pharmacy.Programme.Number','Placement.4..SystemID','Placement.3..SystemID','Placement.2..SystemID','Placement.1..SystemID','Length.of.Placement.4..3.months.or.more.','Length.of.Placement.2..3.months.or.more.','Length.of.Placement.1..3.months.or.more.','Length.of.Placement.3..3.months.or.more.'\n",
    "\n",
    "\n"
   ]
  },
  {
   "cell_type": "code",
   "execution_count": 3,
   "metadata": {
    "vscode": {
     "languageId": "r"
    }
   },
   "outputs": [
    {
     "data": {
      "text/html": [
       "<style>\n",
       ".list-inline {list-style: none; margin:0; padding: 0}\n",
       ".list-inline>li {display: inline-block}\n",
       ".list-inline>li:not(:last-child)::after {content: \"\\00b7\"; padding: 0 .5ex}\n",
       "</style>\n",
       "<ol class=list-inline><li>'Region'</li><li>'Sub.Region'</li><li>'Sector'</li><li>'Programme.Preference'</li><li>'Programme.Title'</li><li>'Programme.Description'</li><li>'Places.Available'</li><li>'Employer.Type'</li><li>'Employer.Name'</li><li>'Size.of.organisation..Primary.care.only.'</li><li>'Specialties..Hospital.only.'</li><li>'Skilled.worker.visa'</li><li>'Number.of.Licences'</li><li>'Salary....'</li><li>'Training.Provider'</li><li>'Hours.per.Week'</li><li>'ICB.Name'</li><li>'Number.of.Placements.Rotations'</li><li>'Practice.Placement.Rotation.Setting.1'</li><li>'Practice.Placement.Rotation.Setting.2'</li><li>'Practice.Placement.Rotation.Setting.3'</li><li>'Practice.Placement.Rotation.Setting.4'</li></ol>\n"
      ],
      "text/latex": [
       "\\begin{enumerate*}\n",
       "\\item 'Region'\n",
       "\\item 'Sub.Region'\n",
       "\\item 'Sector'\n",
       "\\item 'Programme.Preference'\n",
       "\\item 'Programme.Title'\n",
       "\\item 'Programme.Description'\n",
       "\\item 'Places.Available'\n",
       "\\item 'Employer.Type'\n",
       "\\item 'Employer.Name'\n",
       "\\item 'Size.of.organisation..Primary.care.only.'\n",
       "\\item 'Specialties..Hospital.only.'\n",
       "\\item 'Skilled.worker.visa'\n",
       "\\item 'Number.of.Licences'\n",
       "\\item 'Salary....'\n",
       "\\item 'Training.Provider'\n",
       "\\item 'Hours.per.Week'\n",
       "\\item 'ICB.Name'\n",
       "\\item 'Number.of.Placements.Rotations'\n",
       "\\item 'Practice.Placement.Rotation.Setting.1'\n",
       "\\item 'Practice.Placement.Rotation.Setting.2'\n",
       "\\item 'Practice.Placement.Rotation.Setting.3'\n",
       "\\item 'Practice.Placement.Rotation.Setting.4'\n",
       "\\end{enumerate*}\n"
      ],
      "text/markdown": [
       "1. 'Region'\n",
       "2. 'Sub.Region'\n",
       "3. 'Sector'\n",
       "4. 'Programme.Preference'\n",
       "5. 'Programme.Title'\n",
       "6. 'Programme.Description'\n",
       "7. 'Places.Available'\n",
       "8. 'Employer.Type'\n",
       "9. 'Employer.Name'\n",
       "10. 'Size.of.organisation..Primary.care.only.'\n",
       "11. 'Specialties..Hospital.only.'\n",
       "12. 'Skilled.worker.visa'\n",
       "13. 'Number.of.Licences'\n",
       "14. 'Salary....'\n",
       "15. 'Training.Provider'\n",
       "16. 'Hours.per.Week'\n",
       "17. 'ICB.Name'\n",
       "18. 'Number.of.Placements.Rotations'\n",
       "19. 'Practice.Placement.Rotation.Setting.1'\n",
       "20. 'Practice.Placement.Rotation.Setting.2'\n",
       "21. 'Practice.Placement.Rotation.Setting.3'\n",
       "22. 'Practice.Placement.Rotation.Setting.4'\n",
       "\n",
       "\n"
      ],
      "text/plain": [
       " [1] \"Region\"                                  \n",
       " [2] \"Sub.Region\"                              \n",
       " [3] \"Sector\"                                  \n",
       " [4] \"Programme.Preference\"                    \n",
       " [5] \"Programme.Title\"                         \n",
       " [6] \"Programme.Description\"                   \n",
       " [7] \"Places.Available\"                        \n",
       " [8] \"Employer.Type\"                           \n",
       " [9] \"Employer.Name\"                           \n",
       "[10] \"Size.of.organisation..Primary.care.only.\"\n",
       "[11] \"Specialties..Hospital.only.\"             \n",
       "[12] \"Skilled.worker.visa\"                     \n",
       "[13] \"Number.of.Licences\"                      \n",
       "[14] \"Salary....\"                              \n",
       "[15] \"Training.Provider\"                       \n",
       "[16] \"Hours.per.Week\"                          \n",
       "[17] \"ICB.Name\"                                \n",
       "[18] \"Number.of.Placements.Rotations\"          \n",
       "[19] \"Practice.Placement.Rotation.Setting.1\"   \n",
       "[20] \"Practice.Placement.Rotation.Setting.2\"   \n",
       "[21] \"Practice.Placement.Rotation.Setting.3\"   \n",
       "[22] \"Practice.Placement.Rotation.Setting.4\"   "
      ]
     },
     "metadata": {},
     "output_type": "display_data"
    },
    {
     "data": {
      "text/html": [
       "<style>\n",
       ".list-inline {list-style: none; margin:0; padding: 0}\n",
       ".list-inline>li {display: inline-block}\n",
       ".list-inline>li:not(:last-child)::after {content: \"\\00b7\"; padding: 0 .5ex}\n",
       "</style>\n",
       "<ol class=list-inline><li>'Region'</li><li>'Sub.Region'</li><li>'Sector'</li><li>'Programme.Preference'</li><li>'Programme.Title'</li><li>'Programme.Description'</li><li>'Places.Available'</li><li>'Employer.Type'</li><li>'Employer.Name'</li><li>'Size.of.organisation..Primary.care.only.'</li><li>'Specialties..Hospital.only.'</li><li>'Skilled.worker.visa'</li><li>'Number.of.Licences'</li><li>'Salary....'</li><li>'Training.Provider'</li><li>'Hours.per.Week'</li><li>'ICS.Name'</li><li>'Number.of.Placements..3.months.or.more.'</li><li>'Practice.Placement.Setting.1'</li><li>'Practice.Placement.Setting.2'</li><li>'Practice.Placement.Setting.3'</li><li>'Practice.Placement.Setting.4'</li></ol>\n"
      ],
      "text/latex": [
       "\\begin{enumerate*}\n",
       "\\item 'Region'\n",
       "\\item 'Sub.Region'\n",
       "\\item 'Sector'\n",
       "\\item 'Programme.Preference'\n",
       "\\item 'Programme.Title'\n",
       "\\item 'Programme.Description'\n",
       "\\item 'Places.Available'\n",
       "\\item 'Employer.Type'\n",
       "\\item 'Employer.Name'\n",
       "\\item 'Size.of.organisation..Primary.care.only.'\n",
       "\\item 'Specialties..Hospital.only.'\n",
       "\\item 'Skilled.worker.visa'\n",
       "\\item 'Number.of.Licences'\n",
       "\\item 'Salary....'\n",
       "\\item 'Training.Provider'\n",
       "\\item 'Hours.per.Week'\n",
       "\\item 'ICS.Name'\n",
       "\\item 'Number.of.Placements..3.months.or.more.'\n",
       "\\item 'Practice.Placement.Setting.1'\n",
       "\\item 'Practice.Placement.Setting.2'\n",
       "\\item 'Practice.Placement.Setting.3'\n",
       "\\item 'Practice.Placement.Setting.4'\n",
       "\\end{enumerate*}\n"
      ],
      "text/markdown": [
       "1. 'Region'\n",
       "2. 'Sub.Region'\n",
       "3. 'Sector'\n",
       "4. 'Programme.Preference'\n",
       "5. 'Programme.Title'\n",
       "6. 'Programme.Description'\n",
       "7. 'Places.Available'\n",
       "8. 'Employer.Type'\n",
       "9. 'Employer.Name'\n",
       "10. 'Size.of.organisation..Primary.care.only.'\n",
       "11. 'Specialties..Hospital.only.'\n",
       "12. 'Skilled.worker.visa'\n",
       "13. 'Number.of.Licences'\n",
       "14. 'Salary....'\n",
       "15. 'Training.Provider'\n",
       "16. 'Hours.per.Week'\n",
       "17. 'ICS.Name'\n",
       "18. 'Number.of.Placements..3.months.or.more.'\n",
       "19. 'Practice.Placement.Setting.1'\n",
       "20. 'Practice.Placement.Setting.2'\n",
       "21. 'Practice.Placement.Setting.3'\n",
       "22. 'Practice.Placement.Setting.4'\n",
       "\n",
       "\n"
      ],
      "text/plain": [
       " [1] \"Region\"                                  \n",
       " [2] \"Sub.Region\"                              \n",
       " [3] \"Sector\"                                  \n",
       " [4] \"Programme.Preference\"                    \n",
       " [5] \"Programme.Title\"                         \n",
       " [6] \"Programme.Description\"                   \n",
       " [7] \"Places.Available\"                        \n",
       " [8] \"Employer.Type\"                           \n",
       " [9] \"Employer.Name\"                           \n",
       "[10] \"Size.of.organisation..Primary.care.only.\"\n",
       "[11] \"Specialties..Hospital.only.\"             \n",
       "[12] \"Skilled.worker.visa\"                     \n",
       "[13] \"Number.of.Licences\"                      \n",
       "[14] \"Salary....\"                              \n",
       "[15] \"Training.Provider\"                       \n",
       "[16] \"Hours.per.Week\"                          \n",
       "[17] \"ICS.Name\"                                \n",
       "[18] \"Number.of.Placements..3.months.or.more.\" \n",
       "[19] \"Practice.Placement.Setting.1\"            \n",
       "[20] \"Practice.Placement.Setting.2\"            \n",
       "[21] \"Practice.Placement.Setting.3\"            \n",
       "[22] \"Practice.Placement.Setting.4\"            "
      ]
     },
     "metadata": {},
     "output_type": "display_data"
    }
   ],
   "source": [
    "OD2526_irrelevant <- c('Programme.SystemID', 'Recruitment.Office', 'Post.Type', 'Abbreviation', 'Start.Date','Employer.website', 'ProgrammeNumber', 'ProgrammeName', 'Pharmacy.Programme.Number', 'Length.of.Placement.Rotation.1..weeks.', 'Length.of.Placement.Rotation.2..weeks.', 'Length.of.Placement.Rotation.3..weeks.','Length.of.Placement.Rotation.4..weeks.','Placement.Rotation.1..SystemID','Placement.Rotation.2..SystemID','Placement.Rotation.3..SystemID','Placement.Rotation.4..SystemID')\n",
    "OD2425_irrelevant <- c('Programme.SystemID','Recruitment.Office','Post.Type','Abbreviation','Start.Date','Employer.website','ProgrammeNumber','ProgrammeName','Pharmacy.Programme.Number','Placement.4..SystemID','Placement.3..SystemID','Placement.2..SystemID','Placement.1..SystemID','Length.of.Placement.4..3.months.or.more.','Length.of.Placement.2..3.months.or.more.','Length.of.Placement.1..3.months.or.more.','Length.of.Placement.3..3.months.or.more.')\n",
    "\n",
    "OD2526_modified <- select(OD2526, -one_of(OD2526_irrelevant))\n",
    "OD2425_modified <- select(OD2425, -one_of(OD2425_irrelevant))\n",
    "\n",
    "colnames(OD2526_modified)\n",
    "colnames(OD2425_modified)"
   ]
  },
  {
   "cell_type": "code",
   "execution_count": 4,
   "metadata": {
    "vscode": {
     "languageId": "r"
    }
   },
   "outputs": [],
   "source": [
    "# Changing column names to match the 2022-2023 and 2023-2024 datasets and improve readability\n",
    "# Resume\n",
    "\n",
    "OD2526_modified <- OD2526_modified %>%\n",
    "  rename(\n",
    "    Region = Region,\n",
    "    SubRegion = Sub.Region,\n",
    "    Sector = Sector,\n",
    "    ProgramPreference = Programme.Preference,\n",
    "    ProgramTitle = Programme.Title,\n",
    "    ProgramDescription = Programme.Description,\n",
    "    AvailableSlots = Places.Available,\n",
    "    EmployerType = Employer.Type,\n",
    "    EmployerName = Employer.Name,\n",
    "    OrgSizePrimaryCareOnly = Size.of.organisation..Primary.care.only.,\n",
    "    HospitalSpecialties = Specialties..Hospital.only.,\n",
    "    SkilledWorkerVisa = Skilled.worker.visa,\n",
    "    LicenseCount = Number.of.Licences,\n",
    "    Salary = Salary....,\n",
    "    TrainingProvider = Training.Provider,\n",
    "    WeeklyHours = Hours.per.Week,\n",
    "    ICBName = ICB.Name,\n",
    "    PlacementRotationCount = Number.of.Placements.Rotations,\n",
    "    RotationSetting1 = Practice.Placement.Rotation.Setting.1,\n",
    "    RotationSetting2 = Practice.Placement.Rotation.Setting.2,\n",
    "    RotationSetting3 = Practice.Placement.Rotation.Setting.3,\n",
    "    RotationSetting4 = Practice.Placement.Rotation.Setting.4\n",
    "  )\n",
    "\n",
    "OD2425_modified <- OD2425_modified %>%\n",
    "  rename(\n",
    "    SubRegion = Sub.Region,\n",
    "    ProgramPreference = Programme.Preference,\n",
    "    ProgramTitle = Programme.Title,\n",
    "    ProgramDescription = Programme.Description,\n",
    "    AvailableSlots = Places.Available,\n",
    "    EmployerType = Employer.Type,\n",
    "    EmployerName = Employer.Name,\n",
    "    OrgSizePrimaryCareOnly = Size.of.organisation..Primary.care.only.,\n",
    "    HospitalSpecialties = Specialties..Hospital.only.,\n",
    "    SkilledWorkerVisa = Skilled.worker.visa,\n",
    "    LicenseCount = Number.of.Licences,\n",
    "    Salary = Salary....,\n",
    "    TrainingProvider = Training.Provider,\n",
    "    WeeklyHours = Hours.per.Week,\n",
    "    ICSName = ICS.Name,\n",
    "    PlacementCount = Number.of.Placements..3.months.or.more.,\n",
    "    PlacementSetting1 = Practice.Placement.Setting.1,\n",
    "    PlacementSetting2 = Practice.Placement.Setting.2,\n",
    "    PlacementSetting3 = Practice.Placement.Setting.3,\n",
    "    PlacementSetting4 = Practice.Placement.Setting.4\n",
    "  )"
   ]
  },
  {
   "cell_type": "code",
   "execution_count": 5,
   "metadata": {
    "vscode": {
     "languageId": "r"
    }
   },
   "outputs": [
    {
     "data": {
      "text/html": [
       "<style>\n",
       ".list-inline {list-style: none; margin:0; padding: 0}\n",
       ".list-inline>li {display: inline-block}\n",
       ".list-inline>li:not(:last-child)::after {content: \"\\00b7\"; padding: 0 .5ex}\n",
       "</style>\n",
       "<ol class=list-inline><li>'Region'</li><li>'SubRegion'</li><li>'Sector'</li><li>'ProgramPreference'</li><li>'ProgramTitle'</li><li>'ProgramDescription'</li><li>'AvailableSlots'</li><li>'EmployerType'</li><li>'EmployerName'</li><li>'OrgSizePrimaryCareOnly'</li><li>'HospitalSpecialties'</li><li>'SkilledWorkerVisa'</li><li>'LicenseCount'</li><li>'Salary'</li><li>'TrainingProvider'</li><li>'WeeklyHours'</li><li>'ICBName'</li><li>'PlacementRotationCount'</li><li>'RotationSetting1'</li><li>'RotationSetting2'</li><li>'RotationSetting3'</li><li>'RotationSetting4'</li></ol>\n"
      ],
      "text/latex": [
       "\\begin{enumerate*}\n",
       "\\item 'Region'\n",
       "\\item 'SubRegion'\n",
       "\\item 'Sector'\n",
       "\\item 'ProgramPreference'\n",
       "\\item 'ProgramTitle'\n",
       "\\item 'ProgramDescription'\n",
       "\\item 'AvailableSlots'\n",
       "\\item 'EmployerType'\n",
       "\\item 'EmployerName'\n",
       "\\item 'OrgSizePrimaryCareOnly'\n",
       "\\item 'HospitalSpecialties'\n",
       "\\item 'SkilledWorkerVisa'\n",
       "\\item 'LicenseCount'\n",
       "\\item 'Salary'\n",
       "\\item 'TrainingProvider'\n",
       "\\item 'WeeklyHours'\n",
       "\\item 'ICBName'\n",
       "\\item 'PlacementRotationCount'\n",
       "\\item 'RotationSetting1'\n",
       "\\item 'RotationSetting2'\n",
       "\\item 'RotationSetting3'\n",
       "\\item 'RotationSetting4'\n",
       "\\end{enumerate*}\n"
      ],
      "text/markdown": [
       "1. 'Region'\n",
       "2. 'SubRegion'\n",
       "3. 'Sector'\n",
       "4. 'ProgramPreference'\n",
       "5. 'ProgramTitle'\n",
       "6. 'ProgramDescription'\n",
       "7. 'AvailableSlots'\n",
       "8. 'EmployerType'\n",
       "9. 'EmployerName'\n",
       "10. 'OrgSizePrimaryCareOnly'\n",
       "11. 'HospitalSpecialties'\n",
       "12. 'SkilledWorkerVisa'\n",
       "13. 'LicenseCount'\n",
       "14. 'Salary'\n",
       "15. 'TrainingProvider'\n",
       "16. 'WeeklyHours'\n",
       "17. 'ICBName'\n",
       "18. 'PlacementRotationCount'\n",
       "19. 'RotationSetting1'\n",
       "20. 'RotationSetting2'\n",
       "21. 'RotationSetting3'\n",
       "22. 'RotationSetting4'\n",
       "\n",
       "\n"
      ],
      "text/plain": [
       " [1] \"Region\"                 \"SubRegion\"              \"Sector\"                \n",
       " [4] \"ProgramPreference\"      \"ProgramTitle\"           \"ProgramDescription\"    \n",
       " [7] \"AvailableSlots\"         \"EmployerType\"           \"EmployerName\"          \n",
       "[10] \"OrgSizePrimaryCareOnly\" \"HospitalSpecialties\"    \"SkilledWorkerVisa\"     \n",
       "[13] \"LicenseCount\"           \"Salary\"                 \"TrainingProvider\"      \n",
       "[16] \"WeeklyHours\"            \"ICBName\"                \"PlacementRotationCount\"\n",
       "[19] \"RotationSetting1\"       \"RotationSetting2\"       \"RotationSetting3\"      \n",
       "[22] \"RotationSetting4\"      "
      ]
     },
     "metadata": {},
     "output_type": "display_data"
    },
    {
     "data": {
      "text/html": [
       "<style>\n",
       ".list-inline {list-style: none; margin:0; padding: 0}\n",
       ".list-inline>li {display: inline-block}\n",
       ".list-inline>li:not(:last-child)::after {content: \"\\00b7\"; padding: 0 .5ex}\n",
       "</style>\n",
       "<ol class=list-inline><li>'Region'</li><li>'SubRegion'</li><li>'Sector'</li><li>'ProgramPreference'</li><li>'ProgramTitle'</li><li>'ProgramDescription'</li><li>'AvailableSlots'</li><li>'EmployerType'</li><li>'EmployerName'</li><li>'OrgSizePrimaryCareOnly'</li><li>'HospitalSpecialties'</li><li>'SkilledWorkerVisa'</li><li>'LicenseCount'</li><li>'Salary'</li><li>'TrainingProvider'</li><li>'WeeklyHours'</li><li>'ICSName'</li><li>'PlacementCount'</li><li>'PlacementSetting1'</li><li>'PlacementSetting2'</li><li>'PlacementSetting3'</li><li>'PlacementSetting4'</li></ol>\n"
      ],
      "text/latex": [
       "\\begin{enumerate*}\n",
       "\\item 'Region'\n",
       "\\item 'SubRegion'\n",
       "\\item 'Sector'\n",
       "\\item 'ProgramPreference'\n",
       "\\item 'ProgramTitle'\n",
       "\\item 'ProgramDescription'\n",
       "\\item 'AvailableSlots'\n",
       "\\item 'EmployerType'\n",
       "\\item 'EmployerName'\n",
       "\\item 'OrgSizePrimaryCareOnly'\n",
       "\\item 'HospitalSpecialties'\n",
       "\\item 'SkilledWorkerVisa'\n",
       "\\item 'LicenseCount'\n",
       "\\item 'Salary'\n",
       "\\item 'TrainingProvider'\n",
       "\\item 'WeeklyHours'\n",
       "\\item 'ICSName'\n",
       "\\item 'PlacementCount'\n",
       "\\item 'PlacementSetting1'\n",
       "\\item 'PlacementSetting2'\n",
       "\\item 'PlacementSetting3'\n",
       "\\item 'PlacementSetting4'\n",
       "\\end{enumerate*}\n"
      ],
      "text/markdown": [
       "1. 'Region'\n",
       "2. 'SubRegion'\n",
       "3. 'Sector'\n",
       "4. 'ProgramPreference'\n",
       "5. 'ProgramTitle'\n",
       "6. 'ProgramDescription'\n",
       "7. 'AvailableSlots'\n",
       "8. 'EmployerType'\n",
       "9. 'EmployerName'\n",
       "10. 'OrgSizePrimaryCareOnly'\n",
       "11. 'HospitalSpecialties'\n",
       "12. 'SkilledWorkerVisa'\n",
       "13. 'LicenseCount'\n",
       "14. 'Salary'\n",
       "15. 'TrainingProvider'\n",
       "16. 'WeeklyHours'\n",
       "17. 'ICSName'\n",
       "18. 'PlacementCount'\n",
       "19. 'PlacementSetting1'\n",
       "20. 'PlacementSetting2'\n",
       "21. 'PlacementSetting3'\n",
       "22. 'PlacementSetting4'\n",
       "\n",
       "\n"
      ],
      "text/plain": [
       " [1] \"Region\"                 \"SubRegion\"              \"Sector\"                \n",
       " [4] \"ProgramPreference\"      \"ProgramTitle\"           \"ProgramDescription\"    \n",
       " [7] \"AvailableSlots\"         \"EmployerType\"           \"EmployerName\"          \n",
       "[10] \"OrgSizePrimaryCareOnly\" \"HospitalSpecialties\"    \"SkilledWorkerVisa\"     \n",
       "[13] \"LicenseCount\"           \"Salary\"                 \"TrainingProvider\"      \n",
       "[16] \"WeeklyHours\"            \"ICSName\"                \"PlacementCount\"        \n",
       "[19] \"PlacementSetting1\"      \"PlacementSetting2\"      \"PlacementSetting3\"     \n",
       "[22] \"PlacementSetting4\"     "
      ]
     },
     "metadata": {},
     "output_type": "display_data"
    },
    {
     "data": {
      "text/html": [
       "<style>\n",
       ".list-inline {list-style: none; margin:0; padding: 0}\n",
       ".list-inline>li {display: inline-block}\n",
       ".list-inline>li:not(:last-child)::after {content: \"\\00b7\"; padding: 0 .5ex}\n",
       "</style>\n",
       "<ol class=list-inline><li>'Current.Assigned.Rank'</li><li>'Preference'</li><li>'Employer.Name'</li><li>'Programme.Title'</li><li>'Programme.Description'</li><li>'Region'</li><li>'Area.Sector.'</li><li>'Employer.Type'</li><li>'Size.of.Organisation'</li><li>'Specialties'</li><li>'Skilled.worker.visa'</li><li>'No.of.Licences'</li><li>'Number.of.Placements'</li><li>'Places.Available'</li><li>'Salary'</li><li>'Training.Provider'</li><li>'Employer.Website'</li><li>'Hours.Per.Week'</li><li>'Setting.1'</li><li>'Length.1'</li><li>'Setting.2'</li><li>'Length.2'</li><li>'Setting.3'</li><li>'Length.3'</li><li>'Setting.4'</li><li>'Length.4'</li><li>'Programme.Name'</li><li>'Programme.Number'</li><li>'Tags'</li></ol>\n"
      ],
      "text/latex": [
       "\\begin{enumerate*}\n",
       "\\item 'Current.Assigned.Rank'\n",
       "\\item 'Preference'\n",
       "\\item 'Employer.Name'\n",
       "\\item 'Programme.Title'\n",
       "\\item 'Programme.Description'\n",
       "\\item 'Region'\n",
       "\\item 'Area.Sector.'\n",
       "\\item 'Employer.Type'\n",
       "\\item 'Size.of.Organisation'\n",
       "\\item 'Specialties'\n",
       "\\item 'Skilled.worker.visa'\n",
       "\\item 'No.of.Licences'\n",
       "\\item 'Number.of.Placements'\n",
       "\\item 'Places.Available'\n",
       "\\item 'Salary'\n",
       "\\item 'Training.Provider'\n",
       "\\item 'Employer.Website'\n",
       "\\item 'Hours.Per.Week'\n",
       "\\item 'Setting.1'\n",
       "\\item 'Length.1'\n",
       "\\item 'Setting.2'\n",
       "\\item 'Length.2'\n",
       "\\item 'Setting.3'\n",
       "\\item 'Length.3'\n",
       "\\item 'Setting.4'\n",
       "\\item 'Length.4'\n",
       "\\item 'Programme.Name'\n",
       "\\item 'Programme.Number'\n",
       "\\item 'Tags'\n",
       "\\end{enumerate*}\n"
      ],
      "text/markdown": [
       "1. 'Current.Assigned.Rank'\n",
       "2. 'Preference'\n",
       "3. 'Employer.Name'\n",
       "4. 'Programme.Title'\n",
       "5. 'Programme.Description'\n",
       "6. 'Region'\n",
       "7. 'Area.Sector.'\n",
       "8. 'Employer.Type'\n",
       "9. 'Size.of.Organisation'\n",
       "10. 'Specialties'\n",
       "11. 'Skilled.worker.visa'\n",
       "12. 'No.of.Licences'\n",
       "13. 'Number.of.Placements'\n",
       "14. 'Places.Available'\n",
       "15. 'Salary'\n",
       "16. 'Training.Provider'\n",
       "17. 'Employer.Website'\n",
       "18. 'Hours.Per.Week'\n",
       "19. 'Setting.1'\n",
       "20. 'Length.1'\n",
       "21. 'Setting.2'\n",
       "22. 'Length.2'\n",
       "23. 'Setting.3'\n",
       "24. 'Length.3'\n",
       "25. 'Setting.4'\n",
       "26. 'Length.4'\n",
       "27. 'Programme.Name'\n",
       "28. 'Programme.Number'\n",
       "29. 'Tags'\n",
       "\n",
       "\n"
      ],
      "text/plain": [
       " [1] \"Current.Assigned.Rank\" \"Preference\"            \"Employer.Name\"        \n",
       " [4] \"Programme.Title\"       \"Programme.Description\" \"Region\"               \n",
       " [7] \"Area.Sector.\"          \"Employer.Type\"         \"Size.of.Organisation\" \n",
       "[10] \"Specialties\"           \"Skilled.worker.visa\"   \"No.of.Licences\"       \n",
       "[13] \"Number.of.Placements\"  \"Places.Available\"      \"Salary\"               \n",
       "[16] \"Training.Provider\"     \"Employer.Website\"      \"Hours.Per.Week\"       \n",
       "[19] \"Setting.1\"             \"Length.1\"              \"Setting.2\"            \n",
       "[22] \"Length.2\"              \"Setting.3\"             \"Length.3\"             \n",
       "[25] \"Setting.4\"             \"Length.4\"              \"Programme.Name\"       \n",
       "[28] \"Programme.Number\"      \"Tags\"                 "
      ]
     },
     "metadata": {},
     "output_type": "display_data"
    }
   ],
   "source": [
    "colnames(OD2526_modified)\n",
    "colnames(OD2425_modified)\n",
    "colnames(OD2324)"
   ]
  },
  {
   "cell_type": "code",
   "execution_count": 6,
   "metadata": {
    "vscode": {
     "languageId": "r"
    }
   },
   "outputs": [
    {
     "data": {
      "text/html": [
       "<table class=\"dataframe\">\n",
       "<caption>A data.frame: 1 × 1</caption>\n",
       "<thead>\n",
       "\t<tr><th scope=col>mean(WeeklyHours)</th></tr>\n",
       "\t<tr><th scope=col>&lt;dbl&gt;</th></tr>\n",
       "</thead>\n",
       "<tbody>\n",
       "\t<tr><td>38.74936</td></tr>\n",
       "</tbody>\n",
       "</table>\n"
      ],
      "text/latex": [
       "A data.frame: 1 × 1\n",
       "\\begin{tabular}{l}\n",
       " mean(WeeklyHours)\\\\\n",
       " <dbl>\\\\\n",
       "\\hline\n",
       "\t 38.74936\\\\\n",
       "\\end{tabular}\n"
      ],
      "text/markdown": [
       "\n",
       "A data.frame: 1 × 1\n",
       "\n",
       "| mean(WeeklyHours) &lt;dbl&gt; |\n",
       "|---|\n",
       "| 38.74936 |\n",
       "\n"
      ],
      "text/plain": [
       "  mean(WeeklyHours)\n",
       "1 38.74936         "
      ]
     },
     "metadata": {},
     "output_type": "display_data"
    },
    {
     "data": {
      "text/html": [
       "<table class=\"dataframe\">\n",
       "<caption>A data.frame: 1 × 1</caption>\n",
       "<thead>\n",
       "\t<tr><th scope=col>mean(Salary)</th></tr>\n",
       "\t<tr><th scope=col>&lt;dbl&gt;</th></tr>\n",
       "</thead>\n",
       "<tbody>\n",
       "\t<tr><td>25588.76</td></tr>\n",
       "</tbody>\n",
       "</table>\n"
      ],
      "text/latex": [
       "A data.frame: 1 × 1\n",
       "\\begin{tabular}{l}\n",
       " mean(Salary)\\\\\n",
       " <dbl>\\\\\n",
       "\\hline\n",
       "\t 25588.76\\\\\n",
       "\\end{tabular}\n"
      ],
      "text/markdown": [
       "\n",
       "A data.frame: 1 × 1\n",
       "\n",
       "| mean(Salary) &lt;dbl&gt; |\n",
       "|---|\n",
       "| 25588.76 |\n",
       "\n"
      ],
      "text/plain": [
       "  mean(Salary)\n",
       "1 25588.76    "
      ]
     },
     "metadata": {},
     "output_type": "display_data"
    },
    {
     "data": {
      "text/html": [
       "<table class=\"dataframe\">\n",
       "<caption>A data.frame: 1 × 1</caption>\n",
       "<thead>\n",
       "\t<tr><th scope=col>mean(WeeklyHours)</th></tr>\n",
       "\t<tr><th scope=col>&lt;dbl&gt;</th></tr>\n",
       "</thead>\n",
       "<tbody>\n",
       "\t<tr><td>38.58384</td></tr>\n",
       "</tbody>\n",
       "</table>\n"
      ],
      "text/latex": [
       "A data.frame: 1 × 1\n",
       "\\begin{tabular}{l}\n",
       " mean(WeeklyHours)\\\\\n",
       " <dbl>\\\\\n",
       "\\hline\n",
       "\t 38.58384\\\\\n",
       "\\end{tabular}\n"
      ],
      "text/markdown": [
       "\n",
       "A data.frame: 1 × 1\n",
       "\n",
       "| mean(WeeklyHours) &lt;dbl&gt; |\n",
       "|---|\n",
       "| 38.58384 |\n",
       "\n"
      ],
      "text/plain": [
       "  mean(WeeklyHours)\n",
       "1 38.58384         "
      ]
     },
     "metadata": {},
     "output_type": "display_data"
    },
    {
     "data": {
      "text/html": [
       "<table class=\"dataframe\">\n",
       "<caption>A data.frame: 1 × 1</caption>\n",
       "<thead>\n",
       "\t<tr><th scope=col>mean(Salary)</th></tr>\n",
       "\t<tr><th scope=col>&lt;dbl&gt;</th></tr>\n",
       "</thead>\n",
       "<tbody>\n",
       "\t<tr><td>23314.93</td></tr>\n",
       "</tbody>\n",
       "</table>\n"
      ],
      "text/latex": [
       "A data.frame: 1 × 1\n",
       "\\begin{tabular}{l}\n",
       " mean(Salary)\\\\\n",
       " <dbl>\\\\\n",
       "\\hline\n",
       "\t 23314.93\\\\\n",
       "\\end{tabular}\n"
      ],
      "text/markdown": [
       "\n",
       "A data.frame: 1 × 1\n",
       "\n",
       "| mean(Salary) &lt;dbl&gt; |\n",
       "|---|\n",
       "| 23314.93 |\n",
       "\n"
      ],
      "text/plain": [
       "  mean(Salary)\n",
       "1 23314.93    "
      ]
     },
     "metadata": {},
     "output_type": "display_data"
    },
    {
     "data": {
      "text/html": [
       "23200.32"
      ],
      "text/latex": [
       "23200.32"
      ],
      "text/markdown": [
       "23200.32"
      ],
      "text/plain": [
       "[1] 23200.32"
      ]
     },
     "metadata": {},
     "output_type": "display_data"
    }
   ],
   "source": [
    "# Summary statistics for the 2025-2026 and 2024-2025 datasets\n",
    "average_working_hours_in_2526 <- OD2526_modified %>%\n",
    "    summarise(mean(WeeklyHours))\n",
    "\n",
    "average_working_hours_in_2526\n",
    "\n",
    "average_salary_in_2526 <- OD2526_modified %>%\n",
    "    summarise(mean(Salary))\n",
    "\n",
    "average_salary_in_2526\n",
    "\n",
    "average_working_hours_in_2425 <- OD2425_modified %>%\n",
    "    summarise(mean(WeeklyHours))\n",
    "\n",
    "average_working_hours_in_2425\n",
    "\n",
    "average_salary_in_2425 <- OD2425_modified %>%\n",
    "    summarise(mean(Salary))\n",
    "\n",
    "average_salary_in_2425\n",
    "\n",
    "# UK national minimum wage from 1st April 2024 is £11.44 per hour for ages 21 and over\n",
    "\n",
    "UK_minimum_hourly_wage <- 11.44\n",
    "UK_minimum_salary <- UK_minimum_hourly_wage * 39 * 52\n",
    "UK_minimum_salary"
   ]
  },
  {
   "cell_type": "code",
   "execution_count": 7,
   "metadata": {
    "vscode": {
     "languageId": "r"
    }
   },
   "outputs": [
    {
     "name": "stderr",
     "output_type": "stream",
     "text": [
      "Warning message:\n",
      "“\u001b[1m\u001b[22mUsing `size` aesthetic for lines was deprecated in ggplot2 3.4.0.\n",
      "\u001b[36mℹ\u001b[39m Please use `linewidth` instead.”\n"
     ]
    },
    {
     "data": {
      "image/png": "[encoded data removed]",
      "text/plain": [
       "plot without title"
      ]
     },
     "metadata": {
      "image/png": {
       "height": 420,
       "width": 420
      }
     },
     "output_type": "display_data"
    },
    {
     "data": {
      "image/png": "[encoded data removed]",
      "text/plain": [
       "plot without title"
      ]
     },
     "metadata": {
      "image/png": {
       "height": 420,
       "width": 420
      }
     },
     "output_type": "display_data"
    }
   ],
   "source": [
    "# Salary plots\n",
    "# Expand the data to show the number of available slots\n",
    "\n",
    "OD2526_expanded <- OD2526_modified %>%\n",
    "    uncount(AvailableSlots) \n",
    "\n",
    "vlines_data_for_2526 <- data.frame(\n",
    "  intercepts = c(25600, UK_minimum_salary),\n",
    "  labels = c(\"Training Grant\", \"UK Minimum Salary\"),\n",
    "  colors = c(\"red\", \"green\")\n",
    ")\n",
    "\n",
    "vlines_data_for_2425 <- data.frame(\n",
    "  intercepts = c(18440, UK_minimum_salary),\n",
    "  labels = c(\"Training Grant\", \"UK Minimum Salary\"),\n",
    "  colors = c(\"red\", \"green\")\n",
    ")\n",
    "\n",
    "OD2526_salary_plot_expanded <- ggplot(OD2526_expanded, aes(x = Salary)) + \n",
    "  geom_histogram(binwidth = 1000, colour = 'black',fill = 'cornflowerblue') + \n",
    "  ggtitle(\"Salary distribution for 2025-26 training year\") + \n",
    "  xlab(\"Salary (£)\") + \n",
    "  ylab(\"Frequency\") +\n",
    "  scale_x_continuous(breaks = seq(0, max(OD2526_modified$Salary, na.rm = TRUE), by = 2500)) +\n",
    "  geom_vline(data = vlines_data_for_2526, aes(xintercept = intercepts, color = labels),linetype=\"dashed\", size = 1.2) +\n",
    "  scale_color_manual(name = \"Legend\", values = c(\"Training Grant\" = \"red\", \"UK Minimum Salary\" = \"green\")) +\n",
    "  theme_minimal()\n",
    "\n",
    "\n",
    "OD2526_salary_plot_expanded\n",
    "\n",
    "OD2425_expanded <- OD2425_modified %>%\n",
    "    uncount(AvailableSlots)\n",
    "\n",
    "OD2425_salary_plot_expanded <- ggplot(OD2425_expanded, aes(x = Salary)) + \n",
    "  geom_histogram(binwidth = 1000, colour = 'black', fill = 'cornflowerblue') + \n",
    "  ggtitle(\"Salary distribution for 2024-25 training year of Salary\") + \n",
    "  xlab(\"Salary (£)\") + \n",
    "  ylab(\"Frequency\") +\n",
    "  scale_x_continuous(\n",
    "    breaks = seq(0, max(OD2526_modified$Salary, na.rm = TRUE), by = 2500), \n",
    "    labels = scales::comma  # Use comma format for large numbers\n",
    "  ) +\n",
    "  geom_vline(data = vlines_data_for_2425, aes(xintercept = intercepts, color = labels), size = 1.2,linetype=\"dashed\") +\n",
    "  scale_color_manual(name = \"Legend\", values = c(\"Training Grant\" = \"red\", \"UK Minimum Salary\" = \"green\")) +\n",
    "  theme_minimal() \n",
    "\n",
    "OD2425_salary_plot_expanded\n",
    "\n",
    "# Working hour plot\n",
    "# Salary and visa plot"
   ]
  },
  {
   "cell_type": "code",
   "execution_count": 8,
   "metadata": {
    "vscode": {
     "languageId": "r"
    }
   },
   "outputs": [
    {
     "data": {
      "text/html": [
       "'Number of placements with skilled worker visa availability in 2025-26: 1194'"
      ],
      "text/latex": [
       "'Number of placements with skilled worker visa availability in 2025-26: 1194'"
      ],
      "text/markdown": [
       "'Number of placements with skilled worker visa availability in 2025-26: 1194'"
      ],
      "text/plain": [
       "[1] \"Number of placements with skilled worker visa availability in 2025-26: 1194\""
      ]
     },
     "metadata": {},
     "output_type": "display_data"
    },
    {
     "data": {
      "text/html": [
       "'Number of placements with skilled worker visa availability in 2024-25: 1502'"
      ],
      "text/latex": [
       "'Number of placements with skilled worker visa availability in 2024-25: 1502'"
      ],
      "text/markdown": [
       "'Number of placements with skilled worker visa availability in 2024-25: 1502'"
      ],
      "text/plain": [
       "[1] \"Number of placements with skilled worker visa availability in 2024-25: 1502\""
      ]
     },
     "metadata": {},
     "output_type": "display_data"
    },
    {
     "data": {
      "text/html": [
       "'Number of placements with skilled worker visa availability in 2023-24: 1284'"
      ],
      "text/latex": [
       "'Number of placements with skilled worker visa availability in 2023-24: 1284'"
      ],
      "text/markdown": [
       "'Number of placements with skilled worker visa availability in 2023-24: 1284'"
      ],
      "text/plain": [
       "[1] \"Number of placements with skilled worker visa availability in 2023-24: 1284\""
      ]
     },
     "metadata": {},
     "output_type": "display_data"
    },
    {
     "data": {
      "text/html": [
       "'Number of placements with skilled worker visa availability in 2022-23: 1146'"
      ],
      "text/latex": [
       "'Number of placements with skilled worker visa availability in 2022-23: 1146'"
      ],
      "text/markdown": [
       "'Number of placements with skilled worker visa availability in 2022-23: 1146'"
      ],
      "text/plain": [
       "[1] \"Number of placements with skilled worker visa availability in 2022-23: 1146\""
      ]
     },
     "metadata": {},
     "output_type": "display_data"
    },
    {
     "data": {
      "text/html": [
       "'Average number of applicants needing visa: 287'"
      ],
      "text/latex": [
       "'Average number of applicants needing visa: 287'"
      ],
      "text/markdown": [
       "'Average number of applicants needing visa: 287'"
      ],
      "text/plain": [
       "[1] \"Average number of applicants needing visa: 287\""
      ]
     },
     "metadata": {},
     "output_type": "display_data"
    },
    {
     "data": {
      "image/png": "[encoded data removed]",
      "text/plain": [
       "plot without title"
      ]
     },
     "metadata": {
      "image/png": {
       "height": 420,
       "width": 420
      }
     },
     "output_type": "display_data"
    }
   ],
   "source": [
    "visa_availability_2526 <- OD2526_expanded %>%\n",
    "  count(SkilledWorkerVisa) %>%\n",
    "  filter(SkilledWorkerVisa == \"Y\") %>%\n",
    "  pull(n)\n",
    "\n",
    "visa_availability_2425 <- OD2425_expanded %>%\n",
    "    count(SkilledWorkerVisa) %>%\n",
    "    filter(SkilledWorkerVisa == \"Y\") %>%\n",
    "    pull(n)\n",
    "\n",
    "visa_availabilty_2324 <- OD2324 %>%\n",
    "    uncount(Places.Available) %>%\n",
    "    count(Skilled.worker.visa) %>%\n",
    "    filter(Skilled.worker.visa == \"Yes\") %>%\n",
    "    pull(n)\n",
    "\n",
    "visa_availablilty_2223 <- OD2223 %>%\n",
    "    uncount(Places.Available) %>%\n",
    "    count(Skilled.worker.visa) %>%\n",
    "    filter(Skilled.worker.visa == \"Yes\") %>%\n",
    "    pull(n)\n",
    "\n",
    "paste0(\"Number of placements with skilled worker visa availability in 2025-26: \", visa_availability_2526)\n",
    "paste0(\"Number of placements with skilled worker visa availability in 2024-25: \", visa_availability_2425)\n",
    "paste0(\"Number of placements with skilled worker visa availability in 2023-24: \", visa_availabilty_2324)\n",
    "paste0(\"Number of placements with skilled worker visa availability in 2022-23: \", visa_availablilty_2223)\n",
    "\n",
    "years <- c(\"2022-23\", \"2023-24\", \"2024-25\", \"2025-26\")\n",
    "visa_availability <- c(visa_availablilty_2223, visa_availabilty_2324, visa_availability_2425, visa_availability_2526)\n",
    "# Below numbers taken fron oriel reports NHS HEE\n",
    "visa_needed_in_2018_2019 <- 297\n",
    "visa_needed_in_2019_2020 <- 281\n",
    "visa_needed_in_2020_2021 <- 276\n",
    "visa_needed_in_2021_2022 <- 315\n",
    "visa_needed_in_2022_2023 <- 284\n",
    "visa_needed_in_2023_2024 <- 270\n",
    "average_visa_needed <- mean(c(visa_needed_in_2018_2019, visa_needed_in_2019_2020, visa_needed_in_2020_2021, visa_needed_in_2021_2022, visa_needed_in_2022_2023, visa_needed_in_2023_2024))\n",
    "paste0('Average number of applicants needing visa: ', round(average_visa_needed))\n",
    "\n",
    "\n",
    "df.visa <- as.data.frame(cbind(years, visa_availability ))\n",
    "df.visa$visa_availability <- as.numeric(df.visa$visa_availability)\n",
    "\n",
    "ggplot(df.visa, aes(x=years, y=visa_availability)) +\n",
    "  geom_col(fill = 'cornflowerblue', colour = 'black') +\n",
    "  labs(title=\"Number of placements with skilled worker visa availability\", x=\"Year\", y=\"Number of placements\") +\n",
    "  geom_hline(aes(yintercept=average_visa_needed, color = \"Average Number of Applicants Who Need Skilled Worker\"), linetype=\"dashed\", lwd = 1.5) +\n",
    "  scale_color_manual(name = \"Legend\", values = c(\"Average Number of Applicants Who Need Skilled Worker\" = \"red\")) +\n",
    "  theme_minimal() +\n",
    "  theme(legend.position = \"top\")\n"
   ]
  },
  {
   "cell_type": "markdown",
   "metadata": {},
   "source": [
    "- Visa availability going down?\n",
    "https://www.lasepharmacy.hee.nhs.uk/national-recruitment/evaluation/"
   ]
  },
  {
   "cell_type": "code",
   "execution_count": 25,
   "metadata": {
    "vscode": {
     "languageId": "r"
    }
   },
   "outputs": [
    {
     "data": {
      "text/html": [
       "4757"
      ],
      "text/latex": [
       "4757"
      ],
      "text/markdown": [
       "4757"
      ],
      "text/plain": [
       "[1] 4757"
      ]
     },
     "metadata": {},
     "output_type": "display_data"
    },
    {
     "data": {
      "text/html": [
       "0"
      ],
      "text/latex": [
       "0"
      ],
      "text/markdown": [
       "0"
      ],
      "text/plain": [
       "[1] 0"
      ]
     },
     "metadata": {},
     "output_type": "display_data"
    },
    {
     "data": {
      "text/html": [
       "11.44"
      ],
      "text/latex": [
       "11.44"
      ],
      "text/markdown": [
       "11.44"
      ],
      "text/plain": [
       "[1] 11.44"
      ]
     },
     "metadata": {},
     "output_type": "display_data"
    },
    {
     "data": {
      "text/html": [
       "17.49"
      ],
      "text/latex": [
       "17.49"
      ],
      "text/markdown": [
       "17.49"
      ],
      "text/plain": [
       "[1] 17.49"
      ]
     },
     "metadata": {},
     "output_type": "display_data"
    },
    {
     "data": {
      "text/html": [
       "34105.5"
      ],
      "text/latex": [
       "34105.5"
      ],
      "text/markdown": [
       "34105.5"
      ],
      "text/plain": [
       "[1] 34105.5"
      ]
     },
     "metadata": {},
     "output_type": "display_data"
    }
   ],
   "source": [
    "# Is each programme offering over national minimum salary?\n",
    "is_it_over_national_minimum_hourly_wage <- function(hourly_wage){\n",
    "    UK_minimum_hourly_wage <= hourly_wage\n",
    "    # returns TRUE if hourly wage of the programme is higher than the national minimum hourly wage\n",
    "\n",
    "}\n",
    "\n",
    "OD2526_expanded <- OD2526_expanded %>%\n",
    "    mutate(hourly_wage = round(Salary/52/WeeklyHours,digits = 2)) %>%\n",
    "    mutate(higher_than_minimum_hourly_wage = is_it_over_national_minimum_hourly_wage(hourly_wage))\n",
    "\n",
    "sum(OD2526_expanded$higher_than_minimum_hourly_wage)\n",
    "sum(!OD2526_expanded$higher_than_minimum_hourly_wage)\n",
    "\n",
    "min_hourly_wage <- min(OD2526_expanded$hourly_wage)\n",
    "min_hourly_wage\n",
    "\n",
    "max_hourly_wage <- max(OD2526_expanded$hourly_wage)\n",
    "max_hourly_wage  \n",
    "\n",
    "17.49 * 37.5 * 52"
   ]
  },
  {
   "cell_type": "code",
   "execution_count": 10,
   "metadata": {
    "vscode": {
     "languageId": "r"
    }
   },
   "outputs": [
    {
     "data": {
      "text/html": [
       "<style>\n",
       ".list-inline {list-style: none; margin:0; padding: 0}\n",
       ".list-inline>li {display: inline-block}\n",
       ".list-inline>li:not(:last-child)::after {content: \"\\00b7\"; padding: 0 .5ex}\n",
       "</style>\n",
       "<ol class=list-inline><li>'Region'</li><li>'SubRegion'</li><li>'Sector'</li><li>'ProgramPreference'</li><li>'ProgramTitle'</li><li>'ProgramDescription'</li><li>'EmployerType'</li><li>'EmployerName'</li><li>'OrgSizePrimaryCareOnly'</li><li>'HospitalSpecialties'</li><li>'SkilledWorkerVisa'</li><li>'LicenseCount'</li><li>'Salary'</li><li>'TrainingProvider'</li><li>'WeeklyHours'</li><li>'ICSName'</li><li>'PlacementCount'</li><li>'PlacementSetting1'</li><li>'PlacementSetting2'</li><li>'PlacementSetting3'</li><li>'PlacementSetting4'</li></ol>\n"
      ],
      "text/latex": [
       "\\begin{enumerate*}\n",
       "\\item 'Region'\n",
       "\\item 'SubRegion'\n",
       "\\item 'Sector'\n",
       "\\item 'ProgramPreference'\n",
       "\\item 'ProgramTitle'\n",
       "\\item 'ProgramDescription'\n",
       "\\item 'EmployerType'\n",
       "\\item 'EmployerName'\n",
       "\\item 'OrgSizePrimaryCareOnly'\n",
       "\\item 'HospitalSpecialties'\n",
       "\\item 'SkilledWorkerVisa'\n",
       "\\item 'LicenseCount'\n",
       "\\item 'Salary'\n",
       "\\item 'TrainingProvider'\n",
       "\\item 'WeeklyHours'\n",
       "\\item 'ICSName'\n",
       "\\item 'PlacementCount'\n",
       "\\item 'PlacementSetting1'\n",
       "\\item 'PlacementSetting2'\n",
       "\\item 'PlacementSetting3'\n",
       "\\item 'PlacementSetting4'\n",
       "\\end{enumerate*}\n"
      ],
      "text/markdown": [
       "1. 'Region'\n",
       "2. 'SubRegion'\n",
       "3. 'Sector'\n",
       "4. 'ProgramPreference'\n",
       "5. 'ProgramTitle'\n",
       "6. 'ProgramDescription'\n",
       "7. 'EmployerType'\n",
       "8. 'EmployerName'\n",
       "9. 'OrgSizePrimaryCareOnly'\n",
       "10. 'HospitalSpecialties'\n",
       "11. 'SkilledWorkerVisa'\n",
       "12. 'LicenseCount'\n",
       "13. 'Salary'\n",
       "14. 'TrainingProvider'\n",
       "15. 'WeeklyHours'\n",
       "16. 'ICSName'\n",
       "17. 'PlacementCount'\n",
       "18. 'PlacementSetting1'\n",
       "19. 'PlacementSetting2'\n",
       "20. 'PlacementSetting3'\n",
       "21. 'PlacementSetting4'\n",
       "\n",
       "\n"
      ],
      "text/plain": [
       " [1] \"Region\"                 \"SubRegion\"              \"Sector\"                \n",
       " [4] \"ProgramPreference\"      \"ProgramTitle\"           \"ProgramDescription\"    \n",
       " [7] \"EmployerType\"           \"EmployerName\"           \"OrgSizePrimaryCareOnly\"\n",
       "[10] \"HospitalSpecialties\"    \"SkilledWorkerVisa\"      \"LicenseCount\"          \n",
       "[13] \"Salary\"                 \"TrainingProvider\"       \"WeeklyHours\"           \n",
       "[16] \"ICSName\"                \"PlacementCount\"         \"PlacementSetting1\"     \n",
       "[19] \"PlacementSetting2\"      \"PlacementSetting3\"      \"PlacementSetting4\"     "
      ]
     },
     "metadata": {},
     "output_type": "display_data"
    }
   ],
   "source": [
    "colnames(OD2425_expanded)"
   ]
  }
 ],
 "metadata": {
  "kernelspec": {
   "display_name": "R",
   "language": "R",
   "name": "ir"
  },
  "language_info": {
   "codemirror_mode": "r",
   "file_extension": ".r",
   "mimetype": "text/x-r-source",
   "name": "R",
   "pygments_lexer": "r",
   "version": "4.4.1"
  }
 },
 "nbformat": 4,
 "nbformat_minor": 2
}
