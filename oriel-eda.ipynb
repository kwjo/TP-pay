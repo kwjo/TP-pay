{
 "cells": [
  {
   "cell_type": "markdown",
   "metadata": {},
   "source": [
    "TODO\n",
    "- [ ] Write methodology  \n",
    "- [ ] Remove irrelevant data columns in the preprocessing  \n",
    "- [ ] Salary above grant and living wage  \n",
    "- [ ] Number of places available per area + average and median salary by geography  \n",
    "- [ ] Number of visa available places over 3 years  \n",
    "- [ ] Number of split placements available over 3 years  \n",
    "- [ ] Salary by tye of placement  \n",
    "- [ ] Hourly wage graph with minimum wage (for 21+) and living wage  \n",
    "- [ ] Hours worked per week (expectation to work on the weekends and lates in hospitals)  \n",
    "\n",
    "\n",
    "\n",
    "- https://survey.stackoverflow.co/2024/\n",
    "- https://www.gov.uk/national-minimum-wage-rates\n",
    "\n",
    "- Make online database using openai API to summarise the programme description into quick bullet points with filter function e.g. geographical"
   ]
  },
  {
   "cell_type": "code",
   "execution_count": 2,
   "metadata": {
    "vscode": {
     "languageId": "r"
    }
   },
   "outputs": [
    {
     "name": "stderr",
     "output_type": "stream",
     "text": [
      "\n",
      "Attaching package: ‘dplyr’\n",
      "\n",
      "\n",
      "The following objects are masked from ‘package:stats’:\n",
      "\n",
      "    filter, lag\n",
      "\n",
      "\n",
      "The following objects are masked from ‘package:base’:\n",
      "\n",
      "    intersect, setdiff, setequal, union\n",
      "\n",
      "\n"
     ]
    }
   ],
   "source": [
    "library(dplyr)\n",
    "library(ggplot2)\n",
    "library(tidyr)\n",
    "library(openai)\n",
    "library(purrr)\n",
    "\n",
    "# Load the data\n",
    "OD2526 <- read.csv(\"oriel-training-year-2526.csv\")\n",
    "\n",
    "OD2425 <- read.csv(\"oriel-training-year-2425.csv\")\n",
    "\n",
    "OD2324 <- read.csv(\"oriel-training-year-2324.csv\")\n",
    "\n",
    "OD2223 <- read.csv(\"oriel-training-year-2223.csv\")"
   ]
  },
  {
   "cell_type": "code",
   "execution_count": 52,
   "metadata": {
    "vscode": {
     "languageId": "r"
    }
   },
   "outputs": [
    {
     "data": {
      "text/html": [
       "<style>\n",
       ".list-inline {list-style: none; margin:0; padding: 0}\n",
       ".list-inline>li {display: inline-block}\n",
       ".list-inline>li:not(:last-child)::after {content: \"\\00b7\"; padding: 0 .5ex}\n",
       "</style>\n",
       "<ol class=list-inline><li>'Programme.SystemID'</li><li>'Recruitment.Office'</li><li>'Region'</li><li>'Sub.Region'</li><li>'Sector'</li><li>'Post.Type'</li><li>'Programme.Preference'</li><li>'Abbreviation'</li><li>'Programme.Title'</li><li>'Programme.Description'</li><li>'Places.Available'</li><li>'Start.Date'</li><li>'Employer.Type'</li><li>'Employer.Name'</li><li>'Size.of.organisation..Primary.care.only.'</li><li>'Specialties..Hospital.only.'</li><li>'Skilled.worker.visa'</li><li>'Number.of.Licences'</li><li>'Salary....'</li><li>'Training.Provider'</li><li>'Employer.website'</li><li>'Hours.per.Week'</li><li>'ProgrammeNumber'</li><li>'ProgrammeName'</li><li>'ICB.Name'</li><li>'Pharmacy.Programme.Number'</li><li>'Number.of.Placements.Rotations'</li><li>'Practice.Placement.Rotation.Setting.1'</li><li>'Length.of.Placement.Rotation.1..weeks.'</li><li>'Practice.Placement.Rotation.Setting.2'</li><li>'Length.of.Placement.Rotation.2..weeks.'</li><li>'Practice.Placement.Rotation.Setting.3'</li><li>'Length.of.Placement.Rotation.3..weeks.'</li><li>'Practice.Placement.Rotation.Setting.4'</li><li>'Length.of.Placement.Rotation.4..weeks.'</li><li>'Placement.Rotation.1..SystemID'</li><li>'Placement.Rotation.2..SystemID'</li><li>'Placement.Rotation.3..SystemID'</li><li>'Placement.Rotation.4..SystemID'</li></ol>\n"
      ],
      "text/latex": [
       "\\begin{enumerate*}\n",
       "\\item 'Programme.SystemID'\n",
       "\\item 'Recruitment.Office'\n",
       "\\item 'Region'\n",
       "\\item 'Sub.Region'\n",
       "\\item 'Sector'\n",
       "\\item 'Post.Type'\n",
       "\\item 'Programme.Preference'\n",
       "\\item 'Abbreviation'\n",
       "\\item 'Programme.Title'\n",
       "\\item 'Programme.Description'\n",
       "\\item 'Places.Available'\n",
       "\\item 'Start.Date'\n",
       "\\item 'Employer.Type'\n",
       "\\item 'Employer.Name'\n",
       "\\item 'Size.of.organisation..Primary.care.only.'\n",
       "\\item 'Specialties..Hospital.only.'\n",
       "\\item 'Skilled.worker.visa'\n",
       "\\item 'Number.of.Licences'\n",
       "\\item 'Salary....'\n",
       "\\item 'Training.Provider'\n",
       "\\item 'Employer.website'\n",
       "\\item 'Hours.per.Week'\n",
       "\\item 'ProgrammeNumber'\n",
       "\\item 'ProgrammeName'\n",
       "\\item 'ICB.Name'\n",
       "\\item 'Pharmacy.Programme.Number'\n",
       "\\item 'Number.of.Placements.Rotations'\n",
       "\\item 'Practice.Placement.Rotation.Setting.1'\n",
       "\\item 'Length.of.Placement.Rotation.1..weeks.'\n",
       "\\item 'Practice.Placement.Rotation.Setting.2'\n",
       "\\item 'Length.of.Placement.Rotation.2..weeks.'\n",
       "\\item 'Practice.Placement.Rotation.Setting.3'\n",
       "\\item 'Length.of.Placement.Rotation.3..weeks.'\n",
       "\\item 'Practice.Placement.Rotation.Setting.4'\n",
       "\\item 'Length.of.Placement.Rotation.4..weeks.'\n",
       "\\item 'Placement.Rotation.1..SystemID'\n",
       "\\item 'Placement.Rotation.2..SystemID'\n",
       "\\item 'Placement.Rotation.3..SystemID'\n",
       "\\item 'Placement.Rotation.4..SystemID'\n",
       "\\end{enumerate*}\n"
      ],
      "text/markdown": [
       "1. 'Programme.SystemID'\n",
       "2. 'Recruitment.Office'\n",
       "3. 'Region'\n",
       "4. 'Sub.Region'\n",
       "5. 'Sector'\n",
       "6. 'Post.Type'\n",
       "7. 'Programme.Preference'\n",
       "8. 'Abbreviation'\n",
       "9. 'Programme.Title'\n",
       "10. 'Programme.Description'\n",
       "11. 'Places.Available'\n",
       "12. 'Start.Date'\n",
       "13. 'Employer.Type'\n",
       "14. 'Employer.Name'\n",
       "15. 'Size.of.organisation..Primary.care.only.'\n",
       "16. 'Specialties..Hospital.only.'\n",
       "17. 'Skilled.worker.visa'\n",
       "18. 'Number.of.Licences'\n",
       "19. 'Salary....'\n",
       "20. 'Training.Provider'\n",
       "21. 'Employer.website'\n",
       "22. 'Hours.per.Week'\n",
       "23. 'ProgrammeNumber'\n",
       "24. 'ProgrammeName'\n",
       "25. 'ICB.Name'\n",
       "26. 'Pharmacy.Programme.Number'\n",
       "27. 'Number.of.Placements.Rotations'\n",
       "28. 'Practice.Placement.Rotation.Setting.1'\n",
       "29. 'Length.of.Placement.Rotation.1..weeks.'\n",
       "30. 'Practice.Placement.Rotation.Setting.2'\n",
       "31. 'Length.of.Placement.Rotation.2..weeks.'\n",
       "32. 'Practice.Placement.Rotation.Setting.3'\n",
       "33. 'Length.of.Placement.Rotation.3..weeks.'\n",
       "34. 'Practice.Placement.Rotation.Setting.4'\n",
       "35. 'Length.of.Placement.Rotation.4..weeks.'\n",
       "36. 'Placement.Rotation.1..SystemID'\n",
       "37. 'Placement.Rotation.2..SystemID'\n",
       "38. 'Placement.Rotation.3..SystemID'\n",
       "39. 'Placement.Rotation.4..SystemID'\n",
       "\n",
       "\n"
      ],
      "text/plain": [
       " [1] \"Programme.SystemID\"                      \n",
       " [2] \"Recruitment.Office\"                      \n",
       " [3] \"Region\"                                  \n",
       " [4] \"Sub.Region\"                              \n",
       " [5] \"Sector\"                                  \n",
       " [6] \"Post.Type\"                               \n",
       " [7] \"Programme.Preference\"                    \n",
       " [8] \"Abbreviation\"                            \n",
       " [9] \"Programme.Title\"                         \n",
       "[10] \"Programme.Description\"                   \n",
       "[11] \"Places.Available\"                        \n",
       "[12] \"Start.Date\"                              \n",
       "[13] \"Employer.Type\"                           \n",
       "[14] \"Employer.Name\"                           \n",
       "[15] \"Size.of.organisation..Primary.care.only.\"\n",
       "[16] \"Specialties..Hospital.only.\"             \n",
       "[17] \"Skilled.worker.visa\"                     \n",
       "[18] \"Number.of.Licences\"                      \n",
       "[19] \"Salary....\"                              \n",
       "[20] \"Training.Provider\"                       \n",
       "[21] \"Employer.website\"                        \n",
       "[22] \"Hours.per.Week\"                          \n",
       "[23] \"ProgrammeNumber\"                         \n",
       "[24] \"ProgrammeName\"                           \n",
       "[25] \"ICB.Name\"                                \n",
       "[26] \"Pharmacy.Programme.Number\"               \n",
       "[27] \"Number.of.Placements.Rotations\"          \n",
       "[28] \"Practice.Placement.Rotation.Setting.1\"   \n",
       "[29] \"Length.of.Placement.Rotation.1..weeks.\"  \n",
       "[30] \"Practice.Placement.Rotation.Setting.2\"   \n",
       "[31] \"Length.of.Placement.Rotation.2..weeks.\"  \n",
       "[32] \"Practice.Placement.Rotation.Setting.3\"   \n",
       "[33] \"Length.of.Placement.Rotation.3..weeks.\"  \n",
       "[34] \"Practice.Placement.Rotation.Setting.4\"   \n",
       "[35] \"Length.of.Placement.Rotation.4..weeks.\"  \n",
       "[36] \"Placement.Rotation.1..SystemID\"          \n",
       "[37] \"Placement.Rotation.2..SystemID\"          \n",
       "[38] \"Placement.Rotation.3..SystemID\"          \n",
       "[39] \"Placement.Rotation.4..SystemID\"          "
      ]
     },
     "metadata": {},
     "output_type": "display_data"
    },
    {
     "data": {
      "text/html": [
       "<style>\n",
       ".list-inline {list-style: none; margin:0; padding: 0}\n",
       ".list-inline>li {display: inline-block}\n",
       ".list-inline>li:not(:last-child)::after {content: \"\\00b7\"; padding: 0 .5ex}\n",
       "</style>\n",
       "<ol class=list-inline><li>'Programme.SystemID'</li><li>'Recruitment.Office'</li><li>'Region'</li><li>'Sub.Region'</li><li>'Sector'</li><li>'Post.Type'</li><li>'Programme.Preference'</li><li>'Abbreviation'</li><li>'Programme.Title'</li><li>'Programme.Description'</li><li>'Places.Available'</li><li>'Start.Date'</li><li>'Employer.Type'</li><li>'Employer.Name'</li><li>'Size.of.organisation..Primary.care.only.'</li><li>'Specialties..Hospital.only.'</li><li>'Skilled.worker.visa'</li><li>'Number.of.Licences'</li><li>'Salary....'</li><li>'Training.Provider'</li><li>'Employer.website'</li><li>'Hours.per.Week'</li><li>'ProgrammeNumber'</li><li>'ProgrammeName'</li><li>'ICS.Name'</li><li>'Pharmacy.Programme.Number'</li><li>'Number.of.Placements..3.months.or.more.'</li><li>'Practice.Placement.Setting.1'</li><li>'Length.of.Placement.1..3.months.or.more.'</li><li>'Practice.Placement.Setting.2'</li><li>'Length.of.Placement.2..3.months.or.more.'</li><li>'Practice.Placement.Setting.3'</li><li>'Length.of.Placement.3..3.months.or.more.'</li><li>'Practice.Placement.Setting.4'</li><li>'Length.of.Placement.4..3.months.or.more.'</li><li>'Placement.1..SystemID'</li><li>'Placement.2..SystemID'</li><li>'Placement.3..SystemID'</li><li>'Placement.4..SystemID'</li></ol>\n"
      ],
      "text/latex": [
       "\\begin{enumerate*}\n",
       "\\item 'Programme.SystemID'\n",
       "\\item 'Recruitment.Office'\n",
       "\\item 'Region'\n",
       "\\item 'Sub.Region'\n",
       "\\item 'Sector'\n",
       "\\item 'Post.Type'\n",
       "\\item 'Programme.Preference'\n",
       "\\item 'Abbreviation'\n",
       "\\item 'Programme.Title'\n",
       "\\item 'Programme.Description'\n",
       "\\item 'Places.Available'\n",
       "\\item 'Start.Date'\n",
       "\\item 'Employer.Type'\n",
       "\\item 'Employer.Name'\n",
       "\\item 'Size.of.organisation..Primary.care.only.'\n",
       "\\item 'Specialties..Hospital.only.'\n",
       "\\item 'Skilled.worker.visa'\n",
       "\\item 'Number.of.Licences'\n",
       "\\item 'Salary....'\n",
       "\\item 'Training.Provider'\n",
       "\\item 'Employer.website'\n",
       "\\item 'Hours.per.Week'\n",
       "\\item 'ProgrammeNumber'\n",
       "\\item 'ProgrammeName'\n",
       "\\item 'ICS.Name'\n",
       "\\item 'Pharmacy.Programme.Number'\n",
       "\\item 'Number.of.Placements..3.months.or.more.'\n",
       "\\item 'Practice.Placement.Setting.1'\n",
       "\\item 'Length.of.Placement.1..3.months.or.more.'\n",
       "\\item 'Practice.Placement.Setting.2'\n",
       "\\item 'Length.of.Placement.2..3.months.or.more.'\n",
       "\\item 'Practice.Placement.Setting.3'\n",
       "\\item 'Length.of.Placement.3..3.months.or.more.'\n",
       "\\item 'Practice.Placement.Setting.4'\n",
       "\\item 'Length.of.Placement.4..3.months.or.more.'\n",
       "\\item 'Placement.1..SystemID'\n",
       "\\item 'Placement.2..SystemID'\n",
       "\\item 'Placement.3..SystemID'\n",
       "\\item 'Placement.4..SystemID'\n",
       "\\end{enumerate*}\n"
      ],
      "text/markdown": [
       "1. 'Programme.SystemID'\n",
       "2. 'Recruitment.Office'\n",
       "3. 'Region'\n",
       "4. 'Sub.Region'\n",
       "5. 'Sector'\n",
       "6. 'Post.Type'\n",
       "7. 'Programme.Preference'\n",
       "8. 'Abbreviation'\n",
       "9. 'Programme.Title'\n",
       "10. 'Programme.Description'\n",
       "11. 'Places.Available'\n",
       "12. 'Start.Date'\n",
       "13. 'Employer.Type'\n",
       "14. 'Employer.Name'\n",
       "15. 'Size.of.organisation..Primary.care.only.'\n",
       "16. 'Specialties..Hospital.only.'\n",
       "17. 'Skilled.worker.visa'\n",
       "18. 'Number.of.Licences'\n",
       "19. 'Salary....'\n",
       "20. 'Training.Provider'\n",
       "21. 'Employer.website'\n",
       "22. 'Hours.per.Week'\n",
       "23. 'ProgrammeNumber'\n",
       "24. 'ProgrammeName'\n",
       "25. 'ICS.Name'\n",
       "26. 'Pharmacy.Programme.Number'\n",
       "27. 'Number.of.Placements..3.months.or.more.'\n",
       "28. 'Practice.Placement.Setting.1'\n",
       "29. 'Length.of.Placement.1..3.months.or.more.'\n",
       "30. 'Practice.Placement.Setting.2'\n",
       "31. 'Length.of.Placement.2..3.months.or.more.'\n",
       "32. 'Practice.Placement.Setting.3'\n",
       "33. 'Length.of.Placement.3..3.months.or.more.'\n",
       "34. 'Practice.Placement.Setting.4'\n",
       "35. 'Length.of.Placement.4..3.months.or.more.'\n",
       "36. 'Placement.1..SystemID'\n",
       "37. 'Placement.2..SystemID'\n",
       "38. 'Placement.3..SystemID'\n",
       "39. 'Placement.4..SystemID'\n",
       "\n",
       "\n"
      ],
      "text/plain": [
       " [1] \"Programme.SystemID\"                      \n",
       " [2] \"Recruitment.Office\"                      \n",
       " [3] \"Region\"                                  \n",
       " [4] \"Sub.Region\"                              \n",
       " [5] \"Sector\"                                  \n",
       " [6] \"Post.Type\"                               \n",
       " [7] \"Programme.Preference\"                    \n",
       " [8] \"Abbreviation\"                            \n",
       " [9] \"Programme.Title\"                         \n",
       "[10] \"Programme.Description\"                   \n",
       "[11] \"Places.Available\"                        \n",
       "[12] \"Start.Date\"                              \n",
       "[13] \"Employer.Type\"                           \n",
       "[14] \"Employer.Name\"                           \n",
       "[15] \"Size.of.organisation..Primary.care.only.\"\n",
       "[16] \"Specialties..Hospital.only.\"             \n",
       "[17] \"Skilled.worker.visa\"                     \n",
       "[18] \"Number.of.Licences\"                      \n",
       "[19] \"Salary....\"                              \n",
       "[20] \"Training.Provider\"                       \n",
       "[21] \"Employer.website\"                        \n",
       "[22] \"Hours.per.Week\"                          \n",
       "[23] \"ProgrammeNumber\"                         \n",
       "[24] \"ProgrammeName\"                           \n",
       "[25] \"ICS.Name\"                                \n",
       "[26] \"Pharmacy.Programme.Number\"               \n",
       "[27] \"Number.of.Placements..3.months.or.more.\" \n",
       "[28] \"Practice.Placement.Setting.1\"            \n",
       "[29] \"Length.of.Placement.1..3.months.or.more.\"\n",
       "[30] \"Practice.Placement.Setting.2\"            \n",
       "[31] \"Length.of.Placement.2..3.months.or.more.\"\n",
       "[32] \"Practice.Placement.Setting.3\"            \n",
       "[33] \"Length.of.Placement.3..3.months.or.more.\"\n",
       "[34] \"Practice.Placement.Setting.4\"            \n",
       "[35] \"Length.of.Placement.4..3.months.or.more.\"\n",
       "[36] \"Placement.1..SystemID\"                   \n",
       "[37] \"Placement.2..SystemID\"                   \n",
       "[38] \"Placement.3..SystemID\"                   \n",
       "[39] \"Placement.4..SystemID\"                   "
      ]
     },
     "metadata": {},
     "output_type": "display_data"
    }
   ],
   "source": [
    "colnames(OD2526)\n",
    "colnames(OD2425)"
   ]
  },
  {
   "cell_type": "markdown",
   "metadata": {},
   "source": [
    "- Do not need the following columns from 2526 data: \n",
    "\n",
    "'Programme.SystemID', 'Recruitment.Office', 'Post.Type', 'Abbreviation', 'Start.Date','Employer.website', 'ProgrammeNumber', 'ProgrammeName', 'Pharmacy.Programme.Number', 'Length.of.Placement.Rotation.1..weeks.', 'Length.of.Placement.Rotation.2..weeks', 'Length.of.Placement.Rotation.3..weeks.','Length.of.Placement.Rotation.4..weeks.','Placement.Rotation.1..SystemID','Placement.Rotation.2..SystemID','Placement.Rotation.3..SystemID','Placement.Rotation.4..SystemID'\n",
    "\n",
    "- Do not need the following columns from 2425 data:\n",
    "\n",
    "'Programme.SystemID','Recruitment.Office','Post.Type','Abbreviation','Start.Date','Employer.website','ProgrammeNumber','ProgrammeName','Pharmacy.Programme.Number','Placement.4..SystemID','Placement.3..SystemID','Placement.2..SystemID','Placement.1..SystemID','Length.of.Placement.4..3.months.or.more.','Length.of.Placement.2..3.months.or.more.','Length.of.Placement.1..3.months.or.more.','Length.of.Placement.3..3.months.or.more.'\n",
    "\n",
    "\n"
   ]
  },
  {
   "cell_type": "code",
   "execution_count": 57,
   "metadata": {
    "vscode": {
     "languageId": "r"
    }
   },
   "outputs": [
    {
     "data": {
      "text/html": [
       "<style>\n",
       ".list-inline {list-style: none; margin:0; padding: 0}\n",
       ".list-inline>li {display: inline-block}\n",
       ".list-inline>li:not(:last-child)::after {content: \"\\00b7\"; padding: 0 .5ex}\n",
       "</style>\n",
       "<ol class=list-inline><li>'Region'</li><li>'Sub.Region'</li><li>'Sector'</li><li>'Programme.Preference'</li><li>'Programme.Title'</li><li>'Programme.Description'</li><li>'Places.Available'</li><li>'Employer.Type'</li><li>'Employer.Name'</li><li>'Size.of.organisation..Primary.care.only.'</li><li>'Specialties..Hospital.only.'</li><li>'Skilled.worker.visa'</li><li>'Number.of.Licences'</li><li>'Salary....'</li><li>'Training.Provider'</li><li>'Hours.per.Week'</li><li>'ICB.Name'</li><li>'Number.of.Placements.Rotations'</li><li>'Practice.Placement.Rotation.Setting.1'</li><li>'Practice.Placement.Rotation.Setting.2'</li><li>'Practice.Placement.Rotation.Setting.3'</li><li>'Practice.Placement.Rotation.Setting.4'</li></ol>\n"
      ],
      "text/latex": [
       "\\begin{enumerate*}\n",
       "\\item 'Region'\n",
       "\\item 'Sub.Region'\n",
       "\\item 'Sector'\n",
       "\\item 'Programme.Preference'\n",
       "\\item 'Programme.Title'\n",
       "\\item 'Programme.Description'\n",
       "\\item 'Places.Available'\n",
       "\\item 'Employer.Type'\n",
       "\\item 'Employer.Name'\n",
       "\\item 'Size.of.organisation..Primary.care.only.'\n",
       "\\item 'Specialties..Hospital.only.'\n",
       "\\item 'Skilled.worker.visa'\n",
       "\\item 'Number.of.Licences'\n",
       "\\item 'Salary....'\n",
       "\\item 'Training.Provider'\n",
       "\\item 'Hours.per.Week'\n",
       "\\item 'ICB.Name'\n",
       "\\item 'Number.of.Placements.Rotations'\n",
       "\\item 'Practice.Placement.Rotation.Setting.1'\n",
       "\\item 'Practice.Placement.Rotation.Setting.2'\n",
       "\\item 'Practice.Placement.Rotation.Setting.3'\n",
       "\\item 'Practice.Placement.Rotation.Setting.4'\n",
       "\\end{enumerate*}\n"
      ],
      "text/markdown": [
       "1. 'Region'\n",
       "2. 'Sub.Region'\n",
       "3. 'Sector'\n",
       "4. 'Programme.Preference'\n",
       "5. 'Programme.Title'\n",
       "6. 'Programme.Description'\n",
       "7. 'Places.Available'\n",
       "8. 'Employer.Type'\n",
       "9. 'Employer.Name'\n",
       "10. 'Size.of.organisation..Primary.care.only.'\n",
       "11. 'Specialties..Hospital.only.'\n",
       "12. 'Skilled.worker.visa'\n",
       "13. 'Number.of.Licences'\n",
       "14. 'Salary....'\n",
       "15. 'Training.Provider'\n",
       "16. 'Hours.per.Week'\n",
       "17. 'ICB.Name'\n",
       "18. 'Number.of.Placements.Rotations'\n",
       "19. 'Practice.Placement.Rotation.Setting.1'\n",
       "20. 'Practice.Placement.Rotation.Setting.2'\n",
       "21. 'Practice.Placement.Rotation.Setting.3'\n",
       "22. 'Practice.Placement.Rotation.Setting.4'\n",
       "\n",
       "\n"
      ],
      "text/plain": [
       " [1] \"Region\"                                  \n",
       " [2] \"Sub.Region\"                              \n",
       " [3] \"Sector\"                                  \n",
       " [4] \"Programme.Preference\"                    \n",
       " [5] \"Programme.Title\"                         \n",
       " [6] \"Programme.Description\"                   \n",
       " [7] \"Places.Available\"                        \n",
       " [8] \"Employer.Type\"                           \n",
       " [9] \"Employer.Name\"                           \n",
       "[10] \"Size.of.organisation..Primary.care.only.\"\n",
       "[11] \"Specialties..Hospital.only.\"             \n",
       "[12] \"Skilled.worker.visa\"                     \n",
       "[13] \"Number.of.Licences\"                      \n",
       "[14] \"Salary....\"                              \n",
       "[15] \"Training.Provider\"                       \n",
       "[16] \"Hours.per.Week\"                          \n",
       "[17] \"ICB.Name\"                                \n",
       "[18] \"Number.of.Placements.Rotations\"          \n",
       "[19] \"Practice.Placement.Rotation.Setting.1\"   \n",
       "[20] \"Practice.Placement.Rotation.Setting.2\"   \n",
       "[21] \"Practice.Placement.Rotation.Setting.3\"   \n",
       "[22] \"Practice.Placement.Rotation.Setting.4\"   "
      ]
     },
     "metadata": {},
     "output_type": "display_data"
    },
    {
     "data": {
      "text/html": [
       "<style>\n",
       ".list-inline {list-style: none; margin:0; padding: 0}\n",
       ".list-inline>li {display: inline-block}\n",
       ".list-inline>li:not(:last-child)::after {content: \"\\00b7\"; padding: 0 .5ex}\n",
       "</style>\n",
       "<ol class=list-inline><li>'Region'</li><li>'Sub.Region'</li><li>'Sector'</li><li>'Programme.Preference'</li><li>'Programme.Title'</li><li>'Programme.Description'</li><li>'Places.Available'</li><li>'Employer.Type'</li><li>'Employer.Name'</li><li>'Size.of.organisation..Primary.care.only.'</li><li>'Specialties..Hospital.only.'</li><li>'Skilled.worker.visa'</li><li>'Number.of.Licences'</li><li>'Salary....'</li><li>'Training.Provider'</li><li>'Hours.per.Week'</li><li>'ICS.Name'</li><li>'Number.of.Placements..3.months.or.more.'</li><li>'Practice.Placement.Setting.1'</li><li>'Practice.Placement.Setting.2'</li><li>'Practice.Placement.Setting.3'</li><li>'Practice.Placement.Setting.4'</li></ol>\n"
      ],
      "text/latex": [
       "\\begin{enumerate*}\n",
       "\\item 'Region'\n",
       "\\item 'Sub.Region'\n",
       "\\item 'Sector'\n",
       "\\item 'Programme.Preference'\n",
       "\\item 'Programme.Title'\n",
       "\\item 'Programme.Description'\n",
       "\\item 'Places.Available'\n",
       "\\item 'Employer.Type'\n",
       "\\item 'Employer.Name'\n",
       "\\item 'Size.of.organisation..Primary.care.only.'\n",
       "\\item 'Specialties..Hospital.only.'\n",
       "\\item 'Skilled.worker.visa'\n",
       "\\item 'Number.of.Licences'\n",
       "\\item 'Salary....'\n",
       "\\item 'Training.Provider'\n",
       "\\item 'Hours.per.Week'\n",
       "\\item 'ICS.Name'\n",
       "\\item 'Number.of.Placements..3.months.or.more.'\n",
       "\\item 'Practice.Placement.Setting.1'\n",
       "\\item 'Practice.Placement.Setting.2'\n",
       "\\item 'Practice.Placement.Setting.3'\n",
       "\\item 'Practice.Placement.Setting.4'\n",
       "\\end{enumerate*}\n"
      ],
      "text/markdown": [
       "1. 'Region'\n",
       "2. 'Sub.Region'\n",
       "3. 'Sector'\n",
       "4. 'Programme.Preference'\n",
       "5. 'Programme.Title'\n",
       "6. 'Programme.Description'\n",
       "7. 'Places.Available'\n",
       "8. 'Employer.Type'\n",
       "9. 'Employer.Name'\n",
       "10. 'Size.of.organisation..Primary.care.only.'\n",
       "11. 'Specialties..Hospital.only.'\n",
       "12. 'Skilled.worker.visa'\n",
       "13. 'Number.of.Licences'\n",
       "14. 'Salary....'\n",
       "15. 'Training.Provider'\n",
       "16. 'Hours.per.Week'\n",
       "17. 'ICS.Name'\n",
       "18. 'Number.of.Placements..3.months.or.more.'\n",
       "19. 'Practice.Placement.Setting.1'\n",
       "20. 'Practice.Placement.Setting.2'\n",
       "21. 'Practice.Placement.Setting.3'\n",
       "22. 'Practice.Placement.Setting.4'\n",
       "\n",
       "\n"
      ],
      "text/plain": [
       " [1] \"Region\"                                  \n",
       " [2] \"Sub.Region\"                              \n",
       " [3] \"Sector\"                                  \n",
       " [4] \"Programme.Preference\"                    \n",
       " [5] \"Programme.Title\"                         \n",
       " [6] \"Programme.Description\"                   \n",
       " [7] \"Places.Available\"                        \n",
       " [8] \"Employer.Type\"                           \n",
       " [9] \"Employer.Name\"                           \n",
       "[10] \"Size.of.organisation..Primary.care.only.\"\n",
       "[11] \"Specialties..Hospital.only.\"             \n",
       "[12] \"Skilled.worker.visa\"                     \n",
       "[13] \"Number.of.Licences\"                      \n",
       "[14] \"Salary....\"                              \n",
       "[15] \"Training.Provider\"                       \n",
       "[16] \"Hours.per.Week\"                          \n",
       "[17] \"ICS.Name\"                                \n",
       "[18] \"Number.of.Placements..3.months.or.more.\" \n",
       "[19] \"Practice.Placement.Setting.1\"            \n",
       "[20] \"Practice.Placement.Setting.2\"            \n",
       "[21] \"Practice.Placement.Setting.3\"            \n",
       "[22] \"Practice.Placement.Setting.4\"            "
      ]
     },
     "metadata": {},
     "output_type": "display_data"
    }
   ],
   "source": [
    "OD2526_irrelevant <- c('Programme.SystemID', 'Recruitment.Office', 'Post.Type', 'Abbreviation', 'Start.Date','Employer.website', 'ProgrammeNumber', 'ProgrammeName', 'Pharmacy.Programme.Number', 'Length.of.Placement.Rotation.1..weeks.', 'Length.of.Placement.Rotation.2..weeks.', 'Length.of.Placement.Rotation.3..weeks.','Length.of.Placement.Rotation.4..weeks.','Placement.Rotation.1..SystemID','Placement.Rotation.2..SystemID','Placement.Rotation.3..SystemID','Placement.Rotation.4..SystemID')\n",
    "OD2425_irrelevant <- c('Programme.SystemID','Recruitment.Office','Post.Type','Abbreviation','Start.Date','Employer.website','ProgrammeNumber','ProgrammeName','Pharmacy.Programme.Number','Placement.4..SystemID','Placement.3..SystemID','Placement.2..SystemID','Placement.1..SystemID','Length.of.Placement.4..3.months.or.more.','Length.of.Placement.2..3.months.or.more.','Length.of.Placement.1..3.months.or.more.','Length.of.Placement.3..3.months.or.more.')\n",
    "\n",
    "OD2526_modified <- select(OD2526, -one_of(OD2526_irrelevant))\n",
    "OD2425_modified <- select(OD2425, -one_of(OD2425_irrelevant))\n",
    "\n",
    "colnames(OD2526_modified)\n",
    "colnames(OD2425_modified)"
   ]
  },
  {
   "cell_type": "code",
   "execution_count": 5,
   "metadata": {
    "vscode": {
     "languageId": "r"
    }
   },
   "outputs": [
    {
     "ename": "ERROR",
     "evalue": "Error in eval(expr, envir, enclos): object 'OD' not found\n",
     "output_type": "error",
     "traceback": [
      "Error in eval(expr, envir, enclos): object 'OD' not found\nTraceback:\n",
      "1. as.data.frame(OD)"
     ]
    }
   ],
   "source": [
    "# Changing column names to match the 2022-2023 and 2023-2024 datasets and improve readability\n",
    "# Resume\n",
    "\n",
    "names(OD)[names(OD) == \"Salary....\"] <- \"Salary\"\n",
    "names(OD)[names(OD) == \"Skilled.worker.visa\"] <- \"Visa\"\n",
    "names(OD)[names(OD) == \"Hours.per.Week\"] <- \"Working.hours\"\n",
    "names(OD)[names(OD) == \"Practice.Placement.Rotation.Setting.1\"] <- \"Rotation1\"\n",
    "names(OD)[names(OD) == \"Length.of.Placement.Rotation.1..weeks.\"] <- \"Rotation1.duration\"\n",
    "names(OD)[names(OD) == \"Practice.Placement.Rotation.Setting.2\"] <- \"Rotation2\"\n",
    "names(OD)[names(OD) == \"Length.of.Placement.Rotation.2..weeks.\"] <- \"Rotation2.duration\"\n",
    "names(OD)[names(OD) == \"Practice.Placement.Rotation.Setting.3\"] <- \"Rotation3\"\n",
    "names(OD)[names(OD) == \"Length.of.Placement.Rotation.3..weeks.\"] <- \"Rotation3.duration\"\n",
    "names(OD)[names(OD) == \"Practice.Placement.Rotation.Setting.4\"] <- \"Rotation4\"\n",
    "names(OD)[names(OD) == \"Length.of.Placement.Rotation.4..weeks.\"] <- \"Rotation4.duration\"\n",
    "\n",
    "colnames(OD)\n",
    "dim(OD)  \n",
    "\n",
    "#Classify the type of training\n",
    "OD$Training.type <- ifelse(OD$Rotation1.duration >= OD$Rotation2.duration + 13, \"Non-split\", \n",
    "                                      ifelse(OD$Rotation1.duration == OD$Rotation2.duration, \"Split\", \"Other\"))\n"
   ]
  },
  {
   "cell_type": "code",
   "execution_count": null,
   "metadata": {
    "vscode": {
     "languageId": "r"
    }
   },
   "outputs": [],
   "source": [
    "keeps <- c(\"Training.type\",\"Employer.Type\", \"Region\", \"Sector\", \"Programme.Title\", \"Visa\", \"Salary\", \"Places.Available\", \"Working.hours\",\n",
    "           \"Rotation1\", \"Rotation1.duration\", \"Rotation2\", \"Rotation2.duration\", \"Rotation3\", \"Rotation3.duration\", \"Rotation4\", \"Rotation4.duration\")\n",
    "           \n",
    "OD <- OD[-keeps]\n",
    "colnames(OD)\n",
    "OD$Hourly.Wage <- OD$Salary/52/OD$Working.hours\n",
    "OD$Visa <- as.factor(OD$Visa)"
   ]
  },
  {
   "cell_type": "code",
   "execution_count": null,
   "metadata": {
    "vscode": {
     "languageId": "r"
    }
   },
   "outputs": [],
   "source": [
    "library(ggplot2)\n",
    "\n",
    "# Define the plot for Hours Worked per Week\n",
    "hours.worked.plot <- ggplot(OD, aes(x = Working.hours)) + \n",
    "  geom_histogram(binwidth = 1) + \n",
    "  ggtitle(\"Histogram of Hours Worked per Week\") + \n",
    "  xlab(\"Hours per Week\") + \n",
    "  ylab(\"Frequency\") +\n",
    "  scale_x_continuous(breaks = seq(0, max(OD$Working.hours, na.rm = TRUE), by = 5))\n",
    "\n",
    "# Display the plot\n",
    "hours.worked.plot\n"
   ]
  },
  {
   "cell_type": "code",
   "execution_count": null,
   "metadata": {
    "vscode": {
     "languageId": "r"
    }
   },
   "outputs": [],
   "source": [
    "# Define the plot for Salary with meaningful intervals\n",
    "salary.plot <- ggplot(OD, aes(x = Salary)) + \n",
    "  geom_histogram(binwidth = 500) + \n",
    "  ggtitle(\"Histogram of Salary\") + \n",
    "  xlab(\"Salary\") + \n",
    "  ylab(\"Frequency\") +\n",
    "  scale_x_continuous(breaks = seq(20000, max(OD$Salary, na.rm = TRUE), by = 2500))\n",
    "\n",
    "# Display the plot\n",
    "\n",
    "length(unique(OD$Salary))\n",
    "unique(OD$Salary)\n",
    "\n",
    "# Define the plot for Salary with meaningful intervals\n",
    "salary.plot <- ggplot(OD, aes(x = Salary)) + \n",
    "  geom_histogram(binwidth = 1500) + \n",
    "  ggtitle(\"Histogram of Salary\") + \n",
    "  xlab(\"Salary\") + \n",
    "  ylab(\"Frequency\") +\n",
    "  scale_x_continuous(breaks = seq(20000, max(OD$Salary, na.rm = TRUE), by = 2500)) +\n",
    "  theme_bw() +\n",
    "  geom_vline(xintercept = 25600, color = \"red\") \n",
    "\n",
    "        \n",
    "\n",
    "salary.plot\n",
    "\n"
   ]
  },
  {
   "cell_type": "code",
   "execution_count": null,
   "metadata": {
    "vscode": {
     "languageId": "r"
    }
   },
   "outputs": [],
   "source": [
    "community.pharmacy.average.salary <- mean(OD$Salary[OD$Employer.Type == \"Primary Care\"], na.rm = TRUE)\n",
    "community.pharmacy.average.salary\n",
    "community.min.salary <- min(OD$Salary[OD$Employer.Type == \"Primary Care\"], na.rm = TRUE)\n",
    "community.max.salary <- max(OD$Salary[OD$Employer.Type == \"Primary Care\"], na.rm = TRUE)\n",
    "paste0(\"The average salary for community pharmacy is \", community.pharmacy.average.salary, \" with a minimum of \", community.min.salary, \" and a maximum of \", community.max.salary)\n",
    "\n",
    "hospital.pharmacy.average.salary <- mean(OD$Salary[OD$Employer.Type == \"Hospital\"], na.rm = TRUE)\n",
    "hospital.pharmacy.average.salary\n",
    "hospital.min.salary <- min(OD$Salary[OD$Employer.Type == \"Hospital\"], na.rm = TRUE)\n",
    "hospital.max.salary <- max(OD$Salary[OD$Employer.Type == \"Hospital\"], na.rm = TRUE)\n",
    "paste0(\"The average salary for hospital pharmacy is \", hospital.pharmacy.average.salary, \" with a minimum of \", hospital.min.salary, \" and a maximum of \", hospital.max.salary)"
   ]
  },
  {
   "cell_type": "code",
   "execution_count": null,
   "metadata": {
    "vscode": {
     "languageId": "r"
    }
   },
   "outputs": [],
   "source": [
    "num_hosp <- filter(OD, Employer.Type == \"Hospital\") %>% nrow()  \n",
    "num_hosp\n",
    "\n",
    "soreted_salary <- OD[order(-OD$Salary),]\n",
    "# head(soreted_salary)\n",
    "\n",
    "# 34098 might be a wrong salary\n",
    "\n",
    "OD <- OD %>% mutate(Salary = ifelse(Salary == 34098,34089,Salary))\n",
    "soreted_salary[70,]\n",
    "soreted_salary[80,]\n",
    "\n",
    "#https://faq.nhsbsa.nhs.uk/knowledgebase/article/KA-23439/en-us\n",
    "#https://www.healthcareers.nhs.uk/working-health/working-nhs/nhs-pay-and-benefits/agenda-change-pay-rates\n",
    "\n",
    "\n",
    "num_hosp_with_london_weighting <- filter(OD, Employer.Type == \"Hospital\" & Salary == 34089) %>% nrow()  \n",
    "num_hosp_with_london_weighting\n",
    "# This is not the total number of places available in hospitals, but the number of programmes with London weighting"
   ]
  },
  {
   "cell_type": "code",
   "execution_count": null,
   "metadata": {
    "vscode": {
     "languageId": "r"
    }
   },
   "outputs": [],
   "source": [
    "result <- OD %>%\n",
    "    filter(Salary == 34098) \n",
    "result"
   ]
  },
  {
   "cell_type": "code",
   "execution_count": null,
   "metadata": {
    "vscode": {
     "languageId": "r"
    }
   },
   "outputs": [],
   "source": [
    "OD2324 <- read.csv(\"oriel2324.csv\")\n",
    "sum(OD2324$Places.Available)\n",
    "ggplot(OD2324, aes(x = Salary)) + \n",
    "  geom_histogram(binwidth = 1500) + \n",
    "  ggtitle(\"Histogram of Salary\") + \n",
    "  xlab(\"Salary\") + \n",
    "  ylab(\"Frequency\") +\n",
    "  scale_x_continuous(breaks = seq(20000, max(OD$Salary, na.rm = TRUE), by = 2500)) +\n",
    "  theme_bw() +\n",
    "  geom_vline(xintercept = 18600, color = \"red\") "
   ]
  },
  {
   "cell_type": "code",
   "execution_count": null,
   "metadata": {
    "vscode": {
     "languageId": "r"
    }
   },
   "outputs": [],
   "source": [
    "#Expand the data frame to reflect true number of places available\n",
    "sample_plot <- OD %>%\n",
    "    uncount(Places.Available) \n",
    "\n",
    "colnames(sample_plot)\n",
    "\n",
    "ggplot(sample_plot, aes(x = Salary)) + \n",
    "  geom_histogram(binwidth = 1500) + \n",
    "  ggtitle(\"Histogram of Salary\") + \n",
    "  xlab(\"Salary\") + \n",
    "  ylab(\"Frequency\") +\n",
    "  theme_bw() +\n",
    "  geom_vline(xintercept = 25600, color = \"red\")\n",
    "\n",
    "colnames(OD)"
   ]
  },
  {
   "cell_type": "code",
   "execution_count": null,
   "metadata": {
    "vscode": {
     "languageId": "r"
    }
   },
   "outputs": [],
   "source": [
    "colnames(OD2324)\n",
    "OD2324_expanded <- OD2324 %>%\n",
    "    uncount(Places.Available) \n",
    "\n",
    "ggplot(OD2324_expanded, aes(x = Salary)) + \n",
    "  geom_histogram(binwidth = 1500) + \n",
    "  ggtitle(\"Histogram of Salary\") + \n",
    "  xlab(\"Salary\") + \n",
    "  ylab(\"Frequency\") +\n",
    "  theme_bw() +\n",
    "  geom_vline(xintercept = 18600, color = \"red\")\n",
    "\n",
    "count(OD2324_expanded)"
   ]
  },
  {
   "cell_type": "code",
   "execution_count": null,
   "metadata": {
    "vscode": {
     "languageId": "r"
    }
   },
   "outputs": [],
   "source": [
    "readRenviron(\"/.renviron\")"
   ]
  },
  {
   "cell_type": "code",
   "execution_count": null,
   "metadata": {
    "vscode": {
     "languageId": "r"
    }
   },
   "outputs": [],
   "source": [
    "OPENAI_API_KEY <- Sys.getenv(\"open_ai_api_key\")\n",
    "\n",
    "Sys.setenv(\n",
    "    OPENAI_API_KEY = OPENAI_API_KEY\n",
    ")"
   ]
  },
  {
   "cell_type": "code",
   "execution_count": null,
   "metadata": {
    "vscode": {
     "languageId": "r"
    }
   },
   "outputs": [],
   "source": [
    "sample_programme_description = sample_OD$Programme.Description[2106]\n",
    "\n",
    "sample_prompt = paste0(\"List three very brief bullet points why this programme is good and create relevant tags for sorting: \", sample_programme_description)"
   ]
  },
  {
   "cell_type": "code",
   "execution_count": null,
   "metadata": {
    "vscode": {
     "languageId": "r"
    }
   },
   "outputs": [],
   "source": [
    "sample_OD$Programme.Description[2106]\n"
   ]
  },
  {
   "cell_type": "code",
   "execution_count": null,
   "metadata": {
    "vscode": {
     "languageId": "r"
    }
   },
   "outputs": [],
   "source": [
    "example_gpt <- create_chat_completion(\n",
    "    model = \"gpt-3.5-turbo\",\n",
    "    messages = list(\n",
    "        list(\n",
    "            \"role\" = \"user\",\n",
    "            \"content\" = sample_prompt\n",
    "        )\n",
    "    )\n",
    ")\n",
    "example_gpt"
   ]
  },
  {
   "cell_type": "code",
   "execution_count": null,
   "metadata": {
    "vscode": {
     "languageId": "r"
    }
   },
   "outputs": [],
   "source": [
    "example_gpt$choices$message.content"
   ]
  }
 ],
 "metadata": {
  "kernelspec": {
   "display_name": "R",
   "language": "R",
   "name": "ir"
  },
  "language_info": {
   "codemirror_mode": "r",
   "file_extension": ".r",
   "mimetype": "text/x-r-source",
   "name": "R",
   "pygments_lexer": "r",
   "version": "4.4.1"
  }
 },
 "nbformat": 4,
 "nbformat_minor": 2
}
