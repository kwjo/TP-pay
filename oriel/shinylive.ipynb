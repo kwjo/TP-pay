{
 "cells": [
  {
   "cell_type": "code",
   "execution_count": 5,
   "metadata": {
    "vscode": {
     "languageId": "r"
    }
   },
   "outputs": [
    {
     "data": {
      "text/html": [
       "'/Users/kwjo/Developer/trainee-pharmacist-salary-analysis/oriel'"
      ],
      "text/latex": [
       "'/Users/kwjo/Developer/trainee-pharmacist-salary-analysis/oriel'"
      ],
      "text/markdown": [
       "'/Users/kwjo/Developer/trainee-pharmacist-salary-analysis/oriel'"
      ],
      "text/plain": [
       "[1] \"/Users/kwjo/Developer/trainee-pharmacist-salary-analysis/oriel\""
      ]
     },
     "metadata": {},
     "output_type": "display_data"
    }
   ],
   "source": [
    "getwd()"
   ]
  },
  {
   "cell_type": "code",
   "execution_count": 9,
   "metadata": {
    "vscode": {
     "languageId": "r"
    }
   },
   "outputs": [
    {
     "ename": "ERROR",
     "evalue": "\u001b[1m\u001b[33mError\u001b[39m in `shinylive::export()`:\u001b[22m\n\u001b[1m\u001b[22m\u001b[33m!\u001b[39m `appdir` must be a directory, but was provided\n  \u001b[34mtrainee-pharmacist-salary-analysis/oriel\u001b[39m.\n",
     "output_type": "error",
     "traceback": [
      "\u001b[1m\u001b[33mError\u001b[39m in `shinylive::export()`:\u001b[22m\n\u001b[1m\u001b[22m\u001b[33m!\u001b[39m `appdir` must be a directory, but was provided\n  \u001b[34mtrainee-pharmacist-salary-analysis/oriel\u001b[39m.\nTraceback:\n",
      "1. shinylive::export(appdir = \"trainee-pharmacist-salary-analysis/oriel\", \n .     destdir = \"docs\")",
      "2. cli::cli_abort(\"{.var appdir} must be a directory, but was provided {.path {appdir}}.\")",
      "3. rlang::abort(message, ..., call = call, use_cli_format = TRUE, \n .     .frame = .frame)",
      "4. signal_abort(cnd, .file)"
     ]
    }
   ],
   "source": [
    "shinylive::export(\n",
    "    appdir = \"trainee-pharmacist-salary-analysis/oriel\",\n",
    "    destdir = \"docs\"\n",
    ")"
   ]
  }
 ],
 "metadata": {
  "kernelspec": {
   "display_name": "R",
   "language": "R",
   "name": "ir"
  },
  "language_info": {
   "codemirror_mode": "r",
   "file_extension": ".r",
   "mimetype": "text/x-r-source",
   "name": "R",
   "pygments_lexer": "r",
   "version": "4.4.1"
  }
 },
 "nbformat": 4,
 "nbformat_minor": 2
}
