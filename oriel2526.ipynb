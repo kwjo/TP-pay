{
 "cells": [
  {
   "cell_type": "markdown",
   "metadata": {},
   "source": [
    "TODO\n",
    "- Get min community place\n",
    "- Get max/min hourly and plot\n",
    "- Find a better theme\n",
    "- Graph smoothening for distribution - using binwidth"
   ]
  },
  {
   "cell_type": "code",
   "execution_count": 2,
   "metadata": {
    "vscode": {
     "languageId": "r"
    }
   },
   "outputs": [
    {
     "ename": "ERROR",
     "evalue": "Error in loadNamespace(x): there is no package called ‘devtools’\n",
     "output_type": "error",
     "traceback": [
      "Error in loadNamespace(x): there is no package called ‘devtools’\nTraceback:\n",
      "1. loadNamespace(x)",
      "2. withRestarts(stop(cond), retry_loadNamespace = function() NULL)",
      "3. withOneRestart(expr, restarts[[1L]])",
      "4. doWithOneRestart(return(expr), restart)"
     ]
    }
   ],
   "source": [
    "devtools::install_github('bbc/bbplot')\n"
   ]
  },
  {
   "cell_type": "code",
   "execution_count": 1,
   "metadata": {
    "vscode": {
     "languageId": "r"
    }
   },
   "outputs": [
    {
     "name": "stderr",
     "output_type": "stream",
     "text": [
      "\n",
      "Attaching package: ‘dplyr’\n",
      "\n",
      "\n",
      "The following objects are masked from ‘package:stats’:\n",
      "\n",
      "    filter, lag\n",
      "\n",
      "\n",
      "The following objects are masked from ‘package:base’:\n",
      "\n",
      "    intersect, setdiff, setequal, union\n",
      "\n",
      "\n"
     ]
    },
    {
     "ename": "ERROR",
     "evalue": "Error in library(devtools): there is no package called ‘devtools’\n",
     "output_type": "error",
     "traceback": [
      "Error in library(devtools): there is no package called ‘devtools’\nTraceback:\n",
      "1. library(devtools)"
     ]
    }
   ],
   "source": [
    "#OD for oriel data\n",
    "OD <- read.csv(\"oriel2526.csv\")\n",
    "library(dplyr)\n",
    "library(ggplot2)\n",
    "library(devtools)"
   ]
  },
  {
   "cell_type": "code",
   "execution_count": 3,
   "metadata": {
    "vscode": {
     "languageId": "r"
    }
   },
   "outputs": [
    {
     "data": {
      "text/html": [
       "<style>\n",
       ".list-inline {list-style: none; margin:0; padding: 0}\n",
       ".list-inline>li {display: inline-block}\n",
       ".list-inline>li:not(:last-child)::after {content: \"\\00b7\"; padding: 0 .5ex}\n",
       "</style>\n",
       "<ol class=list-inline><li>'Programme.SystemID'</li><li>'Recruitment.Office'</li><li>'Region'</li><li>'Sub.Region'</li><li>'Sector'</li><li>'Post.Type'</li><li>'Programme.Preference'</li><li>'Abbreviation'</li><li>'Programme.Title'</li><li>'Programme.Description'</li><li>'Places.Available'</li><li>'Start.Date'</li><li>'Employer.Type'</li><li>'Employer.Name'</li><li>'Size.of.organisation..Primary.care.only.'</li><li>'Specialties..Hospital.only.'</li><li>'Visa'</li><li>'Number.of.Licences'</li><li>'Salary'</li><li>'Training.Provider'</li><li>'Employer.website'</li><li>'Working.hours'</li><li>'ProgrammeNumber'</li><li>'ProgrammeName'</li><li>'ICB.Name'</li><li>'Pharmacy.Programme.Number'</li><li>'Number.of.Placements.Rotations'</li><li>'Rotation1'</li><li>'Rotation1.duration'</li><li>'Rotation2'</li><li>'Rotation2.duration'</li><li>'Rotation3'</li><li>'Rotation3.duration'</li><li>'Rotation4'</li><li>'Rotation4.duration'</li><li>'Placement.Rotation.1..SystemID'</li><li>'Placement.Rotation.2..SystemID'</li><li>'Placement.Rotation.3..SystemID'</li><li>'Placement.Rotation.4..SystemID'</li></ol>\n"
      ],
      "text/latex": [
       "\\begin{enumerate*}\n",
       "\\item 'Programme.SystemID'\n",
       "\\item 'Recruitment.Office'\n",
       "\\item 'Region'\n",
       "\\item 'Sub.Region'\n",
       "\\item 'Sector'\n",
       "\\item 'Post.Type'\n",
       "\\item 'Programme.Preference'\n",
       "\\item 'Abbreviation'\n",
       "\\item 'Programme.Title'\n",
       "\\item 'Programme.Description'\n",
       "\\item 'Places.Available'\n",
       "\\item 'Start.Date'\n",
       "\\item 'Employer.Type'\n",
       "\\item 'Employer.Name'\n",
       "\\item 'Size.of.organisation..Primary.care.only.'\n",
       "\\item 'Specialties..Hospital.only.'\n",
       "\\item 'Visa'\n",
       "\\item 'Number.of.Licences'\n",
       "\\item 'Salary'\n",
       "\\item 'Training.Provider'\n",
       "\\item 'Employer.website'\n",
       "\\item 'Working.hours'\n",
       "\\item 'ProgrammeNumber'\n",
       "\\item 'ProgrammeName'\n",
       "\\item 'ICB.Name'\n",
       "\\item 'Pharmacy.Programme.Number'\n",
       "\\item 'Number.of.Placements.Rotations'\n",
       "\\item 'Rotation1'\n",
       "\\item 'Rotation1.duration'\n",
       "\\item 'Rotation2'\n",
       "\\item 'Rotation2.duration'\n",
       "\\item 'Rotation3'\n",
       "\\item 'Rotation3.duration'\n",
       "\\item 'Rotation4'\n",
       "\\item 'Rotation4.duration'\n",
       "\\item 'Placement.Rotation.1..SystemID'\n",
       "\\item 'Placement.Rotation.2..SystemID'\n",
       "\\item 'Placement.Rotation.3..SystemID'\n",
       "\\item 'Placement.Rotation.4..SystemID'\n",
       "\\end{enumerate*}\n"
      ],
      "text/markdown": [
       "1. 'Programme.SystemID'\n",
       "2. 'Recruitment.Office'\n",
       "3. 'Region'\n",
       "4. 'Sub.Region'\n",
       "5. 'Sector'\n",
       "6. 'Post.Type'\n",
       "7. 'Programme.Preference'\n",
       "8. 'Abbreviation'\n",
       "9. 'Programme.Title'\n",
       "10. 'Programme.Description'\n",
       "11. 'Places.Available'\n",
       "12. 'Start.Date'\n",
       "13. 'Employer.Type'\n",
       "14. 'Employer.Name'\n",
       "15. 'Size.of.organisation..Primary.care.only.'\n",
       "16. 'Specialties..Hospital.only.'\n",
       "17. 'Visa'\n",
       "18. 'Number.of.Licences'\n",
       "19. 'Salary'\n",
       "20. 'Training.Provider'\n",
       "21. 'Employer.website'\n",
       "22. 'Working.hours'\n",
       "23. 'ProgrammeNumber'\n",
       "24. 'ProgrammeName'\n",
       "25. 'ICB.Name'\n",
       "26. 'Pharmacy.Programme.Number'\n",
       "27. 'Number.of.Placements.Rotations'\n",
       "28. 'Rotation1'\n",
       "29. 'Rotation1.duration'\n",
       "30. 'Rotation2'\n",
       "31. 'Rotation2.duration'\n",
       "32. 'Rotation3'\n",
       "33. 'Rotation3.duration'\n",
       "34. 'Rotation4'\n",
       "35. 'Rotation4.duration'\n",
       "36. 'Placement.Rotation.1..SystemID'\n",
       "37. 'Placement.Rotation.2..SystemID'\n",
       "38. 'Placement.Rotation.3..SystemID'\n",
       "39. 'Placement.Rotation.4..SystemID'\n",
       "\n",
       "\n"
      ],
      "text/plain": [
       " [1] \"Programme.SystemID\"                      \n",
       " [2] \"Recruitment.Office\"                      \n",
       " [3] \"Region\"                                  \n",
       " [4] \"Sub.Region\"                              \n",
       " [5] \"Sector\"                                  \n",
       " [6] \"Post.Type\"                               \n",
       " [7] \"Programme.Preference\"                    \n",
       " [8] \"Abbreviation\"                            \n",
       " [9] \"Programme.Title\"                         \n",
       "[10] \"Programme.Description\"                   \n",
       "[11] \"Places.Available\"                        \n",
       "[12] \"Start.Date\"                              \n",
       "[13] \"Employer.Type\"                           \n",
       "[14] \"Employer.Name\"                           \n",
       "[15] \"Size.of.organisation..Primary.care.only.\"\n",
       "[16] \"Specialties..Hospital.only.\"             \n",
       "[17] \"Visa\"                                    \n",
       "[18] \"Number.of.Licences\"                      \n",
       "[19] \"Salary\"                                  \n",
       "[20] \"Training.Provider\"                       \n",
       "[21] \"Employer.website\"                        \n",
       "[22] \"Working.hours\"                           \n",
       "[23] \"ProgrammeNumber\"                         \n",
       "[24] \"ProgrammeName\"                           \n",
       "[25] \"ICB.Name\"                                \n",
       "[26] \"Pharmacy.Programme.Number\"               \n",
       "[27] \"Number.of.Placements.Rotations\"          \n",
       "[28] \"Rotation1\"                               \n",
       "[29] \"Rotation1.duration\"                      \n",
       "[30] \"Rotation2\"                               \n",
       "[31] \"Rotation2.duration\"                      \n",
       "[32] \"Rotation3\"                               \n",
       "[33] \"Rotation3.duration\"                      \n",
       "[34] \"Rotation4\"                               \n",
       "[35] \"Rotation4.duration\"                      \n",
       "[36] \"Placement.Rotation.1..SystemID\"          \n",
       "[37] \"Placement.Rotation.2..SystemID\"          \n",
       "[38] \"Placement.Rotation.3..SystemID\"          \n",
       "[39] \"Placement.Rotation.4..SystemID\"          "
      ]
     },
     "metadata": {},
     "output_type": "display_data"
    },
    {
     "data": {
      "text/html": [
       "<style>\n",
       ".list-inline {list-style: none; margin:0; padding: 0}\n",
       ".list-inline>li {display: inline-block}\n",
       ".list-inline>li:not(:last-child)::after {content: \"\\00b7\"; padding: 0 .5ex}\n",
       "</style>\n",
       "<ol class=list-inline><li>3923</li><li>39</li></ol>\n"
      ],
      "text/latex": [
       "\\begin{enumerate*}\n",
       "\\item 3923\n",
       "\\item 39\n",
       "\\end{enumerate*}\n"
      ],
      "text/markdown": [
       "1. 3923\n",
       "2. 39\n",
       "\n",
       "\n"
      ],
      "text/plain": [
       "[1] 3923   39"
      ]
     },
     "metadata": {},
     "output_type": "display_data"
    }
   ],
   "source": [
    "OD <- as.data.frame(OD) \n",
    "\n",
    "names(OD)[names(OD) == \"Salary....\"] <- \"Salary\"\n",
    "names(OD)[names(OD) == \"Skilled.worker.visa\"] <- \"Visa\"\n",
    "names(OD)[names(OD) == \"Hours.per.Week\"] <- \"Working.hours\"\n",
    "names(OD)[names(OD) == \"Practice.Placement.Rotation.Setting.1\"] <- \"Rotation1\"\n",
    "names(OD)[names(OD) == \"Length.of.Placement.Rotation.1..weeks.\"] <- \"Rotation1.duration\"\n",
    "names(OD)[names(OD) == \"Practice.Placement.Rotation.Setting.2\"] <- \"Rotation2\"\n",
    "names(OD)[names(OD) == \"Length.of.Placement.Rotation.2..weeks.\"] <- \"Rotation2.duration\"\n",
    "names(OD)[names(OD) == \"Practice.Placement.Rotation.Setting.3\"] <- \"Rotation3\"\n",
    "names(OD)[names(OD) == \"Length.of.Placement.Rotation.3..weeks.\"] <- \"Rotation3.duration\"\n",
    "names(OD)[names(OD) == \"Practice.Placement.Rotation.Setting.4\"] <- \"Rotation4\"\n",
    "names(OD)[names(OD) == \"Length.of.Placement.Rotation.4..weeks.\"] <- \"Rotation4.duration\"\n",
    "\n",
    "colnames(OD)\n",
    "dim(OD)  \n",
    "\n",
    "#Classify the type of training\n",
    "OD$Training.type <- ifelse(OD$Rotation1.duration >= OD$Rotation2.duration + 13, \"Non-split\", \n",
    "                                      ifelse(OD$Rotation1.duration == OD$Rotation2.duration, \"Split\", \"Other\"))\n"
   ]
  },
  {
   "cell_type": "code",
   "execution_count": 4,
   "metadata": {
    "vscode": {
     "languageId": "r"
    }
   },
   "outputs": [
    {
     "data": {
      "text/html": [
       "<style>\n",
       ".list-inline {list-style: none; margin:0; padding: 0}\n",
       ".list-inline>li {display: inline-block}\n",
       ".list-inline>li:not(:last-child)::after {content: \"\\00b7\"; padding: 0 .5ex}\n",
       "</style>\n",
       "<ol class=list-inline><li>'Training.type'</li><li>'Employer.Type'</li><li>'Region'</li><li>'Sector'</li><li>'Programme.Title'</li><li>'Visa'</li><li>'Salary'</li><li>'Places.Available'</li><li>'Working.hours'</li><li>'Rotation1'</li><li>'Rotation1.duration'</li><li>'Rotation2'</li><li>'Rotation2.duration'</li><li>'Rotation3'</li><li>'Rotation3.duration'</li><li>'Rotation4'</li><li>'Rotation4.duration'</li></ol>\n"
      ],
      "text/latex": [
       "\\begin{enumerate*}\n",
       "\\item 'Training.type'\n",
       "\\item 'Employer.Type'\n",
       "\\item 'Region'\n",
       "\\item 'Sector'\n",
       "\\item 'Programme.Title'\n",
       "\\item 'Visa'\n",
       "\\item 'Salary'\n",
       "\\item 'Places.Available'\n",
       "\\item 'Working.hours'\n",
       "\\item 'Rotation1'\n",
       "\\item 'Rotation1.duration'\n",
       "\\item 'Rotation2'\n",
       "\\item 'Rotation2.duration'\n",
       "\\item 'Rotation3'\n",
       "\\item 'Rotation3.duration'\n",
       "\\item 'Rotation4'\n",
       "\\item 'Rotation4.duration'\n",
       "\\end{enumerate*}\n"
      ],
      "text/markdown": [
       "1. 'Training.type'\n",
       "2. 'Employer.Type'\n",
       "3. 'Region'\n",
       "4. 'Sector'\n",
       "5. 'Programme.Title'\n",
       "6. 'Visa'\n",
       "7. 'Salary'\n",
       "8. 'Places.Available'\n",
       "9. 'Working.hours'\n",
       "10. 'Rotation1'\n",
       "11. 'Rotation1.duration'\n",
       "12. 'Rotation2'\n",
       "13. 'Rotation2.duration'\n",
       "14. 'Rotation3'\n",
       "15. 'Rotation3.duration'\n",
       "16. 'Rotation4'\n",
       "17. 'Rotation4.duration'\n",
       "\n",
       "\n"
      ],
      "text/plain": [
       " [1] \"Training.type\"      \"Employer.Type\"      \"Region\"            \n",
       " [4] \"Sector\"             \"Programme.Title\"    \"Visa\"              \n",
       " [7] \"Salary\"             \"Places.Available\"   \"Working.hours\"     \n",
       "[10] \"Rotation1\"          \"Rotation1.duration\" \"Rotation2\"         \n",
       "[13] \"Rotation2.duration\" \"Rotation3\"          \"Rotation3.duration\"\n",
       "[16] \"Rotation4\"          \"Rotation4.duration\""
      ]
     },
     "metadata": {},
     "output_type": "display_data"
    }
   ],
   "source": [
    "keeps <- c(\"Training.type\",\"Employer.Type\", \"Region\", \"Sector\", \"Programme.Title\", \"Visa\", \"Salary\", \"Places.Available\", \"Working.hours\",\n",
    "           \"Rotation1\", \"Rotation1.duration\", \"Rotation2\", \"Rotation2.duration\", \"Rotation3\", \"Rotation3.duration\", \"Rotation4\", \"Rotation4.duration\")\n",
    "           \n",
    "OD <- OD[keeps]\n",
    "colnames(OD)\n",
    "OD$Hourly.Wage <- OD$Salary/52/OD$Working.hours\n",
    "OD$Visa <- as.factor(OD$Visa)"
   ]
  },
  {
   "cell_type": "code",
   "execution_count": 5,
   "metadata": {
    "vscode": {
     "languageId": "r"
    }
   },
   "outputs": [
    {
     "data": {
      "image/png": "[encoded data removed]",
      "text/plain": [
       "plot without title"
      ]
     },
     "metadata": {
      "image/png": {
       "height": 420,
       "width": 420
      }
     },
     "output_type": "display_data"
    }
   ],
   "source": [
    "library(ggplot2)\n",
    "\n",
    "# Define the plot for Hours Worked per Week\n",
    "hours.worked.plot <- ggplot(OD, aes(x = Working.hours)) + \n",
    "  geom_histogram(binwidth = 1) + \n",
    "  ggtitle(\"Histogram of Hours Worked per Week\") + \n",
    "  xlab(\"Hours per Week\") + \n",
    "  ylab(\"Frequency\") +\n",
    "  scale_x_continuous(breaks = seq(0, max(OD$Working.hours, na.rm = TRUE), by = 5))\n",
    "\n",
    "# Display the plot\n",
    "hours.worked.plot\n"
   ]
  },
  {
   "cell_type": "code",
   "execution_count": 15,
   "metadata": {
    "vscode": {
     "languageId": "r"
    }
   },
   "outputs": [
    {
     "data": {
      "text/html": [
       "99"
      ],
      "text/latex": [
       "99"
      ],
      "text/markdown": [
       "99"
      ],
      "text/plain": [
       "[1] 99"
      ]
     },
     "metadata": {},
     "output_type": "display_data"
    },
    {
     "data": {
      "text/html": [
       "<style>\n",
       ".list-inline {list-style: none; margin:0; padding: 0}\n",
       ".list-inline>li {display: inline-block}\n",
       ".list-inline>li:not(:last-child)::after {content: \"\\00b7\"; padding: 0 .5ex}\n",
       "</style>\n",
       "<ol class=list-inline><li>25000</li><li>26000</li><li>24000</li><li>23795</li><li>27500</li><li>22000</li><li>20825</li><li>22308</li><li>24985</li><li>25795</li><li>22605</li><li>28000</li><li>23850</li><li>28407</li><li>23500</li><li>24500</li><li>26500</li><li>24999</li><li>27000</li><li>23800</li><li>20821</li><li>26770</li><li>22011</li><li>21000</li><li>24100</li><li>32000</li><li>23000</li><li>22500</li><li>25283</li><li>26175</li><li>25580</li><li>32720</li><li>34089</li><li>27839</li><li>30000</li><li>23650</li><li>23465</li><li>25800</li><li>23200</li><li>28500</li><li>24812</li><li>26963</li><li>27471</li><li>25500</li><li>26513</li><li>27040</li><li>24300</li><li>24250</li><li>29000</li><li>21416</li><li>22750</li><li>26704</li><li>24200</li><li>28400</li><li>24390</li><li>26200</li><li>24336</li><li>29544</li><li>27203</li><li>26203</li><li>25357</li><li>23400</li><li>24900</li><li>29500</li><li>25282</li><li>22350</li><li>25400</li><li>22400</li><li>25650</li><li>26800</li><li>23300</li><li>25750</li><li>24344</li><li>26520</li><li>25480</li><li>22369</li><li>24375</li><li>20900</li><li>21500</li><li>29250</li><li>29828</li><li>22380</li><li>22905</li><li>23750</li><li>23796</li><li>24960</li><li>26703</li><li>24095</li><li>24308</li><li>21118</li><li>31200</li><li>29827</li><li>27900</li><li>24950</li><li>25358</li><li>27204</li><li>23250</li><li>22650</li><li>25350</li></ol>\n"
      ],
      "text/latex": [
       "\\begin{enumerate*}\n",
       "\\item 25000\n",
       "\\item 26000\n",
       "\\item 24000\n",
       "\\item 23795\n",
       "\\item 27500\n",
       "\\item 22000\n",
       "\\item 20825\n",
       "\\item 22308\n",
       "\\item 24985\n",
       "\\item 25795\n",
       "\\item 22605\n",
       "\\item 28000\n",
       "\\item 23850\n",
       "\\item 28407\n",
       "\\item 23500\n",
       "\\item 24500\n",
       "\\item 26500\n",
       "\\item 24999\n",
       "\\item 27000\n",
       "\\item 23800\n",
       "\\item 20821\n",
       "\\item 26770\n",
       "\\item 22011\n",
       "\\item 21000\n",
       "\\item 24100\n",
       "\\item 32000\n",
       "\\item 23000\n",
       "\\item 22500\n",
       "\\item 25283\n",
       "\\item 26175\n",
       "\\item 25580\n",
       "\\item 32720\n",
       "\\item 34089\n",
       "\\item 27839\n",
       "\\item 30000\n",
       "\\item 23650\n",
       "\\item 23465\n",
       "\\item 25800\n",
       "\\item 23200\n",
       "\\item 28500\n",
       "\\item 24812\n",
       "\\item 26963\n",
       "\\item 27471\n",
       "\\item 25500\n",
       "\\item 26513\n",
       "\\item 27040\n",
       "\\item 24300\n",
       "\\item 24250\n",
       "\\item 29000\n",
       "\\item 21416\n",
       "\\item 22750\n",
       "\\item 26704\n",
       "\\item 24200\n",
       "\\item 28400\n",
       "\\item 24390\n",
       "\\item 26200\n",
       "\\item 24336\n",
       "\\item 29544\n",
       "\\item 27203\n",
       "\\item 26203\n",
       "\\item 25357\n",
       "\\item 23400\n",
       "\\item 24900\n",
       "\\item 29500\n",
       "\\item 25282\n",
       "\\item 22350\n",
       "\\item 25400\n",
       "\\item 22400\n",
       "\\item 25650\n",
       "\\item 26800\n",
       "\\item 23300\n",
       "\\item 25750\n",
       "\\item 24344\n",
       "\\item 26520\n",
       "\\item 25480\n",
       "\\item 22369\n",
       "\\item 24375\n",
       "\\item 20900\n",
       "\\item 21500\n",
       "\\item 29250\n",
       "\\item 29828\n",
       "\\item 22380\n",
       "\\item 22905\n",
       "\\item 23750\n",
       "\\item 23796\n",
       "\\item 24960\n",
       "\\item 26703\n",
       "\\item 24095\n",
       "\\item 24308\n",
       "\\item 21118\n",
       "\\item 31200\n",
       "\\item 29827\n",
       "\\item 27900\n",
       "\\item 24950\n",
       "\\item 25358\n",
       "\\item 27204\n",
       "\\item 23250\n",
       "\\item 22650\n",
       "\\item 25350\n",
       "\\end{enumerate*}\n"
      ],
      "text/markdown": [
       "1. 25000\n",
       "2. 26000\n",
       "3. 24000\n",
       "4. 23795\n",
       "5. 27500\n",
       "6. 22000\n",
       "7. 20825\n",
       "8. 22308\n",
       "9. 24985\n",
       "10. 25795\n",
       "11. 22605\n",
       "12. 28000\n",
       "13. 23850\n",
       "14. 28407\n",
       "15. 23500\n",
       "16. 24500\n",
       "17. 26500\n",
       "18. 24999\n",
       "19. 27000\n",
       "20. 23800\n",
       "21. 20821\n",
       "22. 26770\n",
       "23. 22011\n",
       "24. 21000\n",
       "25. 24100\n",
       "26. 32000\n",
       "27. 23000\n",
       "28. 22500\n",
       "29. 25283\n",
       "30. 26175\n",
       "31. 25580\n",
       "32. 32720\n",
       "33. 34089\n",
       "34. 27839\n",
       "35. 30000\n",
       "36. 23650\n",
       "37. 23465\n",
       "38. 25800\n",
       "39. 23200\n",
       "40. 28500\n",
       "41. 24812\n",
       "42. 26963\n",
       "43. 27471\n",
       "44. 25500\n",
       "45. 26513\n",
       "46. 27040\n",
       "47. 24300\n",
       "48. 24250\n",
       "49. 29000\n",
       "50. 21416\n",
       "51. 22750\n",
       "52. 26704\n",
       "53. 24200\n",
       "54. 28400\n",
       "55. 24390\n",
       "56. 26200\n",
       "57. 24336\n",
       "58. 29544\n",
       "59. 27203\n",
       "60. 26203\n",
       "61. 25357\n",
       "62. 23400\n",
       "63. 24900\n",
       "64. 29500\n",
       "65. 25282\n",
       "66. 22350\n",
       "67. 25400\n",
       "68. 22400\n",
       "69. 25650\n",
       "70. 26800\n",
       "71. 23300\n",
       "72. 25750\n",
       "73. 24344\n",
       "74. 26520\n",
       "75. 25480\n",
       "76. 22369\n",
       "77. 24375\n",
       "78. 20900\n",
       "79. 21500\n",
       "80. 29250\n",
       "81. 29828\n",
       "82. 22380\n",
       "83. 22905\n",
       "84. 23750\n",
       "85. 23796\n",
       "86. 24960\n",
       "87. 26703\n",
       "88. 24095\n",
       "89. 24308\n",
       "90. 21118\n",
       "91. 31200\n",
       "92. 29827\n",
       "93. 27900\n",
       "94. 24950\n",
       "95. 25358\n",
       "96. 27204\n",
       "97. 23250\n",
       "98. 22650\n",
       "99. 25350\n",
       "\n",
       "\n"
      ],
      "text/plain": [
       " [1] 25000 26000 24000 23795 27500 22000 20825 22308 24985 25795 22605 28000\n",
       "[13] 23850 28407 23500 24500 26500 24999 27000 23800 20821 26770 22011 21000\n",
       "[25] 24100 32000 23000 22500 25283 26175 25580 32720 34089 27839 30000 23650\n",
       "[37] 23465 25800 23200 28500 24812 26963 27471 25500 26513 27040 24300 24250\n",
       "[49] 29000 21416 22750 26704 24200 28400 24390 26200 24336 29544 27203 26203\n",
       "[61] 25357 23400 24900 29500 25282 22350 25400 22400 25650 26800 23300 25750\n",
       "[73] 24344 26520 25480 22369 24375 20900 21500 29250 29828 22380 22905 23750\n",
       "[85] 23796 24960 26703 24095 24308 21118 31200 29827 27900 24950 25358 27204\n",
       "[97] 23250 22650 25350"
      ]
     },
     "metadata": {},
     "output_type": "display_data"
    },
    {
     "data": {
      "image/png": "[encoded data removed]",
      "text/plain": [
       "plot without title"
      ]
     },
     "metadata": {
      "image/png": {
       "height": 420,
       "width": 420
      }
     },
     "output_type": "display_data"
    }
   ],
   "source": [
    "# Define the plot for Salary with meaningful intervals\n",
    "salary.plot <- ggplot(OD, aes(x = Salary)) + \n",
    "  geom_histogram(binwidth = 500) + \n",
    "  ggtitle(\"Histogram of Salary\") + \n",
    "  xlab(\"Salary\") + \n",
    "  ylab(\"Frequency\") +\n",
    "  scale_x_continuous(breaks = seq(20000, max(OD$Salary, na.rm = TRUE), by = 2500))\n",
    "\n",
    "# Display the plot\n",
    "\n",
    "length(unique(OD$Salary))\n",
    "unique(OD$Salary)\n",
    "\n",
    "# Define the plot for Salary with meaningful intervals\n",
    "salary.plot <- ggplot(OD, aes(x = Salary)) + \n",
    "  geom_histogram(binwidth = 1500) + \n",
    "  ggtitle(\"Histogram of Salary\") + \n",
    "  xlab(\"Salary\") + \n",
    "  ylab(\"Frequency\") +\n",
    "  scale_x_continuous(breaks = seq(20000, max(OD$Salary, na.rm = TRUE), by = 2500)) +\n",
    "  theme_bw() +\n",
    "  geom_vline(xintercept = 25600, color = \"red\") \n",
    "\n",
    "        \n",
    "\n",
    "salary.plot\n",
    "\n"
   ]
  },
  {
   "cell_type": "code",
   "execution_count": 7,
   "metadata": {
    "vscode": {
     "languageId": "r"
    }
   },
   "outputs": [
    {
     "data": {
      "text/html": [
       "24929.7673853629"
      ],
      "text/latex": [
       "24929.7673853629"
      ],
      "text/markdown": [
       "24929.7673853629"
      ],
      "text/plain": [
       "[1] 24929.77"
      ]
     },
     "metadata": {},
     "output_type": "display_data"
    },
    {
     "data": {
      "text/html": [
       "'The average salary for community pharmacy is 24929.7673853629 with a minimum of 20821 and a maximum of 32000'"
      ],
      "text/latex": [
       "'The average salary for community pharmacy is 24929.7673853629 with a minimum of 20821 and a maximum of 32000'"
      ],
      "text/markdown": [
       "'The average salary for community pharmacy is 24929.7673853629 with a minimum of 20821 and a maximum of 32000'"
      ],
      "text/plain": [
       "[1] \"The average salary for community pharmacy is 24929.7673853629 with a minimum of 20821 and a maximum of 32000\""
      ]
     },
     "metadata": {},
     "output_type": "display_data"
    },
    {
     "data": {
      "text/html": [
       "29033.3015873016"
      ],
      "text/latex": [
       "29033.3015873016"
      ],
      "text/markdown": [
       "29033.3015873016"
      ],
      "text/plain": [
       "[1] 29033.3"
      ]
     },
     "metadata": {},
     "output_type": "display_data"
    },
    {
     "data": {
      "text/html": [
       "'The average salary for hospital pharmacy is 29033.3015873016 with a minimum of 25357 and a maximum of 34098'"
      ],
      "text/latex": [
       "'The average salary for hospital pharmacy is 29033.3015873016 with a minimum of 25357 and a maximum of 34098'"
      ],
      "text/markdown": [
       "'The average salary for hospital pharmacy is 29033.3015873016 with a minimum of 25357 and a maximum of 34098'"
      ],
      "text/plain": [
       "[1] \"The average salary for hospital pharmacy is 29033.3015873016 with a minimum of 25357 and a maximum of 34098\""
      ]
     },
     "metadata": {},
     "output_type": "display_data"
    }
   ],
   "source": [
    "community.pharmacy.average.salary <- mean(OD$Salary[OD$Employer.Type == \"Primary Care\"], na.rm = TRUE)\n",
    "community.pharmacy.average.salary\n",
    "community.min.salary <- min(OD$Salary[OD$Employer.Type == \"Primary Care\"], na.rm = TRUE)\n",
    "community.max.salary <- max(OD$Salary[OD$Employer.Type == \"Primary Care\"], na.rm = TRUE)\n",
    "paste0(\"The average salary for community pharmacy is \", community.pharmacy.average.salary, \" with a minimum of \", community.min.salary, \" and a maximum of \", community.max.salary)\n",
    "\n",
    "hospital.pharmacy.average.salary <- mean(OD$Salary[OD$Employer.Type == \"Hospital\"], na.rm = TRUE)\n",
    "hospital.pharmacy.average.salary\n",
    "hospital.min.salary <- min(OD$Salary[OD$Employer.Type == \"Hospital\"], na.rm = TRUE)\n",
    "hospital.max.salary <- max(OD$Salary[OD$Employer.Type == \"Hospital\"], na.rm = TRUE)\n",
    "paste0(\"The average salary for hospital pharmacy is \", hospital.pharmacy.average.salary, \" with a minimum of \", hospital.min.salary, \" and a maximum of \", hospital.max.salary)"
   ]
  },
  {
   "cell_type": "code",
   "execution_count": 8,
   "metadata": {
    "vscode": {
     "languageId": "r"
    }
   },
   "outputs": [
    {
     "data": {
      "text/html": [
       "630"
      ],
      "text/latex": [
       "630"
      ],
      "text/markdown": [
       "630"
      ],
      "text/plain": [
       "[1] 630"
      ]
     },
     "metadata": {},
     "output_type": "display_data"
    },
    {
     "data": {
      "text/html": [
       "<table class=\"dataframe\">\n",
       "<caption>A data.frame: 1 × 18</caption>\n",
       "<thead>\n",
       "\t<tr><th></th><th scope=col>Training.type</th><th scope=col>Employer.Type</th><th scope=col>Region</th><th scope=col>Sector</th><th scope=col>Programme.Title</th><th scope=col>Visa</th><th scope=col>Salary</th><th scope=col>Places.Available</th><th scope=col>Working.hours</th><th scope=col>Rotation1</th><th scope=col>Rotation1.duration</th><th scope=col>Rotation2</th><th scope=col>Rotation2.duration</th><th scope=col>Rotation3</th><th scope=col>Rotation3.duration</th><th scope=col>Rotation4</th><th scope=col>Rotation4.duration</th><th scope=col>Hourly.Wage</th></tr>\n",
       "\t<tr><th></th><th scope=col>&lt;chr&gt;</th><th scope=col>&lt;chr&gt;</th><th scope=col>&lt;chr&gt;</th><th scope=col>&lt;chr&gt;</th><th scope=col>&lt;chr&gt;</th><th scope=col>&lt;fct&gt;</th><th scope=col>&lt;int&gt;</th><th scope=col>&lt;int&gt;</th><th scope=col>&lt;dbl&gt;</th><th scope=col>&lt;chr&gt;</th><th scope=col>&lt;int&gt;</th><th scope=col>&lt;chr&gt;</th><th scope=col>&lt;int&gt;</th><th scope=col>&lt;chr&gt;</th><th scope=col>&lt;int&gt;</th><th scope=col>&lt;chr&gt;</th><th scope=col>&lt;int&gt;</th><th scope=col>&lt;dbl&gt;</th></tr>\n",
       "</thead>\n",
       "<tbody>\n",
       "\t<tr><th scope=row>2106</th><td>Non-split</td><td>Hospital</td><td>London</td><td>South West London (Pharmacy)</td><td>Kingston Hospital NHSFT + Kirkby Chemist/Kingston-upon-Thames + Sutton/KT2 7QB + SM2 6BX</td><td>Y</td><td>32720</td><td>1</td><td>37.5</td><td>Hospital</td><td>39</td><td>Community</td><td>13</td><td></td><td>NA</td><td></td><td>NA</td><td>16.77949</td></tr>\n",
       "</tbody>\n",
       "</table>\n"
      ],
      "text/latex": [
       "A data.frame: 1 × 18\n",
       "\\begin{tabular}{r|llllllllllllllllll}\n",
       "  & Training.type & Employer.Type & Region & Sector & Programme.Title & Visa & Salary & Places.Available & Working.hours & Rotation1 & Rotation1.duration & Rotation2 & Rotation2.duration & Rotation3 & Rotation3.duration & Rotation4 & Rotation4.duration & Hourly.Wage\\\\\n",
       "  & <chr> & <chr> & <chr> & <chr> & <chr> & <fct> & <int> & <int> & <dbl> & <chr> & <int> & <chr> & <int> & <chr> & <int> & <chr> & <int> & <dbl>\\\\\n",
       "\\hline\n",
       "\t2106 & Non-split & Hospital & London & South West London (Pharmacy) & Kingston Hospital NHSFT + Kirkby Chemist/Kingston-upon-Thames + Sutton/KT2 7QB + SM2 6BX & Y & 32720 & 1 & 37.5 & Hospital & 39 & Community & 13 &  & NA &  & NA & 16.77949\\\\\n",
       "\\end{tabular}\n"
      ],
      "text/markdown": [
       "\n",
       "A data.frame: 1 × 18\n",
       "\n",
       "| <!--/--> | Training.type &lt;chr&gt; | Employer.Type &lt;chr&gt; | Region &lt;chr&gt; | Sector &lt;chr&gt; | Programme.Title &lt;chr&gt; | Visa &lt;fct&gt; | Salary &lt;int&gt; | Places.Available &lt;int&gt; | Working.hours &lt;dbl&gt; | Rotation1 &lt;chr&gt; | Rotation1.duration &lt;int&gt; | Rotation2 &lt;chr&gt; | Rotation2.duration &lt;int&gt; | Rotation3 &lt;chr&gt; | Rotation3.duration &lt;int&gt; | Rotation4 &lt;chr&gt; | Rotation4.duration &lt;int&gt; | Hourly.Wage &lt;dbl&gt; |\n",
       "|---|---|---|---|---|---|---|---|---|---|---|---|---|---|---|---|---|---|---|\n",
       "| 2106 | Non-split | Hospital | London | South West London (Pharmacy) | Kingston Hospital NHSFT + Kirkby Chemist/Kingston-upon-Thames + Sutton/KT2 7QB + SM2 6BX | Y | 32720 | 1 | 37.5 | Hospital | 39 | Community | 13 | <!----> | NA | <!----> | NA | 16.77949 |\n",
       "\n"
      ],
      "text/plain": [
       "     Training.type Employer.Type Region Sector                      \n",
       "2106 Non-split     Hospital      London South West London (Pharmacy)\n",
       "     Programme.Title                                                                         \n",
       "2106 Kingston Hospital NHSFT + Kirkby Chemist/Kingston-upon-Thames + Sutton/KT2 7QB + SM2 6BX\n",
       "     Visa Salary Places.Available Working.hours Rotation1 Rotation1.duration\n",
       "2106 Y    32720  1                37.5          Hospital  39                \n",
       "     Rotation2 Rotation2.duration Rotation3 Rotation3.duration Rotation4\n",
       "2106 Community 13                           NA                          \n",
       "     Rotation4.duration Hourly.Wage\n",
       "2106 NA                 16.77949   "
      ]
     },
     "metadata": {},
     "output_type": "display_data"
    },
    {
     "data": {
      "text/html": [
       "<table class=\"dataframe\">\n",
       "<caption>A data.frame: 1 × 18</caption>\n",
       "<thead>\n",
       "\t<tr><th></th><th scope=col>Training.type</th><th scope=col>Employer.Type</th><th scope=col>Region</th><th scope=col>Sector</th><th scope=col>Programme.Title</th><th scope=col>Visa</th><th scope=col>Salary</th><th scope=col>Places.Available</th><th scope=col>Working.hours</th><th scope=col>Rotation1</th><th scope=col>Rotation1.duration</th><th scope=col>Rotation2</th><th scope=col>Rotation2.duration</th><th scope=col>Rotation3</th><th scope=col>Rotation3.duration</th><th scope=col>Rotation4</th><th scope=col>Rotation4.duration</th><th scope=col>Hourly.Wage</th></tr>\n",
       "\t<tr><th></th><th scope=col>&lt;chr&gt;</th><th scope=col>&lt;chr&gt;</th><th scope=col>&lt;chr&gt;</th><th scope=col>&lt;chr&gt;</th><th scope=col>&lt;chr&gt;</th><th scope=col>&lt;fct&gt;</th><th scope=col>&lt;int&gt;</th><th scope=col>&lt;int&gt;</th><th scope=col>&lt;dbl&gt;</th><th scope=col>&lt;chr&gt;</th><th scope=col>&lt;int&gt;</th><th scope=col>&lt;chr&gt;</th><th scope=col>&lt;int&gt;</th><th scope=col>&lt;chr&gt;</th><th scope=col>&lt;int&gt;</th><th scope=col>&lt;chr&gt;</th><th scope=col>&lt;int&gt;</th><th scope=col>&lt;dbl&gt;</th></tr>\n",
       "</thead>\n",
       "<tbody>\n",
       "\t<tr><th scope=row>3057</th><td>Split</td><td>Hospital</td><td>London</td><td>North Central London</td><td>Royal Free London NHSFT - Barnet Hospital + Longrove Medical Centre/EN5 3DJ + EN5 2ED</td><td>Y</td><td>32720</td><td>1</td><td>37.5</td><td>Hospital</td><td>26</td><td>General Practice</td><td>26</td><td></td><td>NA</td><td></td><td>NA</td><td>16.77949</td></tr>\n",
       "</tbody>\n",
       "</table>\n"
      ],
      "text/latex": [
       "A data.frame: 1 × 18\n",
       "\\begin{tabular}{r|llllllllllllllllll}\n",
       "  & Training.type & Employer.Type & Region & Sector & Programme.Title & Visa & Salary & Places.Available & Working.hours & Rotation1 & Rotation1.duration & Rotation2 & Rotation2.duration & Rotation3 & Rotation3.duration & Rotation4 & Rotation4.duration & Hourly.Wage\\\\\n",
       "  & <chr> & <chr> & <chr> & <chr> & <chr> & <fct> & <int> & <int> & <dbl> & <chr> & <int> & <chr> & <int> & <chr> & <int> & <chr> & <int> & <dbl>\\\\\n",
       "\\hline\n",
       "\t3057 & Split & Hospital & London & North Central London & Royal Free London NHSFT - Barnet Hospital + Longrove Medical Centre/EN5 3DJ + EN5 2ED & Y & 32720 & 1 & 37.5 & Hospital & 26 & General Practice & 26 &  & NA &  & NA & 16.77949\\\\\n",
       "\\end{tabular}\n"
      ],
      "text/markdown": [
       "\n",
       "A data.frame: 1 × 18\n",
       "\n",
       "| <!--/--> | Training.type &lt;chr&gt; | Employer.Type &lt;chr&gt; | Region &lt;chr&gt; | Sector &lt;chr&gt; | Programme.Title &lt;chr&gt; | Visa &lt;fct&gt; | Salary &lt;int&gt; | Places.Available &lt;int&gt; | Working.hours &lt;dbl&gt; | Rotation1 &lt;chr&gt; | Rotation1.duration &lt;int&gt; | Rotation2 &lt;chr&gt; | Rotation2.duration &lt;int&gt; | Rotation3 &lt;chr&gt; | Rotation3.duration &lt;int&gt; | Rotation4 &lt;chr&gt; | Rotation4.duration &lt;int&gt; | Hourly.Wage &lt;dbl&gt; |\n",
       "|---|---|---|---|---|---|---|---|---|---|---|---|---|---|---|---|---|---|---|\n",
       "| 3057 | Split | Hospital | London | North Central London | Royal Free London NHSFT - Barnet Hospital + Longrove Medical Centre/EN5 3DJ + EN5 2ED | Y | 32720 | 1 | 37.5 | Hospital | 26 | General Practice | 26 | <!----> | NA | <!----> | NA | 16.77949 |\n",
       "\n"
      ],
      "text/plain": [
       "     Training.type Employer.Type Region Sector              \n",
       "3057 Split         Hospital      London North Central London\n",
       "     Programme.Title                                                                      \n",
       "3057 Royal Free London NHSFT - Barnet Hospital + Longrove Medical Centre/EN5 3DJ + EN5 2ED\n",
       "     Visa Salary Places.Available Working.hours Rotation1 Rotation1.duration\n",
       "3057 Y    32720  1                37.5          Hospital  26                \n",
       "     Rotation2        Rotation2.duration Rotation3 Rotation3.duration Rotation4\n",
       "3057 General Practice 26                           NA                          \n",
       "     Rotation4.duration Hourly.Wage\n",
       "3057 NA                 16.77949   "
      ]
     },
     "metadata": {},
     "output_type": "display_data"
    },
    {
     "data": {
      "text/html": [
       "34088.4"
      ],
      "text/latex": [
       "34088.4"
      ],
      "text/markdown": [
       "34088.4"
      ],
      "text/plain": [
       "[1] 34088.4"
      ]
     },
     "metadata": {},
     "output_type": "display_data"
    },
    {
     "data": {
      "text/html": [
       "32668.05"
      ],
      "text/latex": [
       "32668.05"
      ],
      "text/markdown": [
       "32668.05"
      ],
      "text/plain": [
       "[1] 32668.05"
      ]
     },
     "metadata": {},
     "output_type": "display_data"
    },
    {
     "data": {
      "text/html": [
       "29827.35"
      ],
      "text/latex": [
       "29827.35"
      ],
      "text/markdown": [
       "29827.35"
      ],
      "text/plain": [
       "[1] 29827.35"
      ]
     },
     "metadata": {},
     "output_type": "display_data"
    },
    {
     "data": {
      "text/html": [
       "58"
      ],
      "text/latex": [
       "58"
      ],
      "text/markdown": [
       "58"
      ],
      "text/plain": [
       "[1] 58"
      ]
     },
     "metadata": {},
     "output_type": "display_data"
    },
    {
     "data": {
      "text/html": [
       "106"
      ],
      "text/latex": [
       "106"
      ],
      "text/markdown": [
       "106"
      ],
      "text/plain": [
       "[1] 106"
      ]
     },
     "metadata": {},
     "output_type": "display_data"
    },
    {
     "data": {
      "text/html": [
       "106"
      ],
      "text/latex": [
       "106"
      ],
      "text/markdown": [
       "106"
      ],
      "text/plain": [
       "[1] 106"
      ]
     },
     "metadata": {},
     "output_type": "display_data"
    },
    {
     "data": {
      "text/html": [
       "106"
      ],
      "text/latex": [
       "106"
      ],
      "text/markdown": [
       "106"
      ],
      "text/plain": [
       "[1] 106"
      ]
     },
     "metadata": {},
     "output_type": "display_data"
    },
    {
     "data": {
      "text/html": [
       "<table class=\"dataframe\">\n",
       "<caption>A data.frame: 43 × 18</caption>\n",
       "<thead>\n",
       "\t<tr><th></th><th scope=col>Training.type</th><th scope=col>Employer.Type</th><th scope=col>Region</th><th scope=col>Sector</th><th scope=col>Programme.Title</th><th scope=col>Visa</th><th scope=col>Salary</th><th scope=col>Places.Available</th><th scope=col>Working.hours</th><th scope=col>Rotation1</th><th scope=col>Rotation1.duration</th><th scope=col>Rotation2</th><th scope=col>Rotation2.duration</th><th scope=col>Rotation3</th><th scope=col>Rotation3.duration</th><th scope=col>Rotation4</th><th scope=col>Rotation4.duration</th><th scope=col>Hourly.Wage</th></tr>\n",
       "\t<tr><th></th><th scope=col>&lt;chr&gt;</th><th scope=col>&lt;chr&gt;</th><th scope=col>&lt;chr&gt;</th><th scope=col>&lt;chr&gt;</th><th scope=col>&lt;chr&gt;</th><th scope=col>&lt;fct&gt;</th><th scope=col>&lt;int&gt;</th><th scope=col>&lt;int&gt;</th><th scope=col>&lt;dbl&gt;</th><th scope=col>&lt;chr&gt;</th><th scope=col>&lt;int&gt;</th><th scope=col>&lt;chr&gt;</th><th scope=col>&lt;int&gt;</th><th scope=col>&lt;chr&gt;</th><th scope=col>&lt;int&gt;</th><th scope=col>&lt;chr&gt;</th><th scope=col>&lt;int&gt;</th><th scope=col>&lt;dbl&gt;</th></tr>\n",
       "</thead>\n",
       "<tbody>\n",
       "\t<tr><th scope=row>3808</th><td>Non-split</td><td>Hospital    </td><td>London                 </td><td>North Central London                                 </td><td>Whittington Health + Islington GP Federation/North Central London/N19 5NF + N7 8EG        </td><td>Y</td><td>34089</td><td>2</td><td>37.5</td><td>Hospital </td><td>39</td><td>General Practice  </td><td>13</td><td>                </td><td>NA</td><td></td><td>NA</td><td>17.48154</td></tr>\n",
       "\t<tr><th scope=row>349</th><td>Non-split</td><td><span style=white-space:pre-wrap>Hospital    </span></td><td><span style=white-space:pre-wrap>London                 </span></td><td><span style=white-space:pre-wrap>North East London (Pharmacy)                         </span></td><td>Barking, Havering &amp; Redbridge University Hosp NHS Trust+Boots(Romford)/London/RM7+IG3+RM11</td><td>Y</td><td>32720</td><td>1</td><td>37.5</td><td>Hospital </td><td>39</td><td><span style=white-space:pre-wrap>Community         </span></td><td>13</td><td><span style=white-space:pre-wrap>                </span></td><td>NA</td><td></td><td>NA</td><td>16.77949</td></tr>\n",
       "\t<tr><th scope=row>350</th><td>Non-split</td><td><span style=white-space:pre-wrap>Hospital    </span></td><td><span style=white-space:pre-wrap>London                 </span></td><td><span style=white-space:pre-wrap>North East London (Pharmacy)                         </span></td><td>Barking, Havering &amp; Redbridge University Hosp NHS Trust+Mastaa-Care Pcy/London/RM7+IG3+RM8</td><td>Y</td><td>32720</td><td>1</td><td>37.5</td><td>Hospital </td><td>39</td><td><span style=white-space:pre-wrap>Community         </span></td><td>13</td><td><span style=white-space:pre-wrap>                </span></td><td>NA</td><td></td><td>NA</td><td>16.77949</td></tr>\n",
       "\t<tr><th scope=row>351</th><td><span style=white-space:pre-wrap>NA       </span></td><td><span style=white-space:pre-wrap>Hospital    </span></td><td><span style=white-space:pre-wrap>London                 </span></td><td><span style=white-space:pre-wrap>North East London (Pharmacy)                         </span></td><td><span style=white-space:pre-wrap>Barking, Havering &amp; Redbridge University Hospitals NHST/Romford/RM7 0AG/Ilford/IG3 8YB    </span></td><td>Y</td><td>32720</td><td>2</td><td>37.5</td><td>Hospital </td><td>52</td><td><span style=white-space:pre-wrap>                  </span></td><td>NA</td><td><span style=white-space:pre-wrap>                </span></td><td>NA</td><td></td><td>NA</td><td>16.77949</td></tr>\n",
       "\t<tr><th scope=row>355</th><td>Non-split</td><td><span style=white-space:pre-wrap>Hospital    </span></td><td><span style=white-space:pre-wrap>London                 </span></td><td><span style=white-space:pre-wrap>North Central London                                 </span></td><td>Barnet Enfield&amp;Haringey MH Trust+North Middx Hosp+Safedale Pcy/London/N153TH+N181QX+N211RA</td><td>Y</td><td>32720</td><td>2</td><td>37.5</td><td>Hospital </td><td>26</td><td><span style=white-space:pre-wrap>Hospital          </span></td><td>13</td><td><span style=white-space:pre-wrap>Community       </span></td><td>13</td><td></td><td>NA</td><td>16.77949</td></tr>\n",
       "\t<tr><th scope=row>857</th><td>Non-split</td><td><span style=white-space:pre-wrap>Hospital    </span></td><td><span style=white-space:pre-wrap>London                 </span></td><td><span style=white-space:pre-wrap>North West London (Pharmacy)                         </span></td><td>Chelsea &amp; Westminster Hospital-West Middlesex site + Hounslow PCN/Isleworth/TW76AF+TW33EB </td><td>N</td><td>32720</td><td>4</td><td>37.5</td><td>Hospital </td><td>39</td><td><span style=white-space:pre-wrap>General Practice  </span></td><td>13</td><td><span style=white-space:pre-wrap>                </span></td><td>NA</td><td></td><td>NA</td><td>16.77949</td></tr>\n",
       "\t<tr><th scope=row>1203</th><td>NA       </td><td>Hospital    </td><td>London                 </td><td>South West London (Pharmacy)                         </td><td>Croydon Health Services NHS Trust/Croydon/CR7 7YE                                         </td><td>Y</td><td>32720</td><td>4</td><td>37.5</td><td>Hospital </td><td>52</td><td>                  </td><td>NA</td><td>                </td><td>NA</td><td></td><td>NA</td><td>16.77949</td></tr>\n",
       "\t<tr><th scope=row>1533</th><td><span style=white-space:pre-wrap>NA       </span></td><td><span style=white-space:pre-wrap>Hospital    </span></td><td><span style=white-space:pre-wrap>London                 </span></td><td><span style=white-space:pre-wrap>South West London (Pharmacy)                         </span></td><td><span style=white-space:pre-wrap>Epsom &amp; St Helier University Hospitals NHS Trust/Epsom + Carshalton/KTI8 7EG + SM5 1AA    </span></td><td>Y</td><td>32720</td><td>4</td><td>37.5</td><td>Hospital </td><td>52</td><td><span style=white-space:pre-wrap>                  </span></td><td>NA</td><td><span style=white-space:pre-wrap>                </span></td><td>NA</td><td></td><td>NA</td><td>16.77949</td></tr>\n",
       "\t<tr><th scope=row>1534</th><td>Split    </td><td>Hospital    </td><td>London                 </td><td>South West London (Pharmacy)                         </td><td>Epsom and St Helier Hospitals+S G Barai Pharmacy/Epsom+Sutton/KT18 7EG+SM5 1AA+SM1 3AT    </td><td>Y</td><td>32720</td><td>1</td><td>37.5</td><td>Hospital </td><td>26</td><td>Community         </td><td>26</td><td>                </td><td>NA</td><td></td><td>NA</td><td>16.77949</td></tr>\n",
       "\t<tr><th scope=row>2090</th><td>NA       </td><td>Hospital    </td><td>London                 </td><td>South East London (Pharmacy)                         </td><td>King's College Hospital NHS Foundation Trust (Princess Royal site)/Orpington/BR6 8ND      </td><td>Y</td><td>32720</td><td>3</td><td>37.5</td><td>Hospital </td><td>52</td><td>                  </td><td>NA</td><td>                </td><td>NA</td><td></td><td>NA</td><td>16.77949</td></tr>\n",
       "\t<tr><th scope=row>2091</th><td>Non-split</td><td>Hospital    </td><td>London                 </td><td>South East London (Pharmacy)                         </td><td>Kings College Hosp-Princess Royal+SouthSouthwarkPCN(Gardens Surg)/Orpington/BR68ND+SE229QU</td><td>Y</td><td>32720</td><td>1</td><td>37.5</td><td>Hospital </td><td>39</td><td>General Practice  </td><td>13</td><td>                </td><td>NA</td><td></td><td>NA</td><td>16.77949</td></tr>\n",
       "\t<tr><th scope=row>2105</th><td>NA       </td><td>Hospital    </td><td>London                 </td><td>South West London (Pharmacy)                         </td><td>Kingston Hospital NHS Foundation Trust/Kingston-upon-Thames/KT2 7QB                       </td><td>Y</td><td>32720</td><td>3</td><td>37.5</td><td>Hospital </td><td>52</td><td>                  </td><td>NA</td><td>                </td><td>NA</td><td></td><td>NA</td><td>16.77949</td></tr>\n",
       "\t<tr><th scope=row>2106</th><td>Non-split</td><td>Hospital    </td><td>London                 </td><td>South West London (Pharmacy)                         </td><td>Kingston Hospital NHSFT + Kirkby Chemist/Kingston-upon-Thames + Sutton/KT2 7QB + SM2 6BX  </td><td>Y</td><td>32720</td><td>1</td><td>37.5</td><td>Hospital </td><td>39</td><td>Community         </td><td>13</td><td>                </td><td>NA</td><td></td><td>NA</td><td>16.77949</td></tr>\n",
       "\t<tr><th scope=row>2176</th><td><span style=white-space:pre-wrap>NA       </span></td><td><span style=white-space:pre-wrap>Hospital    </span></td><td><span style=white-space:pre-wrap>London                 </span></td><td><span style=white-space:pre-wrap>South East London (Pharmacy)                         </span></td><td><span style=white-space:pre-wrap>Lewisham &amp; Greenwich NHS Trust - Queen Elizabeth Hospital/Woolwich/SE18 4QH               </span></td><td>Y</td><td>32720</td><td>5</td><td>37.5</td><td>Hospital </td><td>52</td><td><span style=white-space:pre-wrap>                  </span></td><td>NA</td><td><span style=white-space:pre-wrap>                </span></td><td>NA</td><td></td><td>NA</td><td>16.77949</td></tr>\n",
       "\t<tr><th scope=row>2219</th><td>Non-split</td><td>Hospital    </td><td>London                 </td><td>North West London (Pharmacy)                         </td><td>London North West UH NHS Trust + Southall Pharmacy/Harrow/HA1 3UJ + UB1 2LF               </td><td>Y</td><td>32720</td><td>2</td><td>37.5</td><td>Hospital </td><td>39</td><td>Community         </td><td>13</td><td>                </td><td>NA</td><td></td><td>NA</td><td>16.77949</td></tr>\n",
       "\t<tr><th scope=row>2220</th><td>Non-split</td><td>Hospital    </td><td>London                 </td><td>North West London (Pharmacy)                         </td><td>London North West UH NHS Trust cross site programme + HMP Wormwood Scrubs/Harrow/HA1+W12  </td><td>Y</td><td>32720</td><td>1</td><td>37.5</td><td>Hospital </td><td>39</td><td>Health and Justice</td><td>13</td><td>                </td><td>NA</td><td></td><td>NA</td><td>16.77949</td></tr>\n",
       "\t<tr><th scope=row>2221</th><td>Non-split</td><td>Hospital    </td><td>London                 </td><td>North West London (Pharmacy)                         </td><td>London North West UH NHS Trust cross site programme + Millway Medical Practice/HA1+NW7    </td><td>Y</td><td>32720</td><td>1</td><td>37.5</td><td>Hospital </td><td>39</td><td>General Practice  </td><td>13</td><td>                </td><td>NA</td><td></td><td>NA</td><td>16.77949</td></tr>\n",
       "\t<tr><th scope=row>2222</th><td>NA       </td><td>Hospital    </td><td>London                 </td><td>North West London (Pharmacy)                         </td><td>London North West UH NHS Trust cross site rotational programme/Harrow/HA1 3UJ             </td><td>Y</td><td>32720</td><td>2</td><td>37.5</td><td>Hospital </td><td>52</td><td>                  </td><td>NA</td><td>                </td><td>NA</td><td></td><td>NA</td><td>16.77949</td></tr>\n",
       "\t<tr><th scope=row>2545</th><td>NA       </td><td>Hospital    </td><td>London                 </td><td>North East London (Pharmacy)                         </td><td>North East London NHS Foundation Trust/Ilford/IG3 8XJ                                     </td><td>Y</td><td>32720</td><td>2</td><td>37.5</td><td>Hospital </td><td>52</td><td>                  </td><td>NA</td><td>                </td><td>NA</td><td></td><td>NA</td><td>16.77949</td></tr>\n",
       "\t<tr><th scope=row>2547</th><td>Non-split</td><td>Hospital    </td><td>London                 </td><td>North Central London                                 </td><td>North Middlesex University Hospital NHS Trust+Haringey GP Federation/London/N181QX+N227TY </td><td>N</td><td>32720</td><td>4</td><td>37.5</td><td>Hospital </td><td>39</td><td>General Practice  </td><td>13</td><td>                </td><td>NA</td><td></td><td>NA</td><td>16.77949</td></tr>\n",
       "\t<tr><th scope=row>3055</th><td>Non-split</td><td>Hospital    </td><td>London                 </td><td>North Central London                                 </td><td>Royal Free London NHSFT - Barnet Hospital + Boots (Whetstone)/EN5 3DJ + N20 9HS           </td><td>Y</td><td>32720</td><td>1</td><td>37.5</td><td>Hospital </td><td>39</td><td>Community         </td><td>13</td><td>                </td><td>NA</td><td></td><td>NA</td><td>16.77949</td></tr>\n",
       "\t<tr><th scope=row>3056</th><td>Split    </td><td>Hospital    </td><td>London                 </td><td>North Central London                                 </td><td>Royal Free London NHSFT - Barnet Hospital + Grove Medical Practice/Barnet/EN5 3DJ+WD6 4PR </td><td>Y</td><td>32720</td><td>1</td><td>37.5</td><td>Hospital </td><td>26</td><td>General Practice  </td><td>26</td><td>                </td><td>NA</td><td></td><td>NA</td><td>16.77949</td></tr>\n",
       "\t<tr><th scope=row>3057</th><td>Split    </td><td>Hospital    </td><td>London                 </td><td>North Central London                                 </td><td>Royal Free London NHSFT - Barnet Hospital + Longrove Medical Centre/EN5 3DJ + EN5 2ED     </td><td>Y</td><td>32720</td><td>1</td><td>37.5</td><td>Hospital </td><td>26</td><td>General Practice  </td><td>26</td><td>                </td><td>NA</td><td></td><td>NA</td><td>16.77949</td></tr>\n",
       "\t<tr><th scope=row>3058</th><td>Split    </td><td>Hospital    </td><td>London                 </td><td>North Central London                                 </td><td>Royal Free London NHSFT-Barnet Hospital + Millway Medical Practice/Barnet/EN5 3DJ+NW7 2HX </td><td>Y</td><td>32720</td><td>1</td><td>37.5</td><td>Hospital </td><td>26</td><td>General Practice  </td><td>26</td><td>                </td><td>NA</td><td></td><td>NA</td><td>16.77949</td></tr>\n",
       "\t<tr><th scope=row>3059</th><td>Split    </td><td>Hospital    </td><td>London                 </td><td>North Central London                                 </td><td>Royal Free London NHSFT-Barnet Hospital + St Andrews Medical Practice/EN5 3DJ + N20 9EX   </td><td>Y</td><td>32720</td><td>1</td><td>37.5</td><td>Hospital </td><td>26</td><td>General Practice  </td><td>26</td><td>                </td><td>NA</td><td></td><td>NA</td><td>16.77949</td></tr>\n",
       "\t<tr><th scope=row>3060</th><td>Split    </td><td>Hospital    </td><td>London                 </td><td>North Central London                                 </td><td>Royal Free London NHSFT-Barnet Hospital+Greenlight Pharmacy (Borehamwood)/EN5 3DJ+WD6 1QX </td><td>Y</td><td>32720</td><td>1</td><td>37.5</td><td>Hospital </td><td>26</td><td>Community         </td><td>26</td><td>                </td><td>NA</td><td></td><td>NA</td><td>16.77949</td></tr>\n",
       "\t<tr><th scope=row>3460</th><td>NA       </td><td>Hospital    </td><td>London                 </td><td>North West London (Pharmacy)                         </td><td>The Hillingdon Hospitals NHS Foundation Trust/Uxbridge/UB8 3NN                            </td><td>N</td><td>32720</td><td>2</td><td>37.5</td><td>Hospital </td><td>52</td><td>                  </td><td>NA</td><td>                </td><td>NA</td><td></td><td>NA</td><td>16.77949</td></tr>\n",
       "\t<tr><th scope=row>3784</th><td>Non-split</td><td>Hospital    </td><td>London                 </td><td>North West London (Pharmacy)                         </td><td>West London NHS Trust+Mattock Lane Pharmacy+Gordon Hse Surgery/London/UB13EU+W139LL+W139NZ</td><td>N</td><td>32720</td><td>2</td><td>37.5</td><td>Hospital </td><td>26</td><td>Community         </td><td>13</td><td>General Practice</td><td>13</td><td></td><td>NA</td><td>16.77949</td></tr>\n",
       "\t<tr><th scope=row>268</th><td>NA       </td><td>Primary Care</td><td>Wessex                 </td><td>Hampshire and Isle of Wight (Pharmacy)               </td><td>AR Pharmacy (Lyndhurst)/Lyndhurst/SO437BG                                                 </td><td>N</td><td>32000</td><td>1</td><td>40.0</td><td>Community</td><td>52</td><td>                  </td><td>NA</td><td>                </td><td>NA</td><td></td><td>NA</td><td>15.38462</td></tr>\n",
       "\t<tr><th scope=row>269</th><td>NA       </td><td>Primary Care</td><td>Wessex                 </td><td>Hampshire and Isle of Wight (Pharmacy)               </td><td>AR Pharmacy (Testvale)/Totton, Southampton/SO403PY                                        </td><td>N</td><td>32000</td><td>1</td><td>40.0</td><td>Community</td><td>52</td><td>                  </td><td>NA</td><td>                </td><td>NA</td><td></td><td>NA</td><td>15.38462</td></tr>\n",
       "\t<tr><th scope=row>270</th><td>NA       </td><td>Primary Care</td><td>Wessex                 </td><td>Hampshire and Isle of Wight (Pharmacy)               </td><td>AR Pharmacy (Testwood)/Totton/SO403BY                                                     </td><td>N</td><td>32000</td><td>1</td><td>40.0</td><td>Community</td><td>52</td><td>                  </td><td>NA</td><td>                </td><td>NA</td><td></td><td>NA</td><td>15.38462</td></tr>\n",
       "\t<tr><th scope=row>271</th><td>NA       </td><td>Primary Care</td><td>Wessex                 </td><td>Hampshire and Isle of Wight (Pharmacy)               </td><td>AR Pharmacy (West Totton)/Totton, Southampton/SO408WU                                     </td><td>N</td><td>32000</td><td>3</td><td>40.0</td><td>Community</td><td>52</td><td>                  </td><td>NA</td><td>                </td><td>NA</td><td></td><td>NA</td><td>15.38462</td></tr>\n",
       "\t<tr><th scope=row>1415</th><td>NA       </td><td>Primary Care</td><td>London                 </td><td>North West London (Pharmacy)                         </td><td>Dillons Pharmacy/London/W10 5PF                                                           </td><td>N</td><td>32000</td><td>1</td><td>40.0</td><td>Community</td><td>52</td><td>                  </td><td>NA</td><td>                </td><td>NA</td><td></td><td>NA</td><td>15.38462</td></tr>\n",
       "\t<tr><th scope=row>2427</th><td>NA       </td><td>Primary Care</td><td>Wessex                 </td><td>Hampshire and Isle of Wight (Pharmacy)               </td><td>Milford Pharmacy/Milford on sea/SO410PG                                                   </td><td>N</td><td>32000</td><td>1</td><td>40.0</td><td>Community</td><td>52</td><td>                  </td><td>NA</td><td>                </td><td>NA</td><td></td><td>NA</td><td>15.38462</td></tr>\n",
       "\t<tr><th scope=row>2949</th><td>NA       </td><td>Primary Care</td><td>London                 </td><td>North West London (Pharmacy)                         </td><td>Ravenor Pharmacy/Greenford/UB6 9QA                                                        </td><td>Y</td><td>32000</td><td>1</td><td>40.0</td><td>Community</td><td>52</td><td>                  </td><td>NA</td><td>                </td><td>NA</td><td></td><td>NA</td><td>15.38462</td></tr>\n",
       "\t<tr><th scope=row>3020</th><td>NA       </td><td>Primary Care</td><td>London                 </td><td>North West London (Pharmacy)                         </td><td>Roxannes Pharmacy/Greenford/UB6 9PN                                                       </td><td>Y</td><td>32000</td><td>2</td><td>40.0</td><td>Community</td><td>52</td><td>                  </td><td>NA</td><td>                </td><td>NA</td><td></td><td>NA</td><td>15.38462</td></tr>\n",
       "\t<tr><th scope=row>3268</th><td>NA       </td><td>Primary Care</td><td>Thames Valley          </td><td>Berkshire, Buckinghamshire and Oxfordshire (Pharmacy)</td><td>SPARKS PHARMACY/CHALFONT ST GILES/HP8 4QH                                                 </td><td>Y</td><td>32000</td><td>2</td><td>37.5</td><td>Community</td><td>52</td><td>                  </td><td>NA</td><td>                </td><td>NA</td><td></td><td>NA</td><td>16.41026</td></tr>\n",
       "\t<tr><th scope=row>3344</th><td>Non-split</td><td>Primary Care</td><td><span style=white-space:pre-wrap>South West             </span></td><td><span style=white-space:pre-wrap>Gloucestershire                                      </span></td><td>Stroud Road Pharmacy + Gloucestershire Hosp/Gloucester&amp;Cheltenham/GL1 5JL+GL1 3NN/GL53 7AN</td><td>N</td><td>31200</td><td>1</td><td>40.0</td><td>Community</td><td>39</td><td><span style=white-space:pre-wrap>Hospital          </span></td><td>13</td><td><span style=white-space:pre-wrap>                </span></td><td>NA</td><td></td><td>NA</td><td>15.00000</td></tr>\n",
       "\t<tr><th scope=row>3345</th><td>Non-split</td><td>Primary Care</td><td>South West             </td><td>Gloucestershire                                      </td><td>Stroud Road Pharmacy + Rosebank Health/Gloucester/GL1 5JL+GL1 5JQ                         </td><td>N</td><td>31200</td><td>1</td><td>40.0</td><td>Community</td><td>39</td><td>General Practice  </td><td>13</td><td>                </td><td>NA</td><td></td><td>NA</td><td>15.00000</td></tr>\n",
       "\t<tr><th scope=row>411</th><td>NA       </td><td>Primary Care</td><td>Thames Valley          </td><td>Berkshire, Buckinghamshire and Oxfordshire (Pharmacy)</td><td>Berinsfield Pharmacy/Wallingford, Oxford/OX10 7NE                                         </td><td>N</td><td>30000</td><td>1</td><td>40.0</td><td>Community</td><td>52</td><td>                  </td><td>NA</td><td>                </td><td>NA</td><td></td><td>NA</td><td>14.42308</td></tr>\n",
       "\t<tr><th scope=row>417</th><td>NA       </td><td>Primary Care</td><td>North East             </td><td>County Durham                                        </td><td>Bewick Pharmacy/Newton Aycliffe/DL5 5LH                                                   </td><td>N</td><td>30000</td><td>1</td><td>40.0</td><td>Community</td><td>52</td><td>                  </td><td>NA</td><td>                </td><td>NA</td><td></td><td>NA</td><td>14.42308</td></tr>\n",
       "\t<tr><th scope=row>917</th><td>NA       </td><td>Primary Care</td><td>Thames Valley          </td><td>Berkshire, Buckinghamshire and Oxfordshire (Pharmacy)</td><td>Cleggs Pharmacy/Wantage/OX12 9AJ                                                          </td><td>Y</td><td>30000</td><td>1</td><td>40.0</td><td>Community</td><td>52</td><td>                  </td><td>NA</td><td>                </td><td>NA</td><td></td><td>NA</td><td>14.42308</td></tr>\n",
       "\t<tr><th scope=row>1177</th><td>NA       </td><td>Primary Care</td><td>Kent, Surrey and Sussex</td><td>Sussex                                               </td><td>Crawley Chemist/Crawley/RH10 1HS                                                          </td><td>N</td><td>30000</td><td>0</td><td>40.0</td><td>Community</td><td>52</td><td>                  </td><td>NA</td><td>                </td><td>NA</td><td></td><td>NA</td><td>14.42308</td></tr>\n",
       "</tbody>\n",
       "</table>\n"
      ],
      "text/latex": [
       "A data.frame: 43 × 18\n",
       "\\begin{tabular}{r|llllllllllllllllll}\n",
       "  & Training.type & Employer.Type & Region & Sector & Programme.Title & Visa & Salary & Places.Available & Working.hours & Rotation1 & Rotation1.duration & Rotation2 & Rotation2.duration & Rotation3 & Rotation3.duration & Rotation4 & Rotation4.duration & Hourly.Wage\\\\\n",
       "  & <chr> & <chr> & <chr> & <chr> & <chr> & <fct> & <int> & <int> & <dbl> & <chr> & <int> & <chr> & <int> & <chr> & <int> & <chr> & <int> & <dbl>\\\\\n",
       "\\hline\n",
       "\t3808 & Non-split & Hospital     & London                  & North Central London                                  & Whittington Health + Islington GP Federation/North Central London/N19 5NF + N7 8EG         & Y & 34089 & 2 & 37.5 & Hospital  & 39 & General Practice   & 13 &                  & NA &  & NA & 17.48154\\\\\n",
       "\t349 & Non-split & Hospital     & London                  & North East London (Pharmacy)                          & Barking, Havering \\& Redbridge University Hosp NHS Trust+Boots(Romford)/London/RM7+IG3+RM11 & Y & 32720 & 1 & 37.5 & Hospital  & 39 & Community          & 13 &                  & NA &  & NA & 16.77949\\\\\n",
       "\t350 & Non-split & Hospital     & London                  & North East London (Pharmacy)                          & Barking, Havering \\& Redbridge University Hosp NHS Trust+Mastaa-Care Pcy/London/RM7+IG3+RM8 & Y & 32720 & 1 & 37.5 & Hospital  & 39 & Community          & 13 &                  & NA &  & NA & 16.77949\\\\\n",
       "\t351 & NA        & Hospital     & London                  & North East London (Pharmacy)                          & Barking, Havering \\& Redbridge University Hospitals NHST/Romford/RM7 0AG/Ilford/IG3 8YB     & Y & 32720 & 2 & 37.5 & Hospital  & 52 &                    & NA &                  & NA &  & NA & 16.77949\\\\\n",
       "\t355 & Non-split & Hospital     & London                  & North Central London                                  & Barnet Enfield\\&Haringey MH Trust+North Middx Hosp+Safedale Pcy/London/N153TH+N181QX+N211RA & Y & 32720 & 2 & 37.5 & Hospital  & 26 & Hospital           & 13 & Community        & 13 &  & NA & 16.77949\\\\\n",
       "\t857 & Non-split & Hospital     & London                  & North West London (Pharmacy)                          & Chelsea \\& Westminster Hospital-West Middlesex site + Hounslow PCN/Isleworth/TW76AF+TW33EB  & N & 32720 & 4 & 37.5 & Hospital  & 39 & General Practice   & 13 &                  & NA &  & NA & 16.77949\\\\\n",
       "\t1203 & NA        & Hospital     & London                  & South West London (Pharmacy)                          & Croydon Health Services NHS Trust/Croydon/CR7 7YE                                          & Y & 32720 & 4 & 37.5 & Hospital  & 52 &                    & NA &                  & NA &  & NA & 16.77949\\\\\n",
       "\t1533 & NA        & Hospital     & London                  & South West London (Pharmacy)                          & Epsom \\& St Helier University Hospitals NHS Trust/Epsom + Carshalton/KTI8 7EG + SM5 1AA     & Y & 32720 & 4 & 37.5 & Hospital  & 52 &                    & NA &                  & NA &  & NA & 16.77949\\\\\n",
       "\t1534 & Split     & Hospital     & London                  & South West London (Pharmacy)                          & Epsom and St Helier Hospitals+S G Barai Pharmacy/Epsom+Sutton/KT18 7EG+SM5 1AA+SM1 3AT     & Y & 32720 & 1 & 37.5 & Hospital  & 26 & Community          & 26 &                  & NA &  & NA & 16.77949\\\\\n",
       "\t2090 & NA        & Hospital     & London                  & South East London (Pharmacy)                          & King's College Hospital NHS Foundation Trust (Princess Royal site)/Orpington/BR6 8ND       & Y & 32720 & 3 & 37.5 & Hospital  & 52 &                    & NA &                  & NA &  & NA & 16.77949\\\\\n",
       "\t2091 & Non-split & Hospital     & London                  & South East London (Pharmacy)                          & Kings College Hosp-Princess Royal+SouthSouthwarkPCN(Gardens Surg)/Orpington/BR68ND+SE229QU & Y & 32720 & 1 & 37.5 & Hospital  & 39 & General Practice   & 13 &                  & NA &  & NA & 16.77949\\\\\n",
       "\t2105 & NA        & Hospital     & London                  & South West London (Pharmacy)                          & Kingston Hospital NHS Foundation Trust/Kingston-upon-Thames/KT2 7QB                        & Y & 32720 & 3 & 37.5 & Hospital  & 52 &                    & NA &                  & NA &  & NA & 16.77949\\\\\n",
       "\t2106 & Non-split & Hospital     & London                  & South West London (Pharmacy)                          & Kingston Hospital NHSFT + Kirkby Chemist/Kingston-upon-Thames + Sutton/KT2 7QB + SM2 6BX   & Y & 32720 & 1 & 37.5 & Hospital  & 39 & Community          & 13 &                  & NA &  & NA & 16.77949\\\\\n",
       "\t2176 & NA        & Hospital     & London                  & South East London (Pharmacy)                          & Lewisham \\& Greenwich NHS Trust - Queen Elizabeth Hospital/Woolwich/SE18 4QH                & Y & 32720 & 5 & 37.5 & Hospital  & 52 &                    & NA &                  & NA &  & NA & 16.77949\\\\\n",
       "\t2219 & Non-split & Hospital     & London                  & North West London (Pharmacy)                          & London North West UH NHS Trust + Southall Pharmacy/Harrow/HA1 3UJ + UB1 2LF                & Y & 32720 & 2 & 37.5 & Hospital  & 39 & Community          & 13 &                  & NA &  & NA & 16.77949\\\\\n",
       "\t2220 & Non-split & Hospital     & London                  & North West London (Pharmacy)                          & London North West UH NHS Trust cross site programme + HMP Wormwood Scrubs/Harrow/HA1+W12   & Y & 32720 & 1 & 37.5 & Hospital  & 39 & Health and Justice & 13 &                  & NA &  & NA & 16.77949\\\\\n",
       "\t2221 & Non-split & Hospital     & London                  & North West London (Pharmacy)                          & London North West UH NHS Trust cross site programme + Millway Medical Practice/HA1+NW7     & Y & 32720 & 1 & 37.5 & Hospital  & 39 & General Practice   & 13 &                  & NA &  & NA & 16.77949\\\\\n",
       "\t2222 & NA        & Hospital     & London                  & North West London (Pharmacy)                          & London North West UH NHS Trust cross site rotational programme/Harrow/HA1 3UJ              & Y & 32720 & 2 & 37.5 & Hospital  & 52 &                    & NA &                  & NA &  & NA & 16.77949\\\\\n",
       "\t2545 & NA        & Hospital     & London                  & North East London (Pharmacy)                          & North East London NHS Foundation Trust/Ilford/IG3 8XJ                                      & Y & 32720 & 2 & 37.5 & Hospital  & 52 &                    & NA &                  & NA &  & NA & 16.77949\\\\\n",
       "\t2547 & Non-split & Hospital     & London                  & North Central London                                  & North Middlesex University Hospital NHS Trust+Haringey GP Federation/London/N181QX+N227TY  & N & 32720 & 4 & 37.5 & Hospital  & 39 & General Practice   & 13 &                  & NA &  & NA & 16.77949\\\\\n",
       "\t3055 & Non-split & Hospital     & London                  & North Central London                                  & Royal Free London NHSFT - Barnet Hospital + Boots (Whetstone)/EN5 3DJ + N20 9HS            & Y & 32720 & 1 & 37.5 & Hospital  & 39 & Community          & 13 &                  & NA &  & NA & 16.77949\\\\\n",
       "\t3056 & Split     & Hospital     & London                  & North Central London                                  & Royal Free London NHSFT - Barnet Hospital + Grove Medical Practice/Barnet/EN5 3DJ+WD6 4PR  & Y & 32720 & 1 & 37.5 & Hospital  & 26 & General Practice   & 26 &                  & NA &  & NA & 16.77949\\\\\n",
       "\t3057 & Split     & Hospital     & London                  & North Central London                                  & Royal Free London NHSFT - Barnet Hospital + Longrove Medical Centre/EN5 3DJ + EN5 2ED      & Y & 32720 & 1 & 37.5 & Hospital  & 26 & General Practice   & 26 &                  & NA &  & NA & 16.77949\\\\\n",
       "\t3058 & Split     & Hospital     & London                  & North Central London                                  & Royal Free London NHSFT-Barnet Hospital + Millway Medical Practice/Barnet/EN5 3DJ+NW7 2HX  & Y & 32720 & 1 & 37.5 & Hospital  & 26 & General Practice   & 26 &                  & NA &  & NA & 16.77949\\\\\n",
       "\t3059 & Split     & Hospital     & London                  & North Central London                                  & Royal Free London NHSFT-Barnet Hospital + St Andrews Medical Practice/EN5 3DJ + N20 9EX    & Y & 32720 & 1 & 37.5 & Hospital  & 26 & General Practice   & 26 &                  & NA &  & NA & 16.77949\\\\\n",
       "\t3060 & Split     & Hospital     & London                  & North Central London                                  & Royal Free London NHSFT-Barnet Hospital+Greenlight Pharmacy (Borehamwood)/EN5 3DJ+WD6 1QX  & Y & 32720 & 1 & 37.5 & Hospital  & 26 & Community          & 26 &                  & NA &  & NA & 16.77949\\\\\n",
       "\t3460 & NA        & Hospital     & London                  & North West London (Pharmacy)                          & The Hillingdon Hospitals NHS Foundation Trust/Uxbridge/UB8 3NN                             & N & 32720 & 2 & 37.5 & Hospital  & 52 &                    & NA &                  & NA &  & NA & 16.77949\\\\\n",
       "\t3784 & Non-split & Hospital     & London                  & North West London (Pharmacy)                          & West London NHS Trust+Mattock Lane Pharmacy+Gordon Hse Surgery/London/UB13EU+W139LL+W139NZ & N & 32720 & 2 & 37.5 & Hospital  & 26 & Community          & 13 & General Practice & 13 &  & NA & 16.77949\\\\\n",
       "\t268 & NA        & Primary Care & Wessex                  & Hampshire and Isle of Wight (Pharmacy)                & AR Pharmacy (Lyndhurst)/Lyndhurst/SO437BG                                                  & N & 32000 & 1 & 40.0 & Community & 52 &                    & NA &                  & NA &  & NA & 15.38462\\\\\n",
       "\t269 & NA        & Primary Care & Wessex                  & Hampshire and Isle of Wight (Pharmacy)                & AR Pharmacy (Testvale)/Totton, Southampton/SO403PY                                         & N & 32000 & 1 & 40.0 & Community & 52 &                    & NA &                  & NA &  & NA & 15.38462\\\\\n",
       "\t270 & NA        & Primary Care & Wessex                  & Hampshire and Isle of Wight (Pharmacy)                & AR Pharmacy (Testwood)/Totton/SO403BY                                                      & N & 32000 & 1 & 40.0 & Community & 52 &                    & NA &                  & NA &  & NA & 15.38462\\\\\n",
       "\t271 & NA        & Primary Care & Wessex                  & Hampshire and Isle of Wight (Pharmacy)                & AR Pharmacy (West Totton)/Totton, Southampton/SO408WU                                      & N & 32000 & 3 & 40.0 & Community & 52 &                    & NA &                  & NA &  & NA & 15.38462\\\\\n",
       "\t1415 & NA        & Primary Care & London                  & North West London (Pharmacy)                          & Dillons Pharmacy/London/W10 5PF                                                            & N & 32000 & 1 & 40.0 & Community & 52 &                    & NA &                  & NA &  & NA & 15.38462\\\\\n",
       "\t2427 & NA        & Primary Care & Wessex                  & Hampshire and Isle of Wight (Pharmacy)                & Milford Pharmacy/Milford on sea/SO410PG                                                    & N & 32000 & 1 & 40.0 & Community & 52 &                    & NA &                  & NA &  & NA & 15.38462\\\\\n",
       "\t2949 & NA        & Primary Care & London                  & North West London (Pharmacy)                          & Ravenor Pharmacy/Greenford/UB6 9QA                                                         & Y & 32000 & 1 & 40.0 & Community & 52 &                    & NA &                  & NA &  & NA & 15.38462\\\\\n",
       "\t3020 & NA        & Primary Care & London                  & North West London (Pharmacy)                          & Roxannes Pharmacy/Greenford/UB6 9PN                                                        & Y & 32000 & 2 & 40.0 & Community & 52 &                    & NA &                  & NA &  & NA & 15.38462\\\\\n",
       "\t3268 & NA        & Primary Care & Thames Valley           & Berkshire, Buckinghamshire and Oxfordshire (Pharmacy) & SPARKS PHARMACY/CHALFONT ST GILES/HP8 4QH                                                  & Y & 32000 & 2 & 37.5 & Community & 52 &                    & NA &                  & NA &  & NA & 16.41026\\\\\n",
       "\t3344 & Non-split & Primary Care & South West              & Gloucestershire                                       & Stroud Road Pharmacy + Gloucestershire Hosp/Gloucester\\&Cheltenham/GL1 5JL+GL1 3NN/GL53 7AN & N & 31200 & 1 & 40.0 & Community & 39 & Hospital           & 13 &                  & NA &  & NA & 15.00000\\\\\n",
       "\t3345 & Non-split & Primary Care & South West              & Gloucestershire                                       & Stroud Road Pharmacy + Rosebank Health/Gloucester/GL1 5JL+GL1 5JQ                          & N & 31200 & 1 & 40.0 & Community & 39 & General Practice   & 13 &                  & NA &  & NA & 15.00000\\\\\n",
       "\t411 & NA        & Primary Care & Thames Valley           & Berkshire, Buckinghamshire and Oxfordshire (Pharmacy) & Berinsfield Pharmacy/Wallingford, Oxford/OX10 7NE                                          & N & 30000 & 1 & 40.0 & Community & 52 &                    & NA &                  & NA &  & NA & 14.42308\\\\\n",
       "\t417 & NA        & Primary Care & North East              & County Durham                                         & Bewick Pharmacy/Newton Aycliffe/DL5 5LH                                                    & N & 30000 & 1 & 40.0 & Community & 52 &                    & NA &                  & NA &  & NA & 14.42308\\\\\n",
       "\t917 & NA        & Primary Care & Thames Valley           & Berkshire, Buckinghamshire and Oxfordshire (Pharmacy) & Cleggs Pharmacy/Wantage/OX12 9AJ                                                           & Y & 30000 & 1 & 40.0 & Community & 52 &                    & NA &                  & NA &  & NA & 14.42308\\\\\n",
       "\t1177 & NA        & Primary Care & Kent, Surrey and Sussex & Sussex                                                & Crawley Chemist/Crawley/RH10 1HS                                                           & N & 30000 & 0 & 40.0 & Community & 52 &                    & NA &                  & NA &  & NA & 14.42308\\\\\n",
       "\\end{tabular}\n"
      ],
      "text/markdown": [
       "\n",
       "A data.frame: 43 × 18\n",
       "\n",
       "| <!--/--> | Training.type &lt;chr&gt; | Employer.Type &lt;chr&gt; | Region &lt;chr&gt; | Sector &lt;chr&gt; | Programme.Title &lt;chr&gt; | Visa &lt;fct&gt; | Salary &lt;int&gt; | Places.Available &lt;int&gt; | Working.hours &lt;dbl&gt; | Rotation1 &lt;chr&gt; | Rotation1.duration &lt;int&gt; | Rotation2 &lt;chr&gt; | Rotation2.duration &lt;int&gt; | Rotation3 &lt;chr&gt; | Rotation3.duration &lt;int&gt; | Rotation4 &lt;chr&gt; | Rotation4.duration &lt;int&gt; | Hourly.Wage &lt;dbl&gt; |\n",
       "|---|---|---|---|---|---|---|---|---|---|---|---|---|---|---|---|---|---|---|\n",
       "| 3808 | Non-split | Hospital     | London                  | North Central London                                  | Whittington Health + Islington GP Federation/North Central London/N19 5NF + N7 8EG         | Y | 34089 | 2 | 37.5 | Hospital  | 39 | General Practice   | 13 | <!----> | NA | <!----> | NA | 17.48154 |\n",
       "| 349 | Non-split | Hospital     | London                  | North East London (Pharmacy)                          | Barking, Havering &amp; Redbridge University Hosp NHS Trust+Boots(Romford)/London/RM7+IG3+RM11 | Y | 32720 | 1 | 37.5 | Hospital  | 39 | Community          | 13 | <!----> | NA | <!----> | NA | 16.77949 |\n",
       "| 350 | Non-split | Hospital     | London                  | North East London (Pharmacy)                          | Barking, Havering &amp; Redbridge University Hosp NHS Trust+Mastaa-Care Pcy/London/RM7+IG3+RM8 | Y | 32720 | 1 | 37.5 | Hospital  | 39 | Community          | 13 | <!----> | NA | <!----> | NA | 16.77949 |\n",
       "| 351 | NA        | Hospital     | London                  | North East London (Pharmacy)                          | Barking, Havering &amp; Redbridge University Hospitals NHST/Romford/RM7 0AG/Ilford/IG3 8YB     | Y | 32720 | 2 | 37.5 | Hospital  | 52 | <!----> | NA | <!----> | NA | <!----> | NA | 16.77949 |\n",
       "| 355 | Non-split | Hospital     | London                  | North Central London                                  | Barnet Enfield&amp;Haringey MH Trust+North Middx Hosp+Safedale Pcy/London/N153TH+N181QX+N211RA | Y | 32720 | 2 | 37.5 | Hospital  | 26 | Hospital           | 13 | Community        | 13 | <!----> | NA | 16.77949 |\n",
       "| 857 | Non-split | Hospital     | London                  | North West London (Pharmacy)                          | Chelsea &amp; Westminster Hospital-West Middlesex site + Hounslow PCN/Isleworth/TW76AF+TW33EB  | N | 32720 | 4 | 37.5 | Hospital  | 39 | General Practice   | 13 | <!----> | NA | <!----> | NA | 16.77949 |\n",
       "| 1203 | NA        | Hospital     | London                  | South West London (Pharmacy)                          | Croydon Health Services NHS Trust/Croydon/CR7 7YE                                          | Y | 32720 | 4 | 37.5 | Hospital  | 52 | <!----> | NA | <!----> | NA | <!----> | NA | 16.77949 |\n",
       "| 1533 | NA        | Hospital     | London                  | South West London (Pharmacy)                          | Epsom &amp; St Helier University Hospitals NHS Trust/Epsom + Carshalton/KTI8 7EG + SM5 1AA     | Y | 32720 | 4 | 37.5 | Hospital  | 52 | <!----> | NA | <!----> | NA | <!----> | NA | 16.77949 |\n",
       "| 1534 | Split     | Hospital     | London                  | South West London (Pharmacy)                          | Epsom and St Helier Hospitals+S G Barai Pharmacy/Epsom+Sutton/KT18 7EG+SM5 1AA+SM1 3AT     | Y | 32720 | 1 | 37.5 | Hospital  | 26 | Community          | 26 | <!----> | NA | <!----> | NA | 16.77949 |\n",
       "| 2090 | NA        | Hospital     | London                  | South East London (Pharmacy)                          | King's College Hospital NHS Foundation Trust (Princess Royal site)/Orpington/BR6 8ND       | Y | 32720 | 3 | 37.5 | Hospital  | 52 | <!----> | NA | <!----> | NA | <!----> | NA | 16.77949 |\n",
       "| 2091 | Non-split | Hospital     | London                  | South East London (Pharmacy)                          | Kings College Hosp-Princess Royal+SouthSouthwarkPCN(Gardens Surg)/Orpington/BR68ND+SE229QU | Y | 32720 | 1 | 37.5 | Hospital  | 39 | General Practice   | 13 | <!----> | NA | <!----> | NA | 16.77949 |\n",
       "| 2105 | NA        | Hospital     | London                  | South West London (Pharmacy)                          | Kingston Hospital NHS Foundation Trust/Kingston-upon-Thames/KT2 7QB                        | Y | 32720 | 3 | 37.5 | Hospital  | 52 | <!----> | NA | <!----> | NA | <!----> | NA | 16.77949 |\n",
       "| 2106 | Non-split | Hospital     | London                  | South West London (Pharmacy)                          | Kingston Hospital NHSFT + Kirkby Chemist/Kingston-upon-Thames + Sutton/KT2 7QB + SM2 6BX   | Y | 32720 | 1 | 37.5 | Hospital  | 39 | Community          | 13 | <!----> | NA | <!----> | NA | 16.77949 |\n",
       "| 2176 | NA        | Hospital     | London                  | South East London (Pharmacy)                          | Lewisham &amp; Greenwich NHS Trust - Queen Elizabeth Hospital/Woolwich/SE18 4QH                | Y | 32720 | 5 | 37.5 | Hospital  | 52 | <!----> | NA | <!----> | NA | <!----> | NA | 16.77949 |\n",
       "| 2219 | Non-split | Hospital     | London                  | North West London (Pharmacy)                          | London North West UH NHS Trust + Southall Pharmacy/Harrow/HA1 3UJ + UB1 2LF                | Y | 32720 | 2 | 37.5 | Hospital  | 39 | Community          | 13 | <!----> | NA | <!----> | NA | 16.77949 |\n",
       "| 2220 | Non-split | Hospital     | London                  | North West London (Pharmacy)                          | London North West UH NHS Trust cross site programme + HMP Wormwood Scrubs/Harrow/HA1+W12   | Y | 32720 | 1 | 37.5 | Hospital  | 39 | Health and Justice | 13 | <!----> | NA | <!----> | NA | 16.77949 |\n",
       "| 2221 | Non-split | Hospital     | London                  | North West London (Pharmacy)                          | London North West UH NHS Trust cross site programme + Millway Medical Practice/HA1+NW7     | Y | 32720 | 1 | 37.5 | Hospital  | 39 | General Practice   | 13 | <!----> | NA | <!----> | NA | 16.77949 |\n",
       "| 2222 | NA        | Hospital     | London                  | North West London (Pharmacy)                          | London North West UH NHS Trust cross site rotational programme/Harrow/HA1 3UJ              | Y | 32720 | 2 | 37.5 | Hospital  | 52 | <!----> | NA | <!----> | NA | <!----> | NA | 16.77949 |\n",
       "| 2545 | NA        | Hospital     | London                  | North East London (Pharmacy)                          | North East London NHS Foundation Trust/Ilford/IG3 8XJ                                      | Y | 32720 | 2 | 37.5 | Hospital  | 52 | <!----> | NA | <!----> | NA | <!----> | NA | 16.77949 |\n",
       "| 2547 | Non-split | Hospital     | London                  | North Central London                                  | North Middlesex University Hospital NHS Trust+Haringey GP Federation/London/N181QX+N227TY  | N | 32720 | 4 | 37.5 | Hospital  | 39 | General Practice   | 13 | <!----> | NA | <!----> | NA | 16.77949 |\n",
       "| 3055 | Non-split | Hospital     | London                  | North Central London                                  | Royal Free London NHSFT - Barnet Hospital + Boots (Whetstone)/EN5 3DJ + N20 9HS            | Y | 32720 | 1 | 37.5 | Hospital  | 39 | Community          | 13 | <!----> | NA | <!----> | NA | 16.77949 |\n",
       "| 3056 | Split     | Hospital     | London                  | North Central London                                  | Royal Free London NHSFT - Barnet Hospital + Grove Medical Practice/Barnet/EN5 3DJ+WD6 4PR  | Y | 32720 | 1 | 37.5 | Hospital  | 26 | General Practice   | 26 | <!----> | NA | <!----> | NA | 16.77949 |\n",
       "| 3057 | Split     | Hospital     | London                  | North Central London                                  | Royal Free London NHSFT - Barnet Hospital + Longrove Medical Centre/EN5 3DJ + EN5 2ED      | Y | 32720 | 1 | 37.5 | Hospital  | 26 | General Practice   | 26 | <!----> | NA | <!----> | NA | 16.77949 |\n",
       "| 3058 | Split     | Hospital     | London                  | North Central London                                  | Royal Free London NHSFT-Barnet Hospital + Millway Medical Practice/Barnet/EN5 3DJ+NW7 2HX  | Y | 32720 | 1 | 37.5 | Hospital  | 26 | General Practice   | 26 | <!----> | NA | <!----> | NA | 16.77949 |\n",
       "| 3059 | Split     | Hospital     | London                  | North Central London                                  | Royal Free London NHSFT-Barnet Hospital + St Andrews Medical Practice/EN5 3DJ + N20 9EX    | Y | 32720 | 1 | 37.5 | Hospital  | 26 | General Practice   | 26 | <!----> | NA | <!----> | NA | 16.77949 |\n",
       "| 3060 | Split     | Hospital     | London                  | North Central London                                  | Royal Free London NHSFT-Barnet Hospital+Greenlight Pharmacy (Borehamwood)/EN5 3DJ+WD6 1QX  | Y | 32720 | 1 | 37.5 | Hospital  | 26 | Community          | 26 | <!----> | NA | <!----> | NA | 16.77949 |\n",
       "| 3460 | NA        | Hospital     | London                  | North West London (Pharmacy)                          | The Hillingdon Hospitals NHS Foundation Trust/Uxbridge/UB8 3NN                             | N | 32720 | 2 | 37.5 | Hospital  | 52 | <!----> | NA | <!----> | NA | <!----> | NA | 16.77949 |\n",
       "| 3784 | Non-split | Hospital     | London                  | North West London (Pharmacy)                          | West London NHS Trust+Mattock Lane Pharmacy+Gordon Hse Surgery/London/UB13EU+W139LL+W139NZ | N | 32720 | 2 | 37.5 | Hospital  | 26 | Community          | 13 | General Practice | 13 | <!----> | NA | 16.77949 |\n",
       "| 268 | NA        | Primary Care | Wessex                  | Hampshire and Isle of Wight (Pharmacy)                | AR Pharmacy (Lyndhurst)/Lyndhurst/SO437BG                                                  | N | 32000 | 1 | 40.0 | Community | 52 | <!----> | NA | <!----> | NA | <!----> | NA | 15.38462 |\n",
       "| 269 | NA        | Primary Care | Wessex                  | Hampshire and Isle of Wight (Pharmacy)                | AR Pharmacy (Testvale)/Totton, Southampton/SO403PY                                         | N | 32000 | 1 | 40.0 | Community | 52 | <!----> | NA | <!----> | NA | <!----> | NA | 15.38462 |\n",
       "| 270 | NA        | Primary Care | Wessex                  | Hampshire and Isle of Wight (Pharmacy)                | AR Pharmacy (Testwood)/Totton/SO403BY                                                      | N | 32000 | 1 | 40.0 | Community | 52 | <!----> | NA | <!----> | NA | <!----> | NA | 15.38462 |\n",
       "| 271 | NA        | Primary Care | Wessex                  | Hampshire and Isle of Wight (Pharmacy)                | AR Pharmacy (West Totton)/Totton, Southampton/SO408WU                                      | N | 32000 | 3 | 40.0 | Community | 52 | <!----> | NA | <!----> | NA | <!----> | NA | 15.38462 |\n",
       "| 1415 | NA        | Primary Care | London                  | North West London (Pharmacy)                          | Dillons Pharmacy/London/W10 5PF                                                            | N | 32000 | 1 | 40.0 | Community | 52 | <!----> | NA | <!----> | NA | <!----> | NA | 15.38462 |\n",
       "| 2427 | NA        | Primary Care | Wessex                  | Hampshire and Isle of Wight (Pharmacy)                | Milford Pharmacy/Milford on sea/SO410PG                                                    | N | 32000 | 1 | 40.0 | Community | 52 | <!----> | NA | <!----> | NA | <!----> | NA | 15.38462 |\n",
       "| 2949 | NA        | Primary Care | London                  | North West London (Pharmacy)                          | Ravenor Pharmacy/Greenford/UB6 9QA                                                         | Y | 32000 | 1 | 40.0 | Community | 52 | <!----> | NA | <!----> | NA | <!----> | NA | 15.38462 |\n",
       "| 3020 | NA        | Primary Care | London                  | North West London (Pharmacy)                          | Roxannes Pharmacy/Greenford/UB6 9PN                                                        | Y | 32000 | 2 | 40.0 | Community | 52 | <!----> | NA | <!----> | NA | <!----> | NA | 15.38462 |\n",
       "| 3268 | NA        | Primary Care | Thames Valley           | Berkshire, Buckinghamshire and Oxfordshire (Pharmacy) | SPARKS PHARMACY/CHALFONT ST GILES/HP8 4QH                                                  | Y | 32000 | 2 | 37.5 | Community | 52 | <!----> | NA | <!----> | NA | <!----> | NA | 16.41026 |\n",
       "| 3344 | Non-split | Primary Care | South West              | Gloucestershire                                       | Stroud Road Pharmacy + Gloucestershire Hosp/Gloucester&amp;Cheltenham/GL1 5JL+GL1 3NN/GL53 7AN | N | 31200 | 1 | 40.0 | Community | 39 | Hospital           | 13 | <!----> | NA | <!----> | NA | 15.00000 |\n",
       "| 3345 | Non-split | Primary Care | South West              | Gloucestershire                                       | Stroud Road Pharmacy + Rosebank Health/Gloucester/GL1 5JL+GL1 5JQ                          | N | 31200 | 1 | 40.0 | Community | 39 | General Practice   | 13 | <!----> | NA | <!----> | NA | 15.00000 |\n",
       "| 411 | NA        | Primary Care | Thames Valley           | Berkshire, Buckinghamshire and Oxfordshire (Pharmacy) | Berinsfield Pharmacy/Wallingford, Oxford/OX10 7NE                                          | N | 30000 | 1 | 40.0 | Community | 52 | <!----> | NA | <!----> | NA | <!----> | NA | 14.42308 |\n",
       "| 417 | NA        | Primary Care | North East              | County Durham                                         | Bewick Pharmacy/Newton Aycliffe/DL5 5LH                                                    | N | 30000 | 1 | 40.0 | Community | 52 | <!----> | NA | <!----> | NA | <!----> | NA | 14.42308 |\n",
       "| 917 | NA        | Primary Care | Thames Valley           | Berkshire, Buckinghamshire and Oxfordshire (Pharmacy) | Cleggs Pharmacy/Wantage/OX12 9AJ                                                           | Y | 30000 | 1 | 40.0 | Community | 52 | <!----> | NA | <!----> | NA | <!----> | NA | 14.42308 |\n",
       "| 1177 | NA        | Primary Care | Kent, Surrey and Sussex | Sussex                                                | Crawley Chemist/Crawley/RH10 1HS                                                           | N | 30000 | 0 | 40.0 | Community | 52 | <!----> | NA | <!----> | NA | <!----> | NA | 14.42308 |\n",
       "\n"
      ],
      "text/plain": [
       "     Training.type Employer.Type Region                 \n",
       "3808 Non-split     Hospital      London                 \n",
       "349  Non-split     Hospital      London                 \n",
       "350  Non-split     Hospital      London                 \n",
       "351  NA            Hospital      London                 \n",
       "355  Non-split     Hospital      London                 \n",
       "857  Non-split     Hospital      London                 \n",
       "1203 NA            Hospital      London                 \n",
       "1533 NA            Hospital      London                 \n",
       "1534 Split         Hospital      London                 \n",
       "2090 NA            Hospital      London                 \n",
       "2091 Non-split     Hospital      London                 \n",
       "2105 NA            Hospital      London                 \n",
       "2106 Non-split     Hospital      London                 \n",
       "2176 NA            Hospital      London                 \n",
       "2219 Non-split     Hospital      London                 \n",
       "2220 Non-split     Hospital      London                 \n",
       "2221 Non-split     Hospital      London                 \n",
       "2222 NA            Hospital      London                 \n",
       "2545 NA            Hospital      London                 \n",
       "2547 Non-split     Hospital      London                 \n",
       "3055 Non-split     Hospital      London                 \n",
       "3056 Split         Hospital      London                 \n",
       "3057 Split         Hospital      London                 \n",
       "3058 Split         Hospital      London                 \n",
       "3059 Split         Hospital      London                 \n",
       "3060 Split         Hospital      London                 \n",
       "3460 NA            Hospital      London                 \n",
       "3784 Non-split     Hospital      London                 \n",
       "268  NA            Primary Care  Wessex                 \n",
       "269  NA            Primary Care  Wessex                 \n",
       "270  NA            Primary Care  Wessex                 \n",
       "271  NA            Primary Care  Wessex                 \n",
       "1415 NA            Primary Care  London                 \n",
       "2427 NA            Primary Care  Wessex                 \n",
       "2949 NA            Primary Care  London                 \n",
       "3020 NA            Primary Care  London                 \n",
       "3268 NA            Primary Care  Thames Valley          \n",
       "3344 Non-split     Primary Care  South West             \n",
       "3345 Non-split     Primary Care  South West             \n",
       "411  NA            Primary Care  Thames Valley          \n",
       "417  NA            Primary Care  North East             \n",
       "917  NA            Primary Care  Thames Valley          \n",
       "1177 NA            Primary Care  Kent, Surrey and Sussex\n",
       "     Sector                                               \n",
       "3808 North Central London                                 \n",
       "349  North East London (Pharmacy)                         \n",
       "350  North East London (Pharmacy)                         \n",
       "351  North East London (Pharmacy)                         \n",
       "355  North Central London                                 \n",
       "857  North West London (Pharmacy)                         \n",
       "1203 South West London (Pharmacy)                         \n",
       "1533 South West London (Pharmacy)                         \n",
       "1534 South West London (Pharmacy)                         \n",
       "2090 South East London (Pharmacy)                         \n",
       "2091 South East London (Pharmacy)                         \n",
       "2105 South West London (Pharmacy)                         \n",
       "2106 South West London (Pharmacy)                         \n",
       "2176 South East London (Pharmacy)                         \n",
       "2219 North West London (Pharmacy)                         \n",
       "2220 North West London (Pharmacy)                         \n",
       "2221 North West London (Pharmacy)                         \n",
       "2222 North West London (Pharmacy)                         \n",
       "2545 North East London (Pharmacy)                         \n",
       "2547 North Central London                                 \n",
       "3055 North Central London                                 \n",
       "3056 North Central London                                 \n",
       "3057 North Central London                                 \n",
       "3058 North Central London                                 \n",
       "3059 North Central London                                 \n",
       "3060 North Central London                                 \n",
       "3460 North West London (Pharmacy)                         \n",
       "3784 North West London (Pharmacy)                         \n",
       "268  Hampshire and Isle of Wight (Pharmacy)               \n",
       "269  Hampshire and Isle of Wight (Pharmacy)               \n",
       "270  Hampshire and Isle of Wight (Pharmacy)               \n",
       "271  Hampshire and Isle of Wight (Pharmacy)               \n",
       "1415 North West London (Pharmacy)                         \n",
       "2427 Hampshire and Isle of Wight (Pharmacy)               \n",
       "2949 North West London (Pharmacy)                         \n",
       "3020 North West London (Pharmacy)                         \n",
       "3268 Berkshire, Buckinghamshire and Oxfordshire (Pharmacy)\n",
       "3344 Gloucestershire                                      \n",
       "3345 Gloucestershire                                      \n",
       "411  Berkshire, Buckinghamshire and Oxfordshire (Pharmacy)\n",
       "417  County Durham                                        \n",
       "917  Berkshire, Buckinghamshire and Oxfordshire (Pharmacy)\n",
       "1177 Sussex                                               \n",
       "     Programme.Title                                                                           \n",
       "3808 Whittington Health + Islington GP Federation/North Central London/N19 5NF + N7 8EG        \n",
       "349  Barking, Havering & Redbridge University Hosp NHS Trust+Boots(Romford)/London/RM7+IG3+RM11\n",
       "350  Barking, Havering & Redbridge University Hosp NHS Trust+Mastaa-Care Pcy/London/RM7+IG3+RM8\n",
       "351  Barking, Havering & Redbridge University Hospitals NHST/Romford/RM7 0AG/Ilford/IG3 8YB    \n",
       "355  Barnet Enfield&Haringey MH Trust+North Middx Hosp+Safedale Pcy/London/N153TH+N181QX+N211RA\n",
       "857  Chelsea & Westminster Hospital-West Middlesex site + Hounslow PCN/Isleworth/TW76AF+TW33EB \n",
       "1203 Croydon Health Services NHS Trust/Croydon/CR7 7YE                                         \n",
       "1533 Epsom & St Helier University Hospitals NHS Trust/Epsom + Carshalton/KTI8 7EG + SM5 1AA    \n",
       "1534 Epsom and St Helier Hospitals+S G Barai Pharmacy/Epsom+Sutton/KT18 7EG+SM5 1AA+SM1 3AT    \n",
       "2090 King's College Hospital NHS Foundation Trust (Princess Royal site)/Orpington/BR6 8ND      \n",
       "2091 Kings College Hosp-Princess Royal+SouthSouthwarkPCN(Gardens Surg)/Orpington/BR68ND+SE229QU\n",
       "2105 Kingston Hospital NHS Foundation Trust/Kingston-upon-Thames/KT2 7QB                       \n",
       "2106 Kingston Hospital NHSFT + Kirkby Chemist/Kingston-upon-Thames + Sutton/KT2 7QB + SM2 6BX  \n",
       "2176 Lewisham & Greenwich NHS Trust - Queen Elizabeth Hospital/Woolwich/SE18 4QH               \n",
       "2219 London North West UH NHS Trust + Southall Pharmacy/Harrow/HA1 3UJ + UB1 2LF               \n",
       "2220 London North West UH NHS Trust cross site programme + HMP Wormwood Scrubs/Harrow/HA1+W12  \n",
       "2221 London North West UH NHS Trust cross site programme + Millway Medical Practice/HA1+NW7    \n",
       "2222 London North West UH NHS Trust cross site rotational programme/Harrow/HA1 3UJ             \n",
       "2545 North East London NHS Foundation Trust/Ilford/IG3 8XJ                                     \n",
       "2547 North Middlesex University Hospital NHS Trust+Haringey GP Federation/London/N181QX+N227TY \n",
       "3055 Royal Free London NHSFT - Barnet Hospital + Boots (Whetstone)/EN5 3DJ + N20 9HS           \n",
       "3056 Royal Free London NHSFT - Barnet Hospital + Grove Medical Practice/Barnet/EN5 3DJ+WD6 4PR \n",
       "3057 Royal Free London NHSFT - Barnet Hospital + Longrove Medical Centre/EN5 3DJ + EN5 2ED     \n",
       "3058 Royal Free London NHSFT-Barnet Hospital + Millway Medical Practice/Barnet/EN5 3DJ+NW7 2HX \n",
       "3059 Royal Free London NHSFT-Barnet Hospital + St Andrews Medical Practice/EN5 3DJ + N20 9EX   \n",
       "3060 Royal Free London NHSFT-Barnet Hospital+Greenlight Pharmacy (Borehamwood)/EN5 3DJ+WD6 1QX \n",
       "3460 The Hillingdon Hospitals NHS Foundation Trust/Uxbridge/UB8 3NN                            \n",
       "3784 West London NHS Trust+Mattock Lane Pharmacy+Gordon Hse Surgery/London/UB13EU+W139LL+W139NZ\n",
       "268  AR Pharmacy (Lyndhurst)/Lyndhurst/SO437BG                                                 \n",
       "269  AR Pharmacy (Testvale)/Totton, Southampton/SO403PY                                        \n",
       "270  AR Pharmacy (Testwood)/Totton/SO403BY                                                     \n",
       "271  AR Pharmacy (West Totton)/Totton, Southampton/SO408WU                                     \n",
       "1415 Dillons Pharmacy/London/W10 5PF                                                           \n",
       "2427 Milford Pharmacy/Milford on sea/SO410PG                                                   \n",
       "2949 Ravenor Pharmacy/Greenford/UB6 9QA                                                        \n",
       "3020 Roxannes Pharmacy/Greenford/UB6 9PN                                                       \n",
       "3268 SPARKS PHARMACY/CHALFONT ST GILES/HP8 4QH                                                 \n",
       "3344 Stroud Road Pharmacy + Gloucestershire Hosp/Gloucester&Cheltenham/GL1 5JL+GL1 3NN/GL53 7AN\n",
       "3345 Stroud Road Pharmacy + Rosebank Health/Gloucester/GL1 5JL+GL1 5JQ                         \n",
       "411  Berinsfield Pharmacy/Wallingford, Oxford/OX10 7NE                                         \n",
       "417  Bewick Pharmacy/Newton Aycliffe/DL5 5LH                                                   \n",
       "917  Cleggs Pharmacy/Wantage/OX12 9AJ                                                          \n",
       "1177 Crawley Chemist/Crawley/RH10 1HS                                                          \n",
       "     Visa Salary Places.Available Working.hours Rotation1 Rotation1.duration\n",
       "3808 Y    34089  2                37.5          Hospital  39                \n",
       "349  Y    32720  1                37.5          Hospital  39                \n",
       "350  Y    32720  1                37.5          Hospital  39                \n",
       "351  Y    32720  2                37.5          Hospital  52                \n",
       "355  Y    32720  2                37.5          Hospital  26                \n",
       "857  N    32720  4                37.5          Hospital  39                \n",
       "1203 Y    32720  4                37.5          Hospital  52                \n",
       "1533 Y    32720  4                37.5          Hospital  52                \n",
       "1534 Y    32720  1                37.5          Hospital  26                \n",
       "2090 Y    32720  3                37.5          Hospital  52                \n",
       "2091 Y    32720  1                37.5          Hospital  39                \n",
       "2105 Y    32720  3                37.5          Hospital  52                \n",
       "2106 Y    32720  1                37.5          Hospital  39                \n",
       "2176 Y    32720  5                37.5          Hospital  52                \n",
       "2219 Y    32720  2                37.5          Hospital  39                \n",
       "2220 Y    32720  1                37.5          Hospital  39                \n",
       "2221 Y    32720  1                37.5          Hospital  39                \n",
       "2222 Y    32720  2                37.5          Hospital  52                \n",
       "2545 Y    32720  2                37.5          Hospital  52                \n",
       "2547 N    32720  4                37.5          Hospital  39                \n",
       "3055 Y    32720  1                37.5          Hospital  39                \n",
       "3056 Y    32720  1                37.5          Hospital  26                \n",
       "3057 Y    32720  1                37.5          Hospital  26                \n",
       "3058 Y    32720  1                37.5          Hospital  26                \n",
       "3059 Y    32720  1                37.5          Hospital  26                \n",
       "3060 Y    32720  1                37.5          Hospital  26                \n",
       "3460 N    32720  2                37.5          Hospital  52                \n",
       "3784 N    32720  2                37.5          Hospital  26                \n",
       "268  N    32000  1                40.0          Community 52                \n",
       "269  N    32000  1                40.0          Community 52                \n",
       "270  N    32000  1                40.0          Community 52                \n",
       "271  N    32000  3                40.0          Community 52                \n",
       "1415 N    32000  1                40.0          Community 52                \n",
       "2427 N    32000  1                40.0          Community 52                \n",
       "2949 Y    32000  1                40.0          Community 52                \n",
       "3020 Y    32000  2                40.0          Community 52                \n",
       "3268 Y    32000  2                37.5          Community 52                \n",
       "3344 N    31200  1                40.0          Community 39                \n",
       "3345 N    31200  1                40.0          Community 39                \n",
       "411  N    30000  1                40.0          Community 52                \n",
       "417  N    30000  1                40.0          Community 52                \n",
       "917  Y    30000  1                40.0          Community 52                \n",
       "1177 N    30000  0                40.0          Community 52                \n",
       "     Rotation2          Rotation2.duration Rotation3        Rotation3.duration\n",
       "3808 General Practice   13                                  NA                \n",
       "349  Community          13                                  NA                \n",
       "350  Community          13                                  NA                \n",
       "351                     NA                                  NA                \n",
       "355  Hospital           13                 Community        13                \n",
       "857  General Practice   13                                  NA                \n",
       "1203                    NA                                  NA                \n",
       "1533                    NA                                  NA                \n",
       "1534 Community          26                                  NA                \n",
       "2090                    NA                                  NA                \n",
       "2091 General Practice   13                                  NA                \n",
       "2105                    NA                                  NA                \n",
       "2106 Community          13                                  NA                \n",
       "2176                    NA                                  NA                \n",
       "2219 Community          13                                  NA                \n",
       "2220 Health and Justice 13                                  NA                \n",
       "2221 General Practice   13                                  NA                \n",
       "2222                    NA                                  NA                \n",
       "2545                    NA                                  NA                \n",
       "2547 General Practice   13                                  NA                \n",
       "3055 Community          13                                  NA                \n",
       "3056 General Practice   26                                  NA                \n",
       "3057 General Practice   26                                  NA                \n",
       "3058 General Practice   26                                  NA                \n",
       "3059 General Practice   26                                  NA                \n",
       "3060 Community          26                                  NA                \n",
       "3460                    NA                                  NA                \n",
       "3784 Community          13                 General Practice 13                \n",
       "268                     NA                                  NA                \n",
       "269                     NA                                  NA                \n",
       "270                     NA                                  NA                \n",
       "271                     NA                                  NA                \n",
       "1415                    NA                                  NA                \n",
       "2427                    NA                                  NA                \n",
       "2949                    NA                                  NA                \n",
       "3020                    NA                                  NA                \n",
       "3268                    NA                                  NA                \n",
       "3344 Hospital           13                                  NA                \n",
       "3345 General Practice   13                                  NA                \n",
       "411                     NA                                  NA                \n",
       "417                     NA                                  NA                \n",
       "917                     NA                                  NA                \n",
       "1177                    NA                                  NA                \n",
       "     Rotation4 Rotation4.duration Hourly.Wage\n",
       "3808           NA                 17.48154   \n",
       "349            NA                 16.77949   \n",
       "350            NA                 16.77949   \n",
       "351            NA                 16.77949   \n",
       "355            NA                 16.77949   \n",
       "857            NA                 16.77949   \n",
       "1203           NA                 16.77949   \n",
       "1533           NA                 16.77949   \n",
       "1534           NA                 16.77949   \n",
       "2090           NA                 16.77949   \n",
       "2091           NA                 16.77949   \n",
       "2105           NA                 16.77949   \n",
       "2106           NA                 16.77949   \n",
       "2176           NA                 16.77949   \n",
       "2219           NA                 16.77949   \n",
       "2220           NA                 16.77949   \n",
       "2221           NA                 16.77949   \n",
       "2222           NA                 16.77949   \n",
       "2545           NA                 16.77949   \n",
       "2547           NA                 16.77949   \n",
       "3055           NA                 16.77949   \n",
       "3056           NA                 16.77949   \n",
       "3057           NA                 16.77949   \n",
       "3058           NA                 16.77949   \n",
       "3059           NA                 16.77949   \n",
       "3060           NA                 16.77949   \n",
       "3460           NA                 16.77949   \n",
       "3784           NA                 16.77949   \n",
       "268            NA                 15.38462   \n",
       "269            NA                 15.38462   \n",
       "270            NA                 15.38462   \n",
       "271            NA                 15.38462   \n",
       "1415           NA                 15.38462   \n",
       "2427           NA                 15.38462   \n",
       "2949           NA                 15.38462   \n",
       "3020           NA                 15.38462   \n",
       "3268           NA                 16.41026   \n",
       "3344           NA                 15.00000   \n",
       "3345           NA                 15.00000   \n",
       "411            NA                 14.42308   \n",
       "417            NA                 14.42308   \n",
       "917            NA                 14.42308   \n",
       "1177           NA                 14.42308   "
      ]
     },
     "metadata": {},
     "output_type": "display_data"
    }
   ],
   "source": [
    "num_hosp <- filter(OD, Employer.Type == \"Hospital\") %>% nrow()  \n",
    "num_hosp\n",
    "\n",
    "soreted_salary <- OD[order(-OD$Salary),]\n",
    "# head(soreted_salary)\n",
    "\n",
    "# 34098 might be a wrong salary\n",
    "\n",
    "OD <- OD %>% mutate(Salary = ifelse(Salary == 34098,34089,Salary))\n",
    "soreted_salary[70,]\n",
    "soreted_salary[80,]\n",
    "\n",
    "#https://faq.nhsbsa.nhs.uk/knowledgebase/article/KA-23439/en-us\n",
    "#https://www.healthcareers.nhs.uk/working-health/working-nhs/nhs-pay-and-benefits/agenda-change-pay-rates\n",
    "band5_salary <-28407\n",
    "band5_salary_with_london_weighting_inner <- band5_salary*1.2\n",
    "band5_salary_with_london_weighting_inner\n",
    "band5_salary_with_london_weighting_outer <- band5_salary*1.15\n",
    "band5_salary_with_london_weighting_outer\n",
    "band5_salary_with_london_weighting_fringe <- band5_salary*1.05\n",
    "band5_salary_with_london_weighting_fringe\n",
    "\n",
    "\n",
    "num_hosp_with_london_weighting <- filter(OD, Employer.Type == \"Hospital\" & Salary == 34089) %>% nrow()  \n",
    "num_hosp_with_london_weighting\n",
    "# This is not the total number of places available in hospitals, but the number of programmes with London weighting\n",
    "\n",
    "num_places_available_with_london_weighting20 <- sum(OD$Places.Available[OD$Employer.Type == \"Hospital\" & OD$Salary == 34089], na.rm = TRUE)\n",
    "num_places_available_with_london_weighting20\n",
    "\n",
    "num_places_available_with_london_weighting15 <- sum(OD$Places.Available[OD$Employer.Type == \"Hospital\" & OD$Salary == 34089], na.rm = TRUE)\n",
    "num_places_available_with_london_weighting15\n",
    "\n",
    "num_places_available_with_london_weighting5 <- sum(OD$Places.Available[OD$Employer.Type == \"Hospital\" & OD$Salary == 34089], na.rm = TRUE)\n",
    "num_places_available_with_london_weighting5\n",
    "\n",
    "soreted_salary[58:100,]"
   ]
  },
  {
   "cell_type": "code",
   "execution_count": 9,
   "metadata": {
    "vscode": {
     "languageId": "r"
    }
   },
   "outputs": [
    {
     "data": {
      "text/html": [
       "<table class=\"dataframe\">\n",
       "<caption>A data.frame: 0 × 18</caption>\n",
       "<thead>\n",
       "\t<tr><th scope=col>Training.type</th><th scope=col>Employer.Type</th><th scope=col>Region</th><th scope=col>Sector</th><th scope=col>Programme.Title</th><th scope=col>Visa</th><th scope=col>Salary</th><th scope=col>Places.Available</th><th scope=col>Working.hours</th><th scope=col>Rotation1</th><th scope=col>Rotation1.duration</th><th scope=col>Rotation2</th><th scope=col>Rotation2.duration</th><th scope=col>Rotation3</th><th scope=col>Rotation3.duration</th><th scope=col>Rotation4</th><th scope=col>Rotation4.duration</th><th scope=col>Hourly.Wage</th></tr>\n",
       "\t<tr><th scope=col>&lt;chr&gt;</th><th scope=col>&lt;chr&gt;</th><th scope=col>&lt;chr&gt;</th><th scope=col>&lt;chr&gt;</th><th scope=col>&lt;chr&gt;</th><th scope=col>&lt;fct&gt;</th><th scope=col>&lt;dbl&gt;</th><th scope=col>&lt;int&gt;</th><th scope=col>&lt;dbl&gt;</th><th scope=col>&lt;chr&gt;</th><th scope=col>&lt;int&gt;</th><th scope=col>&lt;chr&gt;</th><th scope=col>&lt;int&gt;</th><th scope=col>&lt;chr&gt;</th><th scope=col>&lt;int&gt;</th><th scope=col>&lt;chr&gt;</th><th scope=col>&lt;int&gt;</th><th scope=col>&lt;dbl&gt;</th></tr>\n",
       "</thead>\n",
       "<tbody>\n",
       "</tbody>\n",
       "</table>\n"
      ],
      "text/latex": [
       "A data.frame: 0 × 18\n",
       "\\begin{tabular}{llllllllllllllllll}\n",
       " Training.type & Employer.Type & Region & Sector & Programme.Title & Visa & Salary & Places.Available & Working.hours & Rotation1 & Rotation1.duration & Rotation2 & Rotation2.duration & Rotation3 & Rotation3.duration & Rotation4 & Rotation4.duration & Hourly.Wage\\\\\n",
       " <chr> & <chr> & <chr> & <chr> & <chr> & <fct> & <dbl> & <int> & <dbl> & <chr> & <int> & <chr> & <int> & <chr> & <int> & <chr> & <int> & <dbl>\\\\\n",
       "\\hline\n",
       "\\end{tabular}\n"
      ],
      "text/markdown": [
       "\n",
       "A data.frame: 0 × 18\n",
       "\n",
       "| Training.type &lt;chr&gt; | Employer.Type &lt;chr&gt; | Region &lt;chr&gt; | Sector &lt;chr&gt; | Programme.Title &lt;chr&gt; | Visa &lt;fct&gt; | Salary &lt;dbl&gt; | Places.Available &lt;int&gt; | Working.hours &lt;dbl&gt; | Rotation1 &lt;chr&gt; | Rotation1.duration &lt;int&gt; | Rotation2 &lt;chr&gt; | Rotation2.duration &lt;int&gt; | Rotation3 &lt;chr&gt; | Rotation3.duration &lt;int&gt; | Rotation4 &lt;chr&gt; | Rotation4.duration &lt;int&gt; | Hourly.Wage &lt;dbl&gt; |\n",
       "|---|---|---|---|---|---|---|---|---|---|---|---|---|---|---|---|---|---|\n",
       "\n"
      ],
      "text/plain": [
       "     Training.type Employer.Type Region Sector Programme.Title Visa Salary\n",
       "     Places.Available Working.hours Rotation1 Rotation1.duration Rotation2\n",
       "     Rotation2.duration Rotation3 Rotation3.duration Rotation4\n",
       "     Rotation4.duration Hourly.Wage"
      ]
     },
     "metadata": {},
     "output_type": "display_data"
    }
   ],
   "source": [
    "result <- OD %>%\n",
    "    filter(Salary == 34098) \n",
    "result"
   ]
  },
  {
   "cell_type": "code",
   "execution_count": 27,
   "metadata": {
    "vscode": {
     "languageId": "r"
    }
   },
   "outputs": [
    {
     "data": {
      "text/html": [
       "3895"
      ],
      "text/latex": [
       "3895"
      ],
      "text/markdown": [
       "3895"
      ],
      "text/plain": [
       "[1] 3895"
      ]
     },
     "metadata": {},
     "output_type": "display_data"
    },
    {
     "data": {
      "image/png": "[encoded data removed]",
      "text/plain": [
       "plot without title"
      ]
     },
     "metadata": {
      "image/png": {
       "height": 420,
       "width": 420
      }
     },
     "output_type": "display_data"
    }
   ],
   "source": [
    "OD2324 <- read.csv(\"oriel2324.csv\")\n",
    "sum(OD2324$Places.Available)\n",
    "ggplot(OD2324, aes(x = Salary)) + \n",
    "  geom_histogram(binwidth = 1500) + \n",
    "  ggtitle(\"Histogram of Salary\") + \n",
    "  xlab(\"Salary\") + \n",
    "  ylab(\"Frequency\") +\n",
    "  scale_x_continuous(breaks = seq(20000, max(OD$Salary, na.rm = TRUE), by = 2500)) +\n",
    "  theme_bw() +\n",
    "  geom_vline(xintercept = 18600, color = \"red\") "
   ]
  },
  {
   "cell_type": "code",
   "execution_count": 32,
   "metadata": {
    "vscode": {
     "languageId": "r"
    }
   },
   "outputs": [
    {
     "ename": "ERROR",
     "evalue": "Error in install_github(\"bbc/bbplot\"): could not find function \"install_github\"\n",
     "output_type": "error",
     "traceback": [
      "Error in install_github(\"bbc/bbplot\"): could not find function \"install_github\"\nTraceback:\n"
     ]
    }
   ],
   "source": []
  }
 ],
 "metadata": {
  "kernelspec": {
   "display_name": "R",
   "language": "R",
   "name": "ir"
  },
  "language_info": {
   "codemirror_mode": "r",
   "file_extension": ".r",
   "mimetype": "text/x-r-source",
   "name": "R",
   "pygments_lexer": "r",
   "version": "4.4.1"
  }
 },
 "nbformat": 4,
 "nbformat_minor": 2
}
