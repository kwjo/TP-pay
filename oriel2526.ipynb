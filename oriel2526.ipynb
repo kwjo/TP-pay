{
 "cells": [
  {
   "cell_type": "markdown",
   "metadata": {},
   "source": [
    "TODO\n",
    "- [ ] Write methodology  \n",
    "- [ ] Remove irrelevant data columns in the preprocessing  \n",
    "- [ ] Salary above grant and living wage  \n",
    "- [ ] Number of places available per area + average and median salary by geography  \n",
    "- [ ] Number of visa available places over 3 years  \n",
    "- [ ] Number of split placements available over 3 years  \n",
    "- [ ] Salary by tye of placement  \n",
    "- [ ] Hourly wage graph with minimum wage (for 21+) and living wage  \n",
    "- [ ] Hours worked per week (expectation to work on the weekends and lates in hospitals)  \n",
    "\n",
    "\n",
    "\n",
    "- https://survey.stackoverflow.co/2024/\n",
    "- https://www.gov.uk/national-minimum-wage-rates\n",
    "\n",
    "- Make online database using openai API to summarise the programme description into quick bullet points with filter function e.g. geographical"
   ]
  },
  {
   "cell_type": "code",
   "execution_count": 16,
   "metadata": {
    "vscode": {
     "languageId": "r"
    }
   },
   "outputs": [],
   "source": [
    "library(dplyr)\n",
    "library(ggplot2)\n",
    "library(tidyr)\n",
    "library(openai)\n",
    "library(purrr)\n",
    "\n",
    "# Load the data\n",
    "OD2526 <- read.csv(\"oriel-training-year-2526.csv\")\n",
    "\n",
    "OD2425 <- read.csv(\"oriel-training-year-2425.csv\")\n",
    "\n",
    "OD2324 <- read.csv(\"oriel-training-year-2324.csv\")\n",
    "\n",
    "OD2223 <- read.csv(\"oriel-training-year-2223.csv\")"
   ]
  },
  {
   "cell_type": "code",
   "execution_count": 35,
   "metadata": {
    "vscode": {
     "languageId": "r"
    }
   },
   "outputs": [
    {
     "name": "stdout",
     "output_type": "stream",
     "text": [
      "[1] \"Columns 2526 and 2425: 14 string mismatches\"\n"
     ]
    },
    {
     "name": "stdout",
     "output_type": "stream",
     "text": [
      "[1] \"Columns 2526 and 2324: Lengths (39, 29) differ (string compare on first 29)\"\n",
      "[2] \"Columns 2526 and 2324: 29 string mismatches\"                                \n",
      "[1] \"Columns 2526 and 2223: Lengths (39, 29) differ (string compare on first 29)\"\n",
      "[2] \"Columns 2526 and 2223: 29 string mismatches\"                                \n",
      "[1] \"Columns 2425 and 2324: Lengths (39, 29) differ (string compare on first 29)\"\n",
      "[2] \"Columns 2425 and 2324: 29 string mismatches\"                                \n",
      "[1] \"Columns 2425 and 2223: Lengths (39, 29) differ (string compare on first 29)\"\n",
      "[2] \"Columns 2425 and 2223: 29 string mismatches\"                                \n",
      "[1] \"Columns 2324 and 2223: TRUE\"\n"
     ]
    }
   ],
   "source": [
    "# Check for colnames for each dataset\n",
    "colnames2526 <- colnames(OD2526)\n",
    "colnames2425 <- colnames(OD2425)\n",
    "colnames2324 <- colnames(OD2324)\n",
    "colnames2223 <- colnames(OD2223)\n",
    "\n",
    "equal_2526_2425 <- all.equal(colnames2526, colnames2425)\n",
    "equal_2526_2324 <- all.equal(colnames2526, colnames2324)\n",
    "equal_2526_2223 <- all.equal(colnames2526, colnames2223)\n",
    "equal_2425_2324 <- all.equal(colnames2425, colnames2324)\n",
    "equal_2425_2223 <- all.equal(colnames2425, colnames2223)\n",
    "equal_2324_2223 <- all.equal(colnames2324, colnames2223)\n",
    "\n",
    "print(paste(\"Columns 2526 and 2425:\", equal_2526_2425))\n",
    "print(paste(\"Columns 2526 and 2324:\", equal_2526_2324))\n",
    "print(paste(\"Columns 2526 and 2223:\", equal_2526_2223))\n",
    "print(paste(\"Columns 2425 and 2324:\", equal_2425_2324))\n",
    "print(paste(\"Columns 2425 and 2223:\", equal_2425_2223))\n",
    "print(paste(\"Columns 2324 and 2223:\", equal_2324_2223))"
   ]
  },
  {
   "cell_type": "code",
   "execution_count": 42,
   "metadata": {
    "vscode": {
     "languageId": "r"
    }
   },
   "outputs": [
    {
     "ename": "ERROR",
     "evalue": "\u001b[1m\u001b[33mError\u001b[39m in `setdiff()`:\u001b[22m\n\u001b[1m\u001b[22m\u001b[33m!\u001b[39m `x` and `y` are not compatible.\n\u001b[31m✖\u001b[39m Cols in `y` but not `x`: `ICS.Name`,\n  `Number.of.Placements..3.months.or.more.`, `Practice.Placement.Setting.1`,\n  `Length.of.Placement.1..3.months.or.more.`, `Practice.Placement.Setting.2`,\n  `Length.of.Placement.2..3.months.or.more.`, `Practice.Placement.Setting.3`,\n  `Length.of.Placement.3..3.months.or.more.`, `Practice.Placement.Setting.4`,\n  `Length.of.Placement.4..3.months.or.more.`, `Placement.1..SystemID`,\n  `Placement.2..SystemID`, `Placement.3..SystemID`, `Placement.4..SystemID`.\n\u001b[31m✖\u001b[39m Cols in `x` but not `y`: `ICB.Name`, `Number.of.Placements.Rotations`,\n  `Practice.Placement.Rotation.Setting.1`,\n  `Length.of.Placement.Rotation.1..weeks.`,\n  `Practice.Placement.Rotation.Setting.2`,\n  `Length.of.Placement.Rotation.2..weeks.`,\n  `Practice.Placement.Rotation.Setting.3`,\n  `Length.of.Placement.Rotation.3..weeks.`,\n  `Practice.Placement.Rotation.Setting.4`,\n  `Length.of.Placement.Rotation.4..weeks.`, `Placement.Rotation.1..SystemID`,\n  `Placement.Rotation.2..SystemID`, `Placement.Rotation.3..SystemID`,\n  `Placement.Rotation.4..SystemID`.\n",
     "output_type": "error",
     "traceback": [
      "\u001b[1m\u001b[33mError\u001b[39m in `setdiff()`:\u001b[22m\n\u001b[1m\u001b[22m\u001b[33m!\u001b[39m `x` and `y` are not compatible.\n\u001b[31m✖\u001b[39m Cols in `y` but not `x`: `ICS.Name`,\n  `Number.of.Placements..3.months.or.more.`, `Practice.Placement.Setting.1`,\n  `Length.of.Placement.1..3.months.or.more.`, `Practice.Placement.Setting.2`,\n  `Length.of.Placement.2..3.months.or.more.`, `Practice.Placement.Setting.3`,\n  `Length.of.Placement.3..3.months.or.more.`, `Practice.Placement.Setting.4`,\n  `Length.of.Placement.4..3.months.or.more.`, `Placement.1..SystemID`,\n  `Placement.2..SystemID`, `Placement.3..SystemID`, `Placement.4..SystemID`.\n\u001b[31m✖\u001b[39m Cols in `x` but not `y`: `ICB.Name`, `Number.of.Placements.Rotations`,\n  `Practice.Placement.Rotation.Setting.1`,\n  `Length.of.Placement.Rotation.1..weeks.`,\n  `Practice.Placement.Rotation.Setting.2`,\n  `Length.of.Placement.Rotation.2..weeks.`,\n  `Practice.Placement.Rotation.Setting.3`,\n  `Length.of.Placement.Rotation.3..weeks.`,\n  `Practice.Placement.Rotation.Setting.4`,\n  `Length.of.Placement.Rotation.4..weeks.`, `Placement.Rotation.1..SystemID`,\n  `Placement.Rotation.2..SystemID`, `Placement.Rotation.3..SystemID`,\n  `Placement.Rotation.4..SystemID`.\nTraceback:\n",
      "1. setdiff(OD2526, OD2425)",
      "2. setdiff.data.frame(OD2526, OD2425)",
      "3. check_compatible(x, y)",
      "4. abort(c(\"`x` and `y` are not compatible.\", compat), call = error_call)",
      "5. signal_abort(cnd, .file)"
     ]
    }
   ],
   "source": []
  },
  {
   "cell_type": "code",
   "execution_count": null,
   "metadata": {
    "vscode": {
     "languageId": "r"
    }
   },
   "outputs": [],
   "source": [
    "OD <- as.data.frame(OD) \n",
    "\n",
    "names(OD)[names(OD) == \"Salary....\"] <- \"Salary\"\n",
    "names(OD)[names(OD) == \"Skilled.worker.visa\"] <- \"Visa\"\n",
    "names(OD)[names(OD) == \"Hours.per.Week\"] <- \"Working.hours\"\n",
    "names(OD)[names(OD) == \"Practice.Placement.Rotation.Setting.1\"] <- \"Rotation1\"\n",
    "names(OD)[names(OD) == \"Length.of.Placement.Rotation.1..weeks.\"] <- \"Rotation1.duration\"\n",
    "names(OD)[names(OD) == \"Practice.Placement.Rotation.Setting.2\"] <- \"Rotation2\"\n",
    "names(OD)[names(OD) == \"Length.of.Placement.Rotation.2..weeks.\"] <- \"Rotation2.duration\"\n",
    "names(OD)[names(OD) == \"Practice.Placement.Rotation.Setting.3\"] <- \"Rotation3\"\n",
    "names(OD)[names(OD) == \"Length.of.Placement.Rotation.3..weeks.\"] <- \"Rotation3.duration\"\n",
    "names(OD)[names(OD) == \"Practice.Placement.Rotation.Setting.4\"] <- \"Rotation4\"\n",
    "names(OD)[names(OD) == \"Length.of.Placement.Rotation.4..weeks.\"] <- \"Rotation4.duration\"\n",
    "\n",
    "colnames(OD)\n",
    "dim(OD)  \n",
    "\n",
    "#Classify the type of training\n",
    "OD$Training.type <- ifelse(OD$Rotation1.duration >= OD$Rotation2.duration + 13, \"Non-split\", \n",
    "                                      ifelse(OD$Rotation1.duration == OD$Rotation2.duration, \"Split\", \"Other\"))\n"
   ]
  },
  {
   "cell_type": "code",
   "execution_count": null,
   "metadata": {
    "vscode": {
     "languageId": "r"
    }
   },
   "outputs": [],
   "source": [
    "keeps <- c(\"Training.type\",\"Employer.Type\", \"Region\", \"Sector\", \"Programme.Title\", \"Visa\", \"Salary\", \"Places.Available\", \"Working.hours\",\n",
    "           \"Rotation1\", \"Rotation1.duration\", \"Rotation2\", \"Rotation2.duration\", \"Rotation3\", \"Rotation3.duration\", \"Rotation4\", \"Rotation4.duration\")\n",
    "           \n",
    "OD <- OD[keeps]\n",
    "colnames(OD)\n",
    "OD$Hourly.Wage <- OD$Salary/52/OD$Working.hours\n",
    "OD$Visa <- as.factor(OD$Visa)"
   ]
  },
  {
   "cell_type": "code",
   "execution_count": null,
   "metadata": {
    "vscode": {
     "languageId": "r"
    }
   },
   "outputs": [],
   "source": [
    "library(ggplot2)\n",
    "\n",
    "# Define the plot for Hours Worked per Week\n",
    "hours.worked.plot <- ggplot(OD, aes(x = Working.hours)) + \n",
    "  geom_histogram(binwidth = 1) + \n",
    "  ggtitle(\"Histogram of Hours Worked per Week\") + \n",
    "  xlab(\"Hours per Week\") + \n",
    "  ylab(\"Frequency\") +\n",
    "  scale_x_continuous(breaks = seq(0, max(OD$Working.hours, na.rm = TRUE), by = 5))\n",
    "\n",
    "# Display the plot\n",
    "hours.worked.plot\n"
   ]
  },
  {
   "cell_type": "code",
   "execution_count": null,
   "metadata": {
    "vscode": {
     "languageId": "r"
    }
   },
   "outputs": [],
   "source": [
    "# Define the plot for Salary with meaningful intervals\n",
    "salary.plot <- ggplot(OD, aes(x = Salary)) + \n",
    "  geom_histogram(binwidth = 500) + \n",
    "  ggtitle(\"Histogram of Salary\") + \n",
    "  xlab(\"Salary\") + \n",
    "  ylab(\"Frequency\") +\n",
    "  scale_x_continuous(breaks = seq(20000, max(OD$Salary, na.rm = TRUE), by = 2500))\n",
    "\n",
    "# Display the plot\n",
    "\n",
    "length(unique(OD$Salary))\n",
    "unique(OD$Salary)\n",
    "\n",
    "# Define the plot for Salary with meaningful intervals\n",
    "salary.plot <- ggplot(OD, aes(x = Salary)) + \n",
    "  geom_histogram(binwidth = 1500) + \n",
    "  ggtitle(\"Histogram of Salary\") + \n",
    "  xlab(\"Salary\") + \n",
    "  ylab(\"Frequency\") +\n",
    "  scale_x_continuous(breaks = seq(20000, max(OD$Salary, na.rm = TRUE), by = 2500)) +\n",
    "  theme_bw() +\n",
    "  geom_vline(xintercept = 25600, color = \"red\") \n",
    "\n",
    "        \n",
    "\n",
    "salary.plot\n",
    "\n"
   ]
  },
  {
   "cell_type": "code",
   "execution_count": null,
   "metadata": {
    "vscode": {
     "languageId": "r"
    }
   },
   "outputs": [],
   "source": [
    "community.pharmacy.average.salary <- mean(OD$Salary[OD$Employer.Type == \"Primary Care\"], na.rm = TRUE)\n",
    "community.pharmacy.average.salary\n",
    "community.min.salary <- min(OD$Salary[OD$Employer.Type == \"Primary Care\"], na.rm = TRUE)\n",
    "community.max.salary <- max(OD$Salary[OD$Employer.Type == \"Primary Care\"], na.rm = TRUE)\n",
    "paste0(\"The average salary for community pharmacy is \", community.pharmacy.average.salary, \" with a minimum of \", community.min.salary, \" and a maximum of \", community.max.salary)\n",
    "\n",
    "hospital.pharmacy.average.salary <- mean(OD$Salary[OD$Employer.Type == \"Hospital\"], na.rm = TRUE)\n",
    "hospital.pharmacy.average.salary\n",
    "hospital.min.salary <- min(OD$Salary[OD$Employer.Type == \"Hospital\"], na.rm = TRUE)\n",
    "hospital.max.salary <- max(OD$Salary[OD$Employer.Type == \"Hospital\"], na.rm = TRUE)\n",
    "paste0(\"The average salary for hospital pharmacy is \", hospital.pharmacy.average.salary, \" with a minimum of \", hospital.min.salary, \" and a maximum of \", hospital.max.salary)"
   ]
  },
  {
   "cell_type": "code",
   "execution_count": null,
   "metadata": {
    "vscode": {
     "languageId": "r"
    }
   },
   "outputs": [],
   "source": [
    "num_hosp <- filter(OD, Employer.Type == \"Hospital\") %>% nrow()  \n",
    "num_hosp\n",
    "\n",
    "soreted_salary <- OD[order(-OD$Salary),]\n",
    "# head(soreted_salary)\n",
    "\n",
    "# 34098 might be a wrong salary\n",
    "\n",
    "OD <- OD %>% mutate(Salary = ifelse(Salary == 34098,34089,Salary))\n",
    "soreted_salary[70,]\n",
    "soreted_salary[80,]\n",
    "\n",
    "#https://faq.nhsbsa.nhs.uk/knowledgebase/article/KA-23439/en-us\n",
    "#https://www.healthcareers.nhs.uk/working-health/working-nhs/nhs-pay-and-benefits/agenda-change-pay-rates\n",
    "\n",
    "\n",
    "num_hosp_with_london_weighting <- filter(OD, Employer.Type == \"Hospital\" & Salary == 34089) %>% nrow()  \n",
    "num_hosp_with_london_weighting\n",
    "# This is not the total number of places available in hospitals, but the number of programmes with London weighting"
   ]
  },
  {
   "cell_type": "code",
   "execution_count": null,
   "metadata": {
    "vscode": {
     "languageId": "r"
    }
   },
   "outputs": [],
   "source": [
    "result <- OD %>%\n",
    "    filter(Salary == 34098) \n",
    "result"
   ]
  },
  {
   "cell_type": "code",
   "execution_count": null,
   "metadata": {
    "vscode": {
     "languageId": "r"
    }
   },
   "outputs": [],
   "source": [
    "OD2324 <- read.csv(\"oriel2324.csv\")\n",
    "sum(OD2324$Places.Available)\n",
    "ggplot(OD2324, aes(x = Salary)) + \n",
    "  geom_histogram(binwidth = 1500) + \n",
    "  ggtitle(\"Histogram of Salary\") + \n",
    "  xlab(\"Salary\") + \n",
    "  ylab(\"Frequency\") +\n",
    "  scale_x_continuous(breaks = seq(20000, max(OD$Salary, na.rm = TRUE), by = 2500)) +\n",
    "  theme_bw() +\n",
    "  geom_vline(xintercept = 18600, color = \"red\") "
   ]
  },
  {
   "cell_type": "code",
   "execution_count": null,
   "metadata": {
    "vscode": {
     "languageId": "r"
    }
   },
   "outputs": [],
   "source": [
    "#Expand the data frame to reflect true number of places available\n",
    "sample_plot <- OD %>%\n",
    "    uncount(Places.Available) \n",
    "\n",
    "colnames(sample_plot)\n",
    "\n",
    "ggplot(sample_plot, aes(x = Salary)) + \n",
    "  geom_histogram(binwidth = 1500) + \n",
    "  ggtitle(\"Histogram of Salary\") + \n",
    "  xlab(\"Salary\") + \n",
    "  ylab(\"Frequency\") +\n",
    "  theme_bw() +\n",
    "  geom_vline(xintercept = 25600, color = \"red\")\n",
    "\n",
    "colnames(OD)"
   ]
  },
  {
   "cell_type": "code",
   "execution_count": null,
   "metadata": {
    "vscode": {
     "languageId": "r"
    }
   },
   "outputs": [],
   "source": [
    "colnames(OD2324)\n",
    "OD2324_expanded <- OD2324 %>%\n",
    "    uncount(Places.Available) \n",
    "\n",
    "ggplot(OD2324_expanded, aes(x = Salary)) + \n",
    "  geom_histogram(binwidth = 1500) + \n",
    "  ggtitle(\"Histogram of Salary\") + \n",
    "  xlab(\"Salary\") + \n",
    "  ylab(\"Frequency\") +\n",
    "  theme_bw() +\n",
    "  geom_vline(xintercept = 18600, color = \"red\")\n",
    "\n",
    "count(OD2324_expanded)"
   ]
  },
  {
   "cell_type": "code",
   "execution_count": null,
   "metadata": {
    "vscode": {
     "languageId": "r"
    }
   },
   "outputs": [],
   "source": [
    "readRenviron(\"/.renviron\")"
   ]
  },
  {
   "cell_type": "code",
   "execution_count": null,
   "metadata": {
    "vscode": {
     "languageId": "r"
    }
   },
   "outputs": [],
   "source": [
    "OPENAI_API_KEY <- Sys.getenv(\"open_ai_api_key\")\n",
    "\n",
    "Sys.setenv(\n",
    "    OPENAI_API_KEY = OPENAI_API_KEY\n",
    ")"
   ]
  },
  {
   "cell_type": "code",
   "execution_count": null,
   "metadata": {
    "vscode": {
     "languageId": "r"
    }
   },
   "outputs": [],
   "source": [
    "sample_programme_description = sample_OD$Programme.Description[2106]\n",
    "\n",
    "sample_prompt = paste0(\"List three very brief bullet points why this programme is good and create relevant tags for sorting: \", sample_programme_description)"
   ]
  },
  {
   "cell_type": "code",
   "execution_count": null,
   "metadata": {
    "vscode": {
     "languageId": "r"
    }
   },
   "outputs": [],
   "source": [
    "sample_OD$Programme.Description[2106]\n"
   ]
  },
  {
   "cell_type": "code",
   "execution_count": null,
   "metadata": {
    "vscode": {
     "languageId": "r"
    }
   },
   "outputs": [],
   "source": [
    "example_gpt <- create_chat_completion(\n",
    "    model = \"gpt-3.5-turbo\",\n",
    "    messages = list(\n",
    "        list(\n",
    "            \"role\" = \"user\",\n",
    "            \"content\" = sample_prompt\n",
    "        )\n",
    "    )\n",
    ")\n",
    "example_gpt"
   ]
  },
  {
   "cell_type": "code",
   "execution_count": null,
   "metadata": {
    "vscode": {
     "languageId": "r"
    }
   },
   "outputs": [],
   "source": [
    "example_gpt$choices$message.content"
   ]
  }
 ],
 "metadata": {
  "kernelspec": {
   "display_name": "R",
   "language": "R",
   "name": "ir"
  },
  "language_info": {
   "codemirror_mode": "r",
   "file_extension": ".r",
   "mimetype": "text/x-r-source",
   "name": "R",
   "pygments_lexer": "r",
   "version": "4.4.1"
  }
 },
 "nbformat": 4,
 "nbformat_minor": 2
}
